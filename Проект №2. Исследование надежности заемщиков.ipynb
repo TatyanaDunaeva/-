{
 "cells": [
  {
   "cell_type": "markdown",
   "id": "1b59813a",
   "metadata": {},
   "source": [
    "# Исследование надежности заемщиков."
   ]
  },
  {
   "cell_type": "markdown",
   "id": "75861558",
   "metadata": {},
   "source": [
    "Существует достаточно много факторов, способных оказывать влияние на оценку надежности клиента банка, планирующего получить заем. В рамках данного исследования будет проведена оценка заемщика с точки зрения состава семьи.\n",
    "\n",
    "\n",
    "**Цель исследования** — проверить гипотезу:\n",
    "Семейное положение и наличие/количество детей оказывают влияние на факт погашения кредита в срок.\n",
    "\n",
    "**Ход исследования**\n",
    "\n",
    "Данные представлены в файле: `/datasets/data.csv`- это статистические данные о платежеспособности клиентов от банка.  О качестве данных ничего не известно. Поэтому перед проверкой гипотез понадобится обзор данных. \n",
    "\n",
    "Исследование планируется провести в несколько этапов:\n",
    " 1. Обзор данных.\n",
    " 2. Предобработка данных.\n",
    " 3. Проверка гипотезы, ответы на вопросы по проекту и формирование общего вывода.\n",
    " \n",
    "Результаты исследования будут учтены при построении модели кредитного скоринга — специальной системы, которая оценивает способность потенциального заёмщика вернуть кредит банку."
   ]
  },
  {
   "cell_type": "markdown",
   "id": "a0704f52",
   "metadata": {},
   "source": [
    "## Обзор данных\n",
    "\n",
    "Первым шагом в исследовании необходимо ознакомиться с данными."
   ]
  },
  {
   "cell_type": "markdown",
   "id": "b36ee4df",
   "metadata": {},
   "source": [
    "### Шаг 1. Обзор данных"
   ]
  },
  {
   "cell_type": "code",
   "execution_count": 1,
   "id": "60c26292",
   "metadata": {},
   "outputs": [],
   "source": [
    "# импорт библиотеки pandas и numpy\n",
    "import pandas as pd\n",
    "import numpy as np"
   ]
  },
  {
   "cell_type": "code",
   "execution_count": 2,
   "id": "da2118b2",
   "metadata": {},
   "outputs": [],
   "source": [
    "# чтение файла с данными и сохранение в df с использованием конструкции try .. excep\n",
    "try:\n",
    "    df = pd.read_csv('C:/Users/Student/Desktop/data.csv')\n",
    "except:\n",
    "    df = pd.read_csv('/datasets/data.csv')"
   ]
  },
  {
   "cell_type": "code",
   "execution_count": 3,
   "id": "c7cab68d",
   "metadata": {},
   "outputs": [
    {
     "data": {
      "text/html": [
       "<div>\n",
       "<style scoped>\n",
       "    .dataframe tbody tr th:only-of-type {\n",
       "        vertical-align: middle;\n",
       "    }\n",
       "\n",
       "    .dataframe tbody tr th {\n",
       "        vertical-align: top;\n",
       "    }\n",
       "\n",
       "    .dataframe thead th {\n",
       "        text-align: right;\n",
       "    }\n",
       "</style>\n",
       "<table border=\"1\" class=\"dataframe\">\n",
       "  <thead>\n",
       "    <tr style=\"text-align: right;\">\n",
       "      <th></th>\n",
       "      <th>children</th>\n",
       "      <th>days_employed</th>\n",
       "      <th>dob_years</th>\n",
       "      <th>education</th>\n",
       "      <th>education_id</th>\n",
       "      <th>family_status</th>\n",
       "      <th>family_status_id</th>\n",
       "      <th>gender</th>\n",
       "      <th>income_type</th>\n",
       "      <th>debt</th>\n",
       "      <th>total_income</th>\n",
       "      <th>purpose</th>\n",
       "    </tr>\n",
       "  </thead>\n",
       "  <tbody>\n",
       "    <tr>\n",
       "      <th>0</th>\n",
       "      <td>1</td>\n",
       "      <td>-8437.673028</td>\n",
       "      <td>42</td>\n",
       "      <td>высшее</td>\n",
       "      <td>0</td>\n",
       "      <td>женат / замужем</td>\n",
       "      <td>0</td>\n",
       "      <td>F</td>\n",
       "      <td>сотрудник</td>\n",
       "      <td>0</td>\n",
       "      <td>253875.639453</td>\n",
       "      <td>покупка жилья</td>\n",
       "    </tr>\n",
       "    <tr>\n",
       "      <th>1</th>\n",
       "      <td>1</td>\n",
       "      <td>-4024.803754</td>\n",
       "      <td>36</td>\n",
       "      <td>среднее</td>\n",
       "      <td>1</td>\n",
       "      <td>женат / замужем</td>\n",
       "      <td>0</td>\n",
       "      <td>F</td>\n",
       "      <td>сотрудник</td>\n",
       "      <td>0</td>\n",
       "      <td>112080.014102</td>\n",
       "      <td>приобретение автомобиля</td>\n",
       "    </tr>\n",
       "    <tr>\n",
       "      <th>2</th>\n",
       "      <td>0</td>\n",
       "      <td>-5623.422610</td>\n",
       "      <td>33</td>\n",
       "      <td>Среднее</td>\n",
       "      <td>1</td>\n",
       "      <td>женат / замужем</td>\n",
       "      <td>0</td>\n",
       "      <td>M</td>\n",
       "      <td>сотрудник</td>\n",
       "      <td>0</td>\n",
       "      <td>145885.952297</td>\n",
       "      <td>покупка жилья</td>\n",
       "    </tr>\n",
       "    <tr>\n",
       "      <th>3</th>\n",
       "      <td>3</td>\n",
       "      <td>-4124.747207</td>\n",
       "      <td>32</td>\n",
       "      <td>среднее</td>\n",
       "      <td>1</td>\n",
       "      <td>женат / замужем</td>\n",
       "      <td>0</td>\n",
       "      <td>M</td>\n",
       "      <td>сотрудник</td>\n",
       "      <td>0</td>\n",
       "      <td>267628.550329</td>\n",
       "      <td>дополнительное образование</td>\n",
       "    </tr>\n",
       "    <tr>\n",
       "      <th>4</th>\n",
       "      <td>0</td>\n",
       "      <td>340266.072047</td>\n",
       "      <td>53</td>\n",
       "      <td>среднее</td>\n",
       "      <td>1</td>\n",
       "      <td>гражданский брак</td>\n",
       "      <td>1</td>\n",
       "      <td>F</td>\n",
       "      <td>пенсионер</td>\n",
       "      <td>0</td>\n",
       "      <td>158616.077870</td>\n",
       "      <td>сыграть свадьбу</td>\n",
       "    </tr>\n",
       "    <tr>\n",
       "      <th>5</th>\n",
       "      <td>0</td>\n",
       "      <td>-926.185831</td>\n",
       "      <td>27</td>\n",
       "      <td>высшее</td>\n",
       "      <td>0</td>\n",
       "      <td>гражданский брак</td>\n",
       "      <td>1</td>\n",
       "      <td>M</td>\n",
       "      <td>компаньон</td>\n",
       "      <td>0</td>\n",
       "      <td>255763.565419</td>\n",
       "      <td>покупка жилья</td>\n",
       "    </tr>\n",
       "    <tr>\n",
       "      <th>6</th>\n",
       "      <td>0</td>\n",
       "      <td>-2879.202052</td>\n",
       "      <td>43</td>\n",
       "      <td>высшее</td>\n",
       "      <td>0</td>\n",
       "      <td>женат / замужем</td>\n",
       "      <td>0</td>\n",
       "      <td>F</td>\n",
       "      <td>компаньон</td>\n",
       "      <td>0</td>\n",
       "      <td>240525.971920</td>\n",
       "      <td>операции с жильем</td>\n",
       "    </tr>\n",
       "    <tr>\n",
       "      <th>7</th>\n",
       "      <td>0</td>\n",
       "      <td>-152.779569</td>\n",
       "      <td>50</td>\n",
       "      <td>СРЕДНЕЕ</td>\n",
       "      <td>1</td>\n",
       "      <td>женат / замужем</td>\n",
       "      <td>0</td>\n",
       "      <td>M</td>\n",
       "      <td>сотрудник</td>\n",
       "      <td>0</td>\n",
       "      <td>135823.934197</td>\n",
       "      <td>образование</td>\n",
       "    </tr>\n",
       "    <tr>\n",
       "      <th>8</th>\n",
       "      <td>2</td>\n",
       "      <td>-6929.865299</td>\n",
       "      <td>35</td>\n",
       "      <td>ВЫСШЕЕ</td>\n",
       "      <td>0</td>\n",
       "      <td>гражданский брак</td>\n",
       "      <td>1</td>\n",
       "      <td>F</td>\n",
       "      <td>сотрудник</td>\n",
       "      <td>0</td>\n",
       "      <td>95856.832424</td>\n",
       "      <td>на проведение свадьбы</td>\n",
       "    </tr>\n",
       "    <tr>\n",
       "      <th>9</th>\n",
       "      <td>0</td>\n",
       "      <td>-2188.756445</td>\n",
       "      <td>41</td>\n",
       "      <td>среднее</td>\n",
       "      <td>1</td>\n",
       "      <td>женат / замужем</td>\n",
       "      <td>0</td>\n",
       "      <td>M</td>\n",
       "      <td>сотрудник</td>\n",
       "      <td>0</td>\n",
       "      <td>144425.938277</td>\n",
       "      <td>покупка жилья для семьи</td>\n",
       "    </tr>\n",
       "  </tbody>\n",
       "</table>\n",
       "</div>"
      ],
      "text/plain": [
       "   children  days_employed  dob_years education  education_id  \\\n",
       "0         1   -8437.673028         42    высшее             0   \n",
       "1         1   -4024.803754         36   среднее             1   \n",
       "2         0   -5623.422610         33   Среднее             1   \n",
       "3         3   -4124.747207         32   среднее             1   \n",
       "4         0  340266.072047         53   среднее             1   \n",
       "5         0    -926.185831         27    высшее             0   \n",
       "6         0   -2879.202052         43    высшее             0   \n",
       "7         0    -152.779569         50   СРЕДНЕЕ             1   \n",
       "8         2   -6929.865299         35    ВЫСШЕЕ             0   \n",
       "9         0   -2188.756445         41   среднее             1   \n",
       "\n",
       "      family_status  family_status_id gender income_type  debt   total_income  \\\n",
       "0   женат / замужем                 0      F   сотрудник     0  253875.639453   \n",
       "1   женат / замужем                 0      F   сотрудник     0  112080.014102   \n",
       "2   женат / замужем                 0      M   сотрудник     0  145885.952297   \n",
       "3   женат / замужем                 0      M   сотрудник     0  267628.550329   \n",
       "4  гражданский брак                 1      F   пенсионер     0  158616.077870   \n",
       "5  гражданский брак                 1      M   компаньон     0  255763.565419   \n",
       "6   женат / замужем                 0      F   компаньон     0  240525.971920   \n",
       "7   женат / замужем                 0      M   сотрудник     0  135823.934197   \n",
       "8  гражданский брак                 1      F   сотрудник     0   95856.832424   \n",
       "9   женат / замужем                 0      M   сотрудник     0  144425.938277   \n",
       "\n",
       "                      purpose  \n",
       "0               покупка жилья  \n",
       "1     приобретение автомобиля  \n",
       "2               покупка жилья  \n",
       "3  дополнительное образование  \n",
       "4             сыграть свадьбу  \n",
       "5               покупка жилья  \n",
       "6           операции с жильем  \n",
       "7                 образование  \n",
       "8       на проведение свадьбы  \n",
       "9     покупка жилья для семьи  "
      ]
     },
     "execution_count": 3,
     "metadata": {},
     "output_type": "execute_result"
    }
   ],
   "source": [
    "# вывод первых 10 срок df\n",
    "df.head(10)"
   ]
  },
  {
   "cell_type": "code",
   "execution_count": 4,
   "id": "5aa5aa13",
   "metadata": {},
   "outputs": [
    {
     "data": {
      "text/html": [
       "<div>\n",
       "<style scoped>\n",
       "    .dataframe tbody tr th:only-of-type {\n",
       "        vertical-align: middle;\n",
       "    }\n",
       "\n",
       "    .dataframe tbody tr th {\n",
       "        vertical-align: top;\n",
       "    }\n",
       "\n",
       "    .dataframe thead th {\n",
       "        text-align: right;\n",
       "    }\n",
       "</style>\n",
       "<table border=\"1\" class=\"dataframe\">\n",
       "  <thead>\n",
       "    <tr style=\"text-align: right;\">\n",
       "      <th></th>\n",
       "      <th>children</th>\n",
       "      <th>days_employed</th>\n",
       "      <th>dob_years</th>\n",
       "      <th>education</th>\n",
       "      <th>education_id</th>\n",
       "      <th>family_status</th>\n",
       "      <th>family_status_id</th>\n",
       "      <th>gender</th>\n",
       "      <th>income_type</th>\n",
       "      <th>debt</th>\n",
       "      <th>total_income</th>\n",
       "      <th>purpose</th>\n",
       "    </tr>\n",
       "  </thead>\n",
       "  <tbody>\n",
       "    <tr>\n",
       "      <th>21520</th>\n",
       "      <td>1</td>\n",
       "      <td>-4529.316663</td>\n",
       "      <td>43</td>\n",
       "      <td>среднее</td>\n",
       "      <td>1</td>\n",
       "      <td>гражданский брак</td>\n",
       "      <td>1</td>\n",
       "      <td>F</td>\n",
       "      <td>компаньон</td>\n",
       "      <td>0</td>\n",
       "      <td>224791.862382</td>\n",
       "      <td>операции с жильем</td>\n",
       "    </tr>\n",
       "    <tr>\n",
       "      <th>21521</th>\n",
       "      <td>0</td>\n",
       "      <td>343937.404131</td>\n",
       "      <td>67</td>\n",
       "      <td>среднее</td>\n",
       "      <td>1</td>\n",
       "      <td>женат / замужем</td>\n",
       "      <td>0</td>\n",
       "      <td>F</td>\n",
       "      <td>пенсионер</td>\n",
       "      <td>0</td>\n",
       "      <td>155999.806512</td>\n",
       "      <td>сделка с автомобилем</td>\n",
       "    </tr>\n",
       "    <tr>\n",
       "      <th>21522</th>\n",
       "      <td>1</td>\n",
       "      <td>-2113.346888</td>\n",
       "      <td>38</td>\n",
       "      <td>среднее</td>\n",
       "      <td>1</td>\n",
       "      <td>гражданский брак</td>\n",
       "      <td>1</td>\n",
       "      <td>M</td>\n",
       "      <td>сотрудник</td>\n",
       "      <td>1</td>\n",
       "      <td>89672.561153</td>\n",
       "      <td>недвижимость</td>\n",
       "    </tr>\n",
       "    <tr>\n",
       "      <th>21523</th>\n",
       "      <td>3</td>\n",
       "      <td>-3112.481705</td>\n",
       "      <td>38</td>\n",
       "      <td>среднее</td>\n",
       "      <td>1</td>\n",
       "      <td>женат / замужем</td>\n",
       "      <td>0</td>\n",
       "      <td>M</td>\n",
       "      <td>сотрудник</td>\n",
       "      <td>1</td>\n",
       "      <td>244093.050500</td>\n",
       "      <td>на покупку своего автомобиля</td>\n",
       "    </tr>\n",
       "    <tr>\n",
       "      <th>21524</th>\n",
       "      <td>2</td>\n",
       "      <td>-1984.507589</td>\n",
       "      <td>40</td>\n",
       "      <td>среднее</td>\n",
       "      <td>1</td>\n",
       "      <td>женат / замужем</td>\n",
       "      <td>0</td>\n",
       "      <td>F</td>\n",
       "      <td>сотрудник</td>\n",
       "      <td>0</td>\n",
       "      <td>82047.418899</td>\n",
       "      <td>на покупку автомобиля</td>\n",
       "    </tr>\n",
       "  </tbody>\n",
       "</table>\n",
       "</div>"
      ],
      "text/plain": [
       "       children  days_employed  dob_years education  education_id  \\\n",
       "21520         1   -4529.316663         43   среднее             1   \n",
       "21521         0  343937.404131         67   среднее             1   \n",
       "21522         1   -2113.346888         38   среднее             1   \n",
       "21523         3   -3112.481705         38   среднее             1   \n",
       "21524         2   -1984.507589         40   среднее             1   \n",
       "\n",
       "          family_status  family_status_id gender income_type  debt  \\\n",
       "21520  гражданский брак                 1      F   компаньон     0   \n",
       "21521   женат / замужем                 0      F   пенсионер     0   \n",
       "21522  гражданский брак                 1      M   сотрудник     1   \n",
       "21523   женат / замужем                 0      M   сотрудник     1   \n",
       "21524   женат / замужем                 0      F   сотрудник     0   \n",
       "\n",
       "        total_income                       purpose  \n",
       "21520  224791.862382             операции с жильем  \n",
       "21521  155999.806512          сделка с автомобилем  \n",
       "21522   89672.561153                  недвижимость  \n",
       "21523  244093.050500  на покупку своего автомобиля  \n",
       "21524   82047.418899         на покупку автомобиля  "
      ]
     },
     "execution_count": 4,
     "metadata": {},
     "output_type": "execute_result"
    }
   ],
   "source": [
    "# вывод последних пяти строк данных\n",
    "df.tail()"
   ]
  },
  {
   "cell_type": "code",
   "execution_count": 5,
   "id": "456daa8b",
   "metadata": {},
   "outputs": [
    {
     "name": "stdout",
     "output_type": "stream",
     "text": [
      "<class 'pandas.core.frame.DataFrame'>\n",
      "RangeIndex: 21525 entries, 0 to 21524\n",
      "Data columns (total 12 columns):\n",
      " #   Column            Non-Null Count  Dtype  \n",
      "---  ------            --------------  -----  \n",
      " 0   children          21525 non-null  int64  \n",
      " 1   days_employed     19351 non-null  float64\n",
      " 2   dob_years         21525 non-null  int64  \n",
      " 3   education         21525 non-null  object \n",
      " 4   education_id      21525 non-null  int64  \n",
      " 5   family_status     21525 non-null  object \n",
      " 6   family_status_id  21525 non-null  int64  \n",
      " 7   gender            21525 non-null  object \n",
      " 8   income_type       21525 non-null  object \n",
      " 9   debt              21525 non-null  int64  \n",
      " 10  total_income      19351 non-null  float64\n",
      " 11  purpose           21525 non-null  object \n",
      "dtypes: float64(2), int64(5), object(5)\n",
      "memory usage: 2.0+ MB\n"
     ]
    }
   ],
   "source": [
    "# получение общей информации о данных\n",
    "df.info()"
   ]
  },
  {
   "cell_type": "markdown",
   "id": "11461724",
   "metadata": {},
   "source": [
    "Общая информация о данных:\n",
    "В таблице 12 столбцов, и 21525 строк с данными. Типы данных: в 2-х столбцах - float, в пяти столбцах - int, еще в пяти слобцах - obj.\n",
    "\n",
    "Согласное документации к данным:\n",
    "* `children` — количество детей в семье;\n",
    "* `days_employed` — общий трудовой стаж в днях;  \n",
    "* `dob_years` — возраст клиента в годах;\n",
    "* `education` — уровень образования клиента;\n",
    "* `education_id` — идентификатор уровня образования;\n",
    "* `family_status` — семейное положение;\n",
    "* `family_status_id` — идентификатор семейного положения;\n",
    "* `gender` — пол клиента;\n",
    "* `income_type` — тип занятости;\n",
    "* `debt` — имел ли задолженность по возврату кредитов;\n",
    "* `total_income` — ежемесячный доход;\n",
    "* `purpose` — цель получения кредита.\n",
    "\n",
    "Нарушений стиля в названиях колонок нет.\n",
    "\n",
    "Количество значений в столбцах различается. Значит, в данных есть пропущенные значения."
   ]
  },
  {
   "cell_type": "markdown",
   "id": "9bdabf7e",
   "metadata": {},
   "source": [
    "**Выводы**\n",
    "\n",
    "В каждой строке таблицы — данные о заемщике. Большая часть колонок описывает непосредственно заемщика, его ссемейное положение, образование, пол, ежемесячный доход. Часть колонок описывает его, как получателя кредита: определена цель получения кредита и наличие задолженности по возврату кредита.\n",
    "\n",
    "Предварительно можно утверждать, что данных достаточно для проверки гипотезы и проведения исследования. Но встречаются пропуски в данных."
   ]
  },
  {
   "cell_type": "markdown",
   "id": "d5f4f2a5",
   "metadata": {},
   "source": [
    "## Предобработка данных"
   ]
  },
  {
   "cell_type": "markdown",
   "id": "12711301",
   "metadata": {},
   "source": [
    "В данном разделе рассмотрим основные типы данных, оценим пропущенные данные и заполним их подходящими значениями, определим основные аномалии и ошибки в датасете, удалим явные и неявные дубликаты, проведем категоризацию данных с помощью функций. "
   ]
  },
  {
   "cell_type": "markdown",
   "id": "cca1cbf8",
   "metadata": {},
   "source": [
    "### Шаг 1. Заполнение пропущенных данных. "
   ]
  },
  {
   "cell_type": "markdown",
   "id": "d2fd3c4a",
   "metadata": {},
   "source": [
    "#### Определение общего количества пропусков по столбцам."
   ]
  },
  {
   "cell_type": "code",
   "execution_count": 6,
   "id": "dcbee963",
   "metadata": {
    "scrolled": true
   },
   "outputs": [
    {
     "data": {
      "text/plain": [
       "children               0\n",
       "days_employed       2174\n",
       "dob_years              0\n",
       "education              0\n",
       "education_id           0\n",
       "family_status          0\n",
       "family_status_id       0\n",
       "gender                 0\n",
       "income_type            0\n",
       "debt                   0\n",
       "total_income        2174\n",
       "purpose                0\n",
       "dtype: int64"
      ]
     },
     "execution_count": 6,
     "metadata": {},
     "output_type": "execute_result"
    }
   ],
   "source": [
    "# подсчет пропусков\n",
    "df.isna().sum()"
   ]
  },
  {
   "cell_type": "markdown",
   "id": "06f0d5e7",
   "metadata": {},
   "source": [
    "Пропуски встречаются в столбцах days_employed и total_income. В столбцах датасета представлены количественные данные, поэтому необходимо заполнить пропуски характерными значениями.\n",
    "Необходимо отметить, что встречаются отрицательные значения в столбце days_employed. Необходимо рассмотреть данные в этих столбцах подробнее, определить аномалии.\n"
   ]
  },
  {
   "cell_type": "code",
   "execution_count": 7,
   "id": "1aab42ca",
   "metadata": {},
   "outputs": [],
   "source": [
    "# перевод значений столбца days_employed к положительным значениям\n",
    "df['days_employed'] = abs(df['days_employed'])\n"
   ]
  },
  {
   "cell_type": "code",
   "execution_count": 8,
   "id": "9004b1cb",
   "metadata": {},
   "outputs": [
    {
     "data": {
      "text/html": [
       "<div>\n",
       "<style scoped>\n",
       "    .dataframe tbody tr th:only-of-type {\n",
       "        vertical-align: middle;\n",
       "    }\n",
       "\n",
       "    .dataframe tbody tr th {\n",
       "        vertical-align: top;\n",
       "    }\n",
       "\n",
       "    .dataframe thead th {\n",
       "        text-align: right;\n",
       "    }\n",
       "</style>\n",
       "<table border=\"1\" class=\"dataframe\">\n",
       "  <thead>\n",
       "    <tr style=\"text-align: right;\">\n",
       "      <th></th>\n",
       "      <th>children</th>\n",
       "      <th>days_employed</th>\n",
       "      <th>dob_years</th>\n",
       "      <th>education</th>\n",
       "      <th>education_id</th>\n",
       "      <th>family_status</th>\n",
       "      <th>family_status_id</th>\n",
       "      <th>gender</th>\n",
       "      <th>income_type</th>\n",
       "      <th>debt</th>\n",
       "      <th>total_income</th>\n",
       "      <th>purpose</th>\n",
       "    </tr>\n",
       "  </thead>\n",
       "  <tbody>\n",
       "    <tr>\n",
       "      <th>0</th>\n",
       "      <td>1</td>\n",
       "      <td>8437.673028</td>\n",
       "      <td>42</td>\n",
       "      <td>высшее</td>\n",
       "      <td>0</td>\n",
       "      <td>женат / замужем</td>\n",
       "      <td>0</td>\n",
       "      <td>F</td>\n",
       "      <td>сотрудник</td>\n",
       "      <td>0</td>\n",
       "      <td>253875.639453</td>\n",
       "      <td>покупка жилья</td>\n",
       "    </tr>\n",
       "    <tr>\n",
       "      <th>1</th>\n",
       "      <td>1</td>\n",
       "      <td>4024.803754</td>\n",
       "      <td>36</td>\n",
       "      <td>среднее</td>\n",
       "      <td>1</td>\n",
       "      <td>женат / замужем</td>\n",
       "      <td>0</td>\n",
       "      <td>F</td>\n",
       "      <td>сотрудник</td>\n",
       "      <td>0</td>\n",
       "      <td>112080.014102</td>\n",
       "      <td>приобретение автомобиля</td>\n",
       "    </tr>\n",
       "    <tr>\n",
       "      <th>2</th>\n",
       "      <td>0</td>\n",
       "      <td>5623.422610</td>\n",
       "      <td>33</td>\n",
       "      <td>Среднее</td>\n",
       "      <td>1</td>\n",
       "      <td>женат / замужем</td>\n",
       "      <td>0</td>\n",
       "      <td>M</td>\n",
       "      <td>сотрудник</td>\n",
       "      <td>0</td>\n",
       "      <td>145885.952297</td>\n",
       "      <td>покупка жилья</td>\n",
       "    </tr>\n",
       "    <tr>\n",
       "      <th>3</th>\n",
       "      <td>3</td>\n",
       "      <td>4124.747207</td>\n",
       "      <td>32</td>\n",
       "      <td>среднее</td>\n",
       "      <td>1</td>\n",
       "      <td>женат / замужем</td>\n",
       "      <td>0</td>\n",
       "      <td>M</td>\n",
       "      <td>сотрудник</td>\n",
       "      <td>0</td>\n",
       "      <td>267628.550329</td>\n",
       "      <td>дополнительное образование</td>\n",
       "    </tr>\n",
       "    <tr>\n",
       "      <th>4</th>\n",
       "      <td>0</td>\n",
       "      <td>340266.072047</td>\n",
       "      <td>53</td>\n",
       "      <td>среднее</td>\n",
       "      <td>1</td>\n",
       "      <td>гражданский брак</td>\n",
       "      <td>1</td>\n",
       "      <td>F</td>\n",
       "      <td>пенсионер</td>\n",
       "      <td>0</td>\n",
       "      <td>158616.077870</td>\n",
       "      <td>сыграть свадьбу</td>\n",
       "    </tr>\n",
       "    <tr>\n",
       "      <th>5</th>\n",
       "      <td>0</td>\n",
       "      <td>926.185831</td>\n",
       "      <td>27</td>\n",
       "      <td>высшее</td>\n",
       "      <td>0</td>\n",
       "      <td>гражданский брак</td>\n",
       "      <td>1</td>\n",
       "      <td>M</td>\n",
       "      <td>компаньон</td>\n",
       "      <td>0</td>\n",
       "      <td>255763.565419</td>\n",
       "      <td>покупка жилья</td>\n",
       "    </tr>\n",
       "    <tr>\n",
       "      <th>6</th>\n",
       "      <td>0</td>\n",
       "      <td>2879.202052</td>\n",
       "      <td>43</td>\n",
       "      <td>высшее</td>\n",
       "      <td>0</td>\n",
       "      <td>женат / замужем</td>\n",
       "      <td>0</td>\n",
       "      <td>F</td>\n",
       "      <td>компаньон</td>\n",
       "      <td>0</td>\n",
       "      <td>240525.971920</td>\n",
       "      <td>операции с жильем</td>\n",
       "    </tr>\n",
       "    <tr>\n",
       "      <th>7</th>\n",
       "      <td>0</td>\n",
       "      <td>152.779569</td>\n",
       "      <td>50</td>\n",
       "      <td>СРЕДНЕЕ</td>\n",
       "      <td>1</td>\n",
       "      <td>женат / замужем</td>\n",
       "      <td>0</td>\n",
       "      <td>M</td>\n",
       "      <td>сотрудник</td>\n",
       "      <td>0</td>\n",
       "      <td>135823.934197</td>\n",
       "      <td>образование</td>\n",
       "    </tr>\n",
       "    <tr>\n",
       "      <th>8</th>\n",
       "      <td>2</td>\n",
       "      <td>6929.865299</td>\n",
       "      <td>35</td>\n",
       "      <td>ВЫСШЕЕ</td>\n",
       "      <td>0</td>\n",
       "      <td>гражданский брак</td>\n",
       "      <td>1</td>\n",
       "      <td>F</td>\n",
       "      <td>сотрудник</td>\n",
       "      <td>0</td>\n",
       "      <td>95856.832424</td>\n",
       "      <td>на проведение свадьбы</td>\n",
       "    </tr>\n",
       "    <tr>\n",
       "      <th>9</th>\n",
       "      <td>0</td>\n",
       "      <td>2188.756445</td>\n",
       "      <td>41</td>\n",
       "      <td>среднее</td>\n",
       "      <td>1</td>\n",
       "      <td>женат / замужем</td>\n",
       "      <td>0</td>\n",
       "      <td>M</td>\n",
       "      <td>сотрудник</td>\n",
       "      <td>0</td>\n",
       "      <td>144425.938277</td>\n",
       "      <td>покупка жилья для семьи</td>\n",
       "    </tr>\n",
       "  </tbody>\n",
       "</table>\n",
       "</div>"
      ],
      "text/plain": [
       "   children  days_employed  dob_years education  education_id  \\\n",
       "0         1    8437.673028         42    высшее             0   \n",
       "1         1    4024.803754         36   среднее             1   \n",
       "2         0    5623.422610         33   Среднее             1   \n",
       "3         3    4124.747207         32   среднее             1   \n",
       "4         0  340266.072047         53   среднее             1   \n",
       "5         0     926.185831         27    высшее             0   \n",
       "6         0    2879.202052         43    высшее             0   \n",
       "7         0     152.779569         50   СРЕДНЕЕ             1   \n",
       "8         2    6929.865299         35    ВЫСШЕЕ             0   \n",
       "9         0    2188.756445         41   среднее             1   \n",
       "\n",
       "      family_status  family_status_id gender income_type  debt   total_income  \\\n",
       "0   женат / замужем                 0      F   сотрудник     0  253875.639453   \n",
       "1   женат / замужем                 0      F   сотрудник     0  112080.014102   \n",
       "2   женат / замужем                 0      M   сотрудник     0  145885.952297   \n",
       "3   женат / замужем                 0      M   сотрудник     0  267628.550329   \n",
       "4  гражданский брак                 1      F   пенсионер     0  158616.077870   \n",
       "5  гражданский брак                 1      M   компаньон     0  255763.565419   \n",
       "6   женат / замужем                 0      F   компаньон     0  240525.971920   \n",
       "7   женат / замужем                 0      M   сотрудник     0  135823.934197   \n",
       "8  гражданский брак                 1      F   сотрудник     0   95856.832424   \n",
       "9   женат / замужем                 0      M   сотрудник     0  144425.938277   \n",
       "\n",
       "                      purpose  \n",
       "0               покупка жилья  \n",
       "1     приобретение автомобиля  \n",
       "2               покупка жилья  \n",
       "3  дополнительное образование  \n",
       "4             сыграть свадьбу  \n",
       "5               покупка жилья  \n",
       "6           операции с жильем  \n",
       "7                 образование  \n",
       "8       на проведение свадьбы  \n",
       "9     покупка жилья для семьи  "
      ]
     },
     "execution_count": 8,
     "metadata": {},
     "output_type": "execute_result"
    }
   ],
   "source": [
    "# вывод первых 10 строк данных \n",
    "df.head(10)"
   ]
  },
  {
   "cell_type": "markdown",
   "id": "27ed4b17",
   "metadata": {},
   "source": [
    "Переведем значения столбца days_employed в целочисленные (округлим до целых дней, что точнее отражает трудовой стаж)."
   ]
  },
  {
   "cell_type": "code",
   "execution_count": 9,
   "id": "9eb02da4",
   "metadata": {},
   "outputs": [
    {
     "data": {
      "text/html": [
       "<div>\n",
       "<style scoped>\n",
       "    .dataframe tbody tr th:only-of-type {\n",
       "        vertical-align: middle;\n",
       "    }\n",
       "\n",
       "    .dataframe tbody tr th {\n",
       "        vertical-align: top;\n",
       "    }\n",
       "\n",
       "    .dataframe thead th {\n",
       "        text-align: right;\n",
       "    }\n",
       "</style>\n",
       "<table border=\"1\" class=\"dataframe\">\n",
       "  <thead>\n",
       "    <tr style=\"text-align: right;\">\n",
       "      <th></th>\n",
       "      <th>children</th>\n",
       "      <th>days_employed</th>\n",
       "      <th>dob_years</th>\n",
       "      <th>education</th>\n",
       "      <th>education_id</th>\n",
       "      <th>family_status</th>\n",
       "      <th>family_status_id</th>\n",
       "      <th>gender</th>\n",
       "      <th>income_type</th>\n",
       "      <th>debt</th>\n",
       "      <th>total_income</th>\n",
       "      <th>purpose</th>\n",
       "    </tr>\n",
       "  </thead>\n",
       "  <tbody>\n",
       "    <tr>\n",
       "      <th>0</th>\n",
       "      <td>1</td>\n",
       "      <td>8438.0</td>\n",
       "      <td>42</td>\n",
       "      <td>высшее</td>\n",
       "      <td>0</td>\n",
       "      <td>женат / замужем</td>\n",
       "      <td>0</td>\n",
       "      <td>F</td>\n",
       "      <td>сотрудник</td>\n",
       "      <td>0</td>\n",
       "      <td>253875.639453</td>\n",
       "      <td>покупка жилья</td>\n",
       "    </tr>\n",
       "    <tr>\n",
       "      <th>1</th>\n",
       "      <td>1</td>\n",
       "      <td>4025.0</td>\n",
       "      <td>36</td>\n",
       "      <td>среднее</td>\n",
       "      <td>1</td>\n",
       "      <td>женат / замужем</td>\n",
       "      <td>0</td>\n",
       "      <td>F</td>\n",
       "      <td>сотрудник</td>\n",
       "      <td>0</td>\n",
       "      <td>112080.014102</td>\n",
       "      <td>приобретение автомобиля</td>\n",
       "    </tr>\n",
       "    <tr>\n",
       "      <th>2</th>\n",
       "      <td>0</td>\n",
       "      <td>5623.0</td>\n",
       "      <td>33</td>\n",
       "      <td>Среднее</td>\n",
       "      <td>1</td>\n",
       "      <td>женат / замужем</td>\n",
       "      <td>0</td>\n",
       "      <td>M</td>\n",
       "      <td>сотрудник</td>\n",
       "      <td>0</td>\n",
       "      <td>145885.952297</td>\n",
       "      <td>покупка жилья</td>\n",
       "    </tr>\n",
       "    <tr>\n",
       "      <th>3</th>\n",
       "      <td>3</td>\n",
       "      <td>4125.0</td>\n",
       "      <td>32</td>\n",
       "      <td>среднее</td>\n",
       "      <td>1</td>\n",
       "      <td>женат / замужем</td>\n",
       "      <td>0</td>\n",
       "      <td>M</td>\n",
       "      <td>сотрудник</td>\n",
       "      <td>0</td>\n",
       "      <td>267628.550329</td>\n",
       "      <td>дополнительное образование</td>\n",
       "    </tr>\n",
       "    <tr>\n",
       "      <th>4</th>\n",
       "      <td>0</td>\n",
       "      <td>340266.0</td>\n",
       "      <td>53</td>\n",
       "      <td>среднее</td>\n",
       "      <td>1</td>\n",
       "      <td>гражданский брак</td>\n",
       "      <td>1</td>\n",
       "      <td>F</td>\n",
       "      <td>пенсионер</td>\n",
       "      <td>0</td>\n",
       "      <td>158616.077870</td>\n",
       "      <td>сыграть свадьбу</td>\n",
       "    </tr>\n",
       "    <tr>\n",
       "      <th>5</th>\n",
       "      <td>0</td>\n",
       "      <td>926.0</td>\n",
       "      <td>27</td>\n",
       "      <td>высшее</td>\n",
       "      <td>0</td>\n",
       "      <td>гражданский брак</td>\n",
       "      <td>1</td>\n",
       "      <td>M</td>\n",
       "      <td>компаньон</td>\n",
       "      <td>0</td>\n",
       "      <td>255763.565419</td>\n",
       "      <td>покупка жилья</td>\n",
       "    </tr>\n",
       "    <tr>\n",
       "      <th>6</th>\n",
       "      <td>0</td>\n",
       "      <td>2879.0</td>\n",
       "      <td>43</td>\n",
       "      <td>высшее</td>\n",
       "      <td>0</td>\n",
       "      <td>женат / замужем</td>\n",
       "      <td>0</td>\n",
       "      <td>F</td>\n",
       "      <td>компаньон</td>\n",
       "      <td>0</td>\n",
       "      <td>240525.971920</td>\n",
       "      <td>операции с жильем</td>\n",
       "    </tr>\n",
       "    <tr>\n",
       "      <th>7</th>\n",
       "      <td>0</td>\n",
       "      <td>153.0</td>\n",
       "      <td>50</td>\n",
       "      <td>СРЕДНЕЕ</td>\n",
       "      <td>1</td>\n",
       "      <td>женат / замужем</td>\n",
       "      <td>0</td>\n",
       "      <td>M</td>\n",
       "      <td>сотрудник</td>\n",
       "      <td>0</td>\n",
       "      <td>135823.934197</td>\n",
       "      <td>образование</td>\n",
       "    </tr>\n",
       "    <tr>\n",
       "      <th>8</th>\n",
       "      <td>2</td>\n",
       "      <td>6930.0</td>\n",
       "      <td>35</td>\n",
       "      <td>ВЫСШЕЕ</td>\n",
       "      <td>0</td>\n",
       "      <td>гражданский брак</td>\n",
       "      <td>1</td>\n",
       "      <td>F</td>\n",
       "      <td>сотрудник</td>\n",
       "      <td>0</td>\n",
       "      <td>95856.832424</td>\n",
       "      <td>на проведение свадьбы</td>\n",
       "    </tr>\n",
       "    <tr>\n",
       "      <th>9</th>\n",
       "      <td>0</td>\n",
       "      <td>2189.0</td>\n",
       "      <td>41</td>\n",
       "      <td>среднее</td>\n",
       "      <td>1</td>\n",
       "      <td>женат / замужем</td>\n",
       "      <td>0</td>\n",
       "      <td>M</td>\n",
       "      <td>сотрудник</td>\n",
       "      <td>0</td>\n",
       "      <td>144425.938277</td>\n",
       "      <td>покупка жилья для семьи</td>\n",
       "    </tr>\n",
       "  </tbody>\n",
       "</table>\n",
       "</div>"
      ],
      "text/plain": [
       "   children  days_employed  dob_years education  education_id  \\\n",
       "0         1         8438.0         42    высшее             0   \n",
       "1         1         4025.0         36   среднее             1   \n",
       "2         0         5623.0         33   Среднее             1   \n",
       "3         3         4125.0         32   среднее             1   \n",
       "4         0       340266.0         53   среднее             1   \n",
       "5         0          926.0         27    высшее             0   \n",
       "6         0         2879.0         43    высшее             0   \n",
       "7         0          153.0         50   СРЕДНЕЕ             1   \n",
       "8         2         6930.0         35    ВЫСШЕЕ             0   \n",
       "9         0         2189.0         41   среднее             1   \n",
       "\n",
       "      family_status  family_status_id gender income_type  debt   total_income  \\\n",
       "0   женат / замужем                 0      F   сотрудник     0  253875.639453   \n",
       "1   женат / замужем                 0      F   сотрудник     0  112080.014102   \n",
       "2   женат / замужем                 0      M   сотрудник     0  145885.952297   \n",
       "3   женат / замужем                 0      M   сотрудник     0  267628.550329   \n",
       "4  гражданский брак                 1      F   пенсионер     0  158616.077870   \n",
       "5  гражданский брак                 1      M   компаньон     0  255763.565419   \n",
       "6   женат / замужем                 0      F   компаньон     0  240525.971920   \n",
       "7   женат / замужем                 0      M   сотрудник     0  135823.934197   \n",
       "8  гражданский брак                 1      F   сотрудник     0   95856.832424   \n",
       "9   женат / замужем                 0      M   сотрудник     0  144425.938277   \n",
       "\n",
       "                      purpose  \n",
       "0               покупка жилья  \n",
       "1     приобретение автомобиля  \n",
       "2               покупка жилья  \n",
       "3  дополнительное образование  \n",
       "4             сыграть свадьбу  \n",
       "5               покупка жилья  \n",
       "6           операции с жильем  \n",
       "7                 образование  \n",
       "8       на проведение свадьбы  \n",
       "9     покупка жилья для семьи  "
      ]
     },
     "execution_count": 9,
     "metadata": {},
     "output_type": "execute_result"
    }
   ],
   "source": [
    "# округлим значения в столбце days_employed до целочисленных значений и проверим результат - выведем первые 10 строк\n",
    "df['days_employed'] = df['days_employed'].round()\n",
    "df.head(10)"
   ]
  },
  {
   "cell_type": "markdown",
   "id": "86edd5f1",
   "metadata": {},
   "source": [
    "Рассчитаем стаж работы в годаx и сохраним в отдельном столбце df, а так же проверим значения на наличие явных аномалий: выделим максимальное значение в столбце years_employed"
   ]
  },
  {
   "cell_type": "markdown",
   "id": "fb63024d",
   "metadata": {},
   "source": [
    "#### Проверка значений столбца 'years_employer' на наличие явных аномалий."
   ]
  },
  {
   "cell_type": "code",
   "execution_count": 10,
   "id": "b98319bb",
   "metadata": {},
   "outputs": [],
   "source": [
    "# делим значения в столбце days_employed на 365 дней и сохраним в новом столбце df\n",
    "df['years_employed'] = df['days_employed'] / 365"
   ]
  },
  {
   "cell_type": "code",
   "execution_count": 11,
   "id": "3dcc748b",
   "metadata": {},
   "outputs": [
    {
     "data": {
      "text/plain": [
       "1101.0"
      ]
     },
     "execution_count": 11,
     "metadata": {},
     "output_type": "execute_result"
    }
   ],
   "source": [
    "# рассчитаем максимальное значение столбца years_employed\n",
    "years_employed_max = df['years_employed'].max().round()\n",
    "years_employed_max"
   ]
  },
  {
   "cell_type": "markdown",
   "id": "c185ed97",
   "metadata": {},
   "source": [
    "Рассчитаем среднее и медианное значение столбца с учетом аномалий."
   ]
  },
  {
   "cell_type": "code",
   "execution_count": 12,
   "id": "b2c88c0f",
   "metadata": {},
   "outputs": [
    {
     "data": {
      "text/plain": [
       "183.0"
      ]
     },
     "execution_count": 12,
     "metadata": {},
     "output_type": "execute_result"
    }
   ],
   "source": [
    "# среднее значение столбца years_employed\n",
    "years_employed_mean = df['years_employed'].mean().round()\n",
    "years_employed_mean"
   ]
  },
  {
   "cell_type": "code",
   "execution_count": 13,
   "id": "ef132383",
   "metadata": {},
   "outputs": [
    {
     "data": {
      "text/plain": [
       "6.0"
      ]
     },
     "execution_count": 13,
     "metadata": {},
     "output_type": "execute_result"
    }
   ],
   "source": [
    "# расчет медианного значения столбца years_employed\n",
    "years_employed_median = df['years_employed'].median().round()\n",
    "years_employed_median"
   ]
  },
  {
   "cell_type": "markdown",
   "id": "97255cec",
   "metadata": {},
   "source": [
    "Максимальное значение в 1101 год представляет собой явную аномалию и необходимо оценить объем таких аномалий и может означать, например, наличие ошибки в количестве дней стажа (под влиянием человеческого фактора).\n",
    "Среднее значение составляет около 183 лет, что так же свидетельствует о наличии ошибок в представленных данных.\n",
    "\n",
    "Двумя последовательными шагами проверим количество аномалий и произведем расчет среднего значение без учета данных аномалий."
   ]
  },
  {
   "cell_type": "markdown",
   "id": "e4400554",
   "metadata": {},
   "source": [
    "#### Расчет среднего значения столбца 'years_employer'  без учета аномалий."
   ]
  },
  {
   "cell_type": "code",
   "execution_count": 14,
   "id": "6964bd53",
   "metadata": {},
   "outputs": [
    {
     "data": {
      "text/plain": [
       "3448"
      ]
     },
     "execution_count": 14,
     "metadata": {},
     "output_type": "execute_result"
    }
   ],
   "source": [
    "# расчет  количества значений в столбце years_employed более 45 лет стажа\n",
    "years_employed_45 = df.loc[df['years_employed'] >= 45, 'years_employed'].count()\n",
    "years_employed_45"
   ]
  },
  {
   "cell_type": "code",
   "execution_count": 15,
   "id": "f8e395b2",
   "metadata": {},
   "outputs": [
    {
     "data": {
      "text/plain": [
       "3445"
      ]
     },
     "execution_count": 15,
     "metadata": {},
     "output_type": "execute_result"
    }
   ],
   "source": [
    "# расчет количества значений в столбце years_employed более 100 лет стажа\n",
    "years_employed_100 = df.loc[df['years_employed'] >= 100, 'years_employed'].count()\n",
    "years_employed_100"
   ]
  },
  {
   "cell_type": "code",
   "execution_count": 16,
   "id": "9159b238",
   "metadata": {},
   "outputs": [
    {
     "data": {
      "text/plain": [
       "6.0"
      ]
     },
     "execution_count": 16,
     "metadata": {},
     "output_type": "execute_result"
    }
   ],
   "source": [
    "# расчет среднегозначения в столбце years_employed без учета количества аномалий\n",
    "years_employed_mean_without_anom = df.loc[df['years_employed'] <= 45, 'years_employed'].mean().round()\n",
    "years_employed_mean_without_anom"
   ]
  },
  {
   "cell_type": "markdown",
   "id": "6dfe9b76",
   "metadata": {},
   "source": [
    "Получаем среднее значение более приближенное к медиане. \n",
    "Следующим этапом заменим все пропуски и аномалии в данном столбце медианными значениями."
   ]
  },
  {
   "cell_type": "markdown",
   "id": "e01558f6",
   "metadata": {},
   "source": [
    "#### Замена значений столбца 'years_employer'  медианным значением."
   ]
  },
  {
   "cell_type": "code",
   "execution_count": 17,
   "id": "675b841e",
   "metadata": {},
   "outputs": [],
   "source": [
    "# аномалий столбца years_employed медианным значением\n",
    "df.loc[df['years_employed'] >= 45, 'years_employed'] = years_employed_median\n"
   ]
  },
  {
   "cell_type": "code",
   "execution_count": 18,
   "id": "7b6f07d9",
   "metadata": {},
   "outputs": [],
   "source": [
    "# замена в столбце years_eployed медианным значением\n",
    "df['years_employed'] = df['years_employed'].fillna(years_employed_median)"
   ]
  },
  {
   "cell_type": "code",
   "execution_count": 19,
   "id": "c917a861",
   "metadata": {},
   "outputs": [
    {
     "name": "stdout",
     "output_type": "stream",
     "text": [
      "<class 'pandas.core.frame.DataFrame'>\n",
      "RangeIndex: 21525 entries, 0 to 21524\n",
      "Data columns (total 13 columns):\n",
      " #   Column            Non-Null Count  Dtype  \n",
      "---  ------            --------------  -----  \n",
      " 0   children          21525 non-null  int64  \n",
      " 1   days_employed     19351 non-null  float64\n",
      " 2   dob_years         21525 non-null  int64  \n",
      " 3   education         21525 non-null  object \n",
      " 4   education_id      21525 non-null  int64  \n",
      " 5   family_status     21525 non-null  object \n",
      " 6   family_status_id  21525 non-null  int64  \n",
      " 7   gender            21525 non-null  object \n",
      " 8   income_type       21525 non-null  object \n",
      " 9   debt              21525 non-null  int64  \n",
      " 10  total_income      19351 non-null  float64\n",
      " 11  purpose           21525 non-null  object \n",
      " 12  years_employed    21525 non-null  float64\n",
      "dtypes: float64(3), int64(5), object(5)\n",
      "memory usage: 2.1+ MB\n"
     ]
    }
   ],
   "source": [
    "# вывод информации по df\n",
    "df.info()"
   ]
  },
  {
   "cell_type": "markdown",
   "id": "7dafa43c",
   "metadata": {},
   "source": [
    "По данным из info показатели в столбце years_employed заполнены полностью.\n",
    "\n",
    "Переходим к столбцу с пропущенными значениями total_income - ежемесячный доход.\n",
    "\n",
    "Определим среднее значение, медианное, максимальное по столбцу ежемесячного дохода."
   ]
  },
  {
   "cell_type": "markdown",
   "id": "fb7bdfcf",
   "metadata": {},
   "source": [
    "#### Проверка значений столбца 'total_income' на наличие явных аномалий."
   ]
  },
  {
   "cell_type": "code",
   "execution_count": 20,
   "id": "b9d61e38",
   "metadata": {},
   "outputs": [
    {
     "data": {
      "text/plain": [
       "167422.0"
      ]
     },
     "execution_count": 20,
     "metadata": {},
     "output_type": "execute_result"
    }
   ],
   "source": [
    "# среднее значение столбца total_income\n",
    "total_income_mean = df['total_income'].mean().round()\n",
    "total_income_mean"
   ]
  },
  {
   "cell_type": "code",
   "execution_count": 21,
   "id": "56c025d2",
   "metadata": {},
   "outputs": [
    {
     "data": {
      "text/plain": [
       "145018.0"
      ]
     },
     "execution_count": 21,
     "metadata": {},
     "output_type": "execute_result"
    }
   ],
   "source": [
    "# медианное значение столбца total_income\n",
    "total_income_median = df['total_income'].median().round()\n",
    "total_income_median"
   ]
  },
  {
   "cell_type": "code",
   "execution_count": 22,
   "id": "6d3d905a",
   "metadata": {},
   "outputs": [
    {
     "data": {
      "text/plain": [
       "2265604.0"
      ]
     },
     "execution_count": 22,
     "metadata": {},
     "output_type": "execute_result"
    }
   ],
   "source": [
    "# максимальное значение столбца total_income\n",
    "total_income_max = df['total_income'].max().round()\n",
    "total_income_max"
   ]
  },
  {
   "cell_type": "markdown",
   "id": "e3f77aba",
   "metadata": {},
   "source": [
    "Для повышения точности анализа осуществим привязку значений столбца 'total_income' и типа занятости."
   ]
  },
  {
   "cell_type": "markdown",
   "id": "31ef66d2",
   "metadata": {},
   "source": [
    "#### Заполнение пропусков столбца 'total_income' медианным значением с учетом типа занятости."
   ]
  },
  {
   "cell_type": "code",
   "execution_count": 23,
   "id": "b2120bba",
   "metadata": {},
   "outputs": [],
   "source": [
    "# заполнение пропусков в стобце total_income медианным значением\n",
    "df[\"total_income\"] = df.groupby(\"income_type\")[\"total_income\"].transform(lambda x: x.fillna(x.median()))"
   ]
  },
  {
   "cell_type": "code",
   "execution_count": 24,
   "id": "94a37f29",
   "metadata": {},
   "outputs": [
    {
     "name": "stdout",
     "output_type": "stream",
     "text": [
      "<class 'pandas.core.frame.DataFrame'>\n",
      "RangeIndex: 21525 entries, 0 to 21524\n",
      "Data columns (total 13 columns):\n",
      " #   Column            Non-Null Count  Dtype  \n",
      "---  ------            --------------  -----  \n",
      " 0   children          21525 non-null  int64  \n",
      " 1   days_employed     19351 non-null  float64\n",
      " 2   dob_years         21525 non-null  int64  \n",
      " 3   education         21525 non-null  object \n",
      " 4   education_id      21525 non-null  int64  \n",
      " 5   family_status     21525 non-null  object \n",
      " 6   family_status_id  21525 non-null  int64  \n",
      " 7   gender            21525 non-null  object \n",
      " 8   income_type       21525 non-null  object \n",
      " 9   debt              21525 non-null  int64  \n",
      " 10  total_income      21525 non-null  float64\n",
      " 11  purpose           21525 non-null  object \n",
      " 12  years_employed    21525 non-null  float64\n",
      "dtypes: float64(3), int64(5), object(5)\n",
      "memory usage: 2.1+ MB\n"
     ]
    }
   ],
   "source": [
    "# вывод информации по df\n",
    "df.info()"
   ]
  },
  {
   "cell_type": "code",
   "execution_count": 25,
   "id": "577352d0",
   "metadata": {},
   "outputs": [
    {
     "data": {
      "text/html": [
       "<div>\n",
       "<style scoped>\n",
       "    .dataframe tbody tr th:only-of-type {\n",
       "        vertical-align: middle;\n",
       "    }\n",
       "\n",
       "    .dataframe tbody tr th {\n",
       "        vertical-align: top;\n",
       "    }\n",
       "\n",
       "    .dataframe thead th {\n",
       "        text-align: right;\n",
       "    }\n",
       "</style>\n",
       "<table border=\"1\" class=\"dataframe\">\n",
       "  <thead>\n",
       "    <tr style=\"text-align: right;\">\n",
       "      <th></th>\n",
       "      <th>children</th>\n",
       "      <th>days_employed</th>\n",
       "      <th>dob_years</th>\n",
       "      <th>education</th>\n",
       "      <th>education_id</th>\n",
       "      <th>family_status</th>\n",
       "      <th>family_status_id</th>\n",
       "      <th>gender</th>\n",
       "      <th>income_type</th>\n",
       "      <th>debt</th>\n",
       "      <th>total_income</th>\n",
       "      <th>purpose</th>\n",
       "      <th>years_employed</th>\n",
       "    </tr>\n",
       "  </thead>\n",
       "  <tbody>\n",
       "    <tr>\n",
       "      <th>0</th>\n",
       "      <td>1</td>\n",
       "      <td>8438.0</td>\n",
       "      <td>42</td>\n",
       "      <td>высшее</td>\n",
       "      <td>0</td>\n",
       "      <td>женат / замужем</td>\n",
       "      <td>0</td>\n",
       "      <td>F</td>\n",
       "      <td>сотрудник</td>\n",
       "      <td>0</td>\n",
       "      <td>253875.639453</td>\n",
       "      <td>покупка жилья</td>\n",
       "      <td>23.117808</td>\n",
       "    </tr>\n",
       "    <tr>\n",
       "      <th>1</th>\n",
       "      <td>1</td>\n",
       "      <td>4025.0</td>\n",
       "      <td>36</td>\n",
       "      <td>среднее</td>\n",
       "      <td>1</td>\n",
       "      <td>женат / замужем</td>\n",
       "      <td>0</td>\n",
       "      <td>F</td>\n",
       "      <td>сотрудник</td>\n",
       "      <td>0</td>\n",
       "      <td>112080.014102</td>\n",
       "      <td>приобретение автомобиля</td>\n",
       "      <td>11.027397</td>\n",
       "    </tr>\n",
       "    <tr>\n",
       "      <th>2</th>\n",
       "      <td>0</td>\n",
       "      <td>5623.0</td>\n",
       "      <td>33</td>\n",
       "      <td>Среднее</td>\n",
       "      <td>1</td>\n",
       "      <td>женат / замужем</td>\n",
       "      <td>0</td>\n",
       "      <td>M</td>\n",
       "      <td>сотрудник</td>\n",
       "      <td>0</td>\n",
       "      <td>145885.952297</td>\n",
       "      <td>покупка жилья</td>\n",
       "      <td>15.405479</td>\n",
       "    </tr>\n",
       "    <tr>\n",
       "      <th>3</th>\n",
       "      <td>3</td>\n",
       "      <td>4125.0</td>\n",
       "      <td>32</td>\n",
       "      <td>среднее</td>\n",
       "      <td>1</td>\n",
       "      <td>женат / замужем</td>\n",
       "      <td>0</td>\n",
       "      <td>M</td>\n",
       "      <td>сотрудник</td>\n",
       "      <td>0</td>\n",
       "      <td>267628.550329</td>\n",
       "      <td>дополнительное образование</td>\n",
       "      <td>11.301370</td>\n",
       "    </tr>\n",
       "    <tr>\n",
       "      <th>4</th>\n",
       "      <td>0</td>\n",
       "      <td>340266.0</td>\n",
       "      <td>53</td>\n",
       "      <td>среднее</td>\n",
       "      <td>1</td>\n",
       "      <td>гражданский брак</td>\n",
       "      <td>1</td>\n",
       "      <td>F</td>\n",
       "      <td>пенсионер</td>\n",
       "      <td>0</td>\n",
       "      <td>158616.077870</td>\n",
       "      <td>сыграть свадьбу</td>\n",
       "      <td>6.000000</td>\n",
       "    </tr>\n",
       "    <tr>\n",
       "      <th>5</th>\n",
       "      <td>0</td>\n",
       "      <td>926.0</td>\n",
       "      <td>27</td>\n",
       "      <td>высшее</td>\n",
       "      <td>0</td>\n",
       "      <td>гражданский брак</td>\n",
       "      <td>1</td>\n",
       "      <td>M</td>\n",
       "      <td>компаньон</td>\n",
       "      <td>0</td>\n",
       "      <td>255763.565419</td>\n",
       "      <td>покупка жилья</td>\n",
       "      <td>2.536986</td>\n",
       "    </tr>\n",
       "    <tr>\n",
       "      <th>6</th>\n",
       "      <td>0</td>\n",
       "      <td>2879.0</td>\n",
       "      <td>43</td>\n",
       "      <td>высшее</td>\n",
       "      <td>0</td>\n",
       "      <td>женат / замужем</td>\n",
       "      <td>0</td>\n",
       "      <td>F</td>\n",
       "      <td>компаньон</td>\n",
       "      <td>0</td>\n",
       "      <td>240525.971920</td>\n",
       "      <td>операции с жильем</td>\n",
       "      <td>7.887671</td>\n",
       "    </tr>\n",
       "    <tr>\n",
       "      <th>7</th>\n",
       "      <td>0</td>\n",
       "      <td>153.0</td>\n",
       "      <td>50</td>\n",
       "      <td>СРЕДНЕЕ</td>\n",
       "      <td>1</td>\n",
       "      <td>женат / замужем</td>\n",
       "      <td>0</td>\n",
       "      <td>M</td>\n",
       "      <td>сотрудник</td>\n",
       "      <td>0</td>\n",
       "      <td>135823.934197</td>\n",
       "      <td>образование</td>\n",
       "      <td>0.419178</td>\n",
       "    </tr>\n",
       "    <tr>\n",
       "      <th>8</th>\n",
       "      <td>2</td>\n",
       "      <td>6930.0</td>\n",
       "      <td>35</td>\n",
       "      <td>ВЫСШЕЕ</td>\n",
       "      <td>0</td>\n",
       "      <td>гражданский брак</td>\n",
       "      <td>1</td>\n",
       "      <td>F</td>\n",
       "      <td>сотрудник</td>\n",
       "      <td>0</td>\n",
       "      <td>95856.832424</td>\n",
       "      <td>на проведение свадьбы</td>\n",
       "      <td>18.986301</td>\n",
       "    </tr>\n",
       "    <tr>\n",
       "      <th>9</th>\n",
       "      <td>0</td>\n",
       "      <td>2189.0</td>\n",
       "      <td>41</td>\n",
       "      <td>среднее</td>\n",
       "      <td>1</td>\n",
       "      <td>женат / замужем</td>\n",
       "      <td>0</td>\n",
       "      <td>M</td>\n",
       "      <td>сотрудник</td>\n",
       "      <td>0</td>\n",
       "      <td>144425.938277</td>\n",
       "      <td>покупка жилья для семьи</td>\n",
       "      <td>5.997260</td>\n",
       "    </tr>\n",
       "  </tbody>\n",
       "</table>\n",
       "</div>"
      ],
      "text/plain": [
       "   children  days_employed  dob_years education  education_id  \\\n",
       "0         1         8438.0         42    высшее             0   \n",
       "1         1         4025.0         36   среднее             1   \n",
       "2         0         5623.0         33   Среднее             1   \n",
       "3         3         4125.0         32   среднее             1   \n",
       "4         0       340266.0         53   среднее             1   \n",
       "5         0          926.0         27    высшее             0   \n",
       "6         0         2879.0         43    высшее             0   \n",
       "7         0          153.0         50   СРЕДНЕЕ             1   \n",
       "8         2         6930.0         35    ВЫСШЕЕ             0   \n",
       "9         0         2189.0         41   среднее             1   \n",
       "\n",
       "      family_status  family_status_id gender income_type  debt   total_income  \\\n",
       "0   женат / замужем                 0      F   сотрудник     0  253875.639453   \n",
       "1   женат / замужем                 0      F   сотрудник     0  112080.014102   \n",
       "2   женат / замужем                 0      M   сотрудник     0  145885.952297   \n",
       "3   женат / замужем                 0      M   сотрудник     0  267628.550329   \n",
       "4  гражданский брак                 1      F   пенсионер     0  158616.077870   \n",
       "5  гражданский брак                 1      M   компаньон     0  255763.565419   \n",
       "6   женат / замужем                 0      F   компаньон     0  240525.971920   \n",
       "7   женат / замужем                 0      M   сотрудник     0  135823.934197   \n",
       "8  гражданский брак                 1      F   сотрудник     0   95856.832424   \n",
       "9   женат / замужем                 0      M   сотрудник     0  144425.938277   \n",
       "\n",
       "                      purpose  years_employed  \n",
       "0               покупка жилья       23.117808  \n",
       "1     приобретение автомобиля       11.027397  \n",
       "2               покупка жилья       15.405479  \n",
       "3  дополнительное образование       11.301370  \n",
       "4             сыграть свадьбу        6.000000  \n",
       "5               покупка жилья        2.536986  \n",
       "6           операции с жильем        7.887671  \n",
       "7                 образование        0.419178  \n",
       "8       на проведение свадьбы       18.986301  \n",
       "9     покупка жилья для семьи        5.997260  "
      ]
     },
     "execution_count": 25,
     "metadata": {},
     "output_type": "execute_result"
    }
   ],
   "source": [
    "df.head(10)"
   ]
  },
  {
   "cell_type": "code",
   "execution_count": 26,
   "id": "f421f2c9",
   "metadata": {},
   "outputs": [
    {
     "data": {
      "text/html": [
       "<div>\n",
       "<style scoped>\n",
       "    .dataframe tbody tr th:only-of-type {\n",
       "        vertical-align: middle;\n",
       "    }\n",
       "\n",
       "    .dataframe tbody tr th {\n",
       "        vertical-align: top;\n",
       "    }\n",
       "\n",
       "    .dataframe thead th {\n",
       "        text-align: right;\n",
       "    }\n",
       "</style>\n",
       "<table border=\"1\" class=\"dataframe\">\n",
       "  <thead>\n",
       "    <tr style=\"text-align: right;\">\n",
       "      <th></th>\n",
       "      <th>children</th>\n",
       "      <th>days_employed</th>\n",
       "      <th>dob_years</th>\n",
       "      <th>education</th>\n",
       "      <th>education_id</th>\n",
       "      <th>family_status</th>\n",
       "      <th>family_status_id</th>\n",
       "      <th>gender</th>\n",
       "      <th>income_type</th>\n",
       "      <th>debt</th>\n",
       "      <th>total_income</th>\n",
       "      <th>purpose</th>\n",
       "      <th>years_employed</th>\n",
       "    </tr>\n",
       "  </thead>\n",
       "  <tbody>\n",
       "    <tr>\n",
       "      <th>21515</th>\n",
       "      <td>1</td>\n",
       "      <td>468.0</td>\n",
       "      <td>28</td>\n",
       "      <td>среднее</td>\n",
       "      <td>1</td>\n",
       "      <td>женат / замужем</td>\n",
       "      <td>0</td>\n",
       "      <td>F</td>\n",
       "      <td>сотрудник</td>\n",
       "      <td>1</td>\n",
       "      <td>109486.327999</td>\n",
       "      <td>заняться образованием</td>\n",
       "      <td>1.282192</td>\n",
       "    </tr>\n",
       "    <tr>\n",
       "      <th>21516</th>\n",
       "      <td>0</td>\n",
       "      <td>914.0</td>\n",
       "      <td>42</td>\n",
       "      <td>высшее</td>\n",
       "      <td>0</td>\n",
       "      <td>женат / замужем</td>\n",
       "      <td>0</td>\n",
       "      <td>F</td>\n",
       "      <td>компаньон</td>\n",
       "      <td>0</td>\n",
       "      <td>322807.776603</td>\n",
       "      <td>покупка своего жилья</td>\n",
       "      <td>2.504110</td>\n",
       "    </tr>\n",
       "    <tr>\n",
       "      <th>21517</th>\n",
       "      <td>0</td>\n",
       "      <td>405.0</td>\n",
       "      <td>42</td>\n",
       "      <td>высшее</td>\n",
       "      <td>0</td>\n",
       "      <td>гражданский брак</td>\n",
       "      <td>1</td>\n",
       "      <td>F</td>\n",
       "      <td>компаньон</td>\n",
       "      <td>0</td>\n",
       "      <td>178059.553491</td>\n",
       "      <td>на покупку своего автомобиля</td>\n",
       "      <td>1.109589</td>\n",
       "    </tr>\n",
       "    <tr>\n",
       "      <th>21518</th>\n",
       "      <td>0</td>\n",
       "      <td>373996.0</td>\n",
       "      <td>59</td>\n",
       "      <td>СРЕДНЕЕ</td>\n",
       "      <td>1</td>\n",
       "      <td>женат / замужем</td>\n",
       "      <td>0</td>\n",
       "      <td>F</td>\n",
       "      <td>пенсионер</td>\n",
       "      <td>0</td>\n",
       "      <td>153864.650328</td>\n",
       "      <td>сделка с автомобилем</td>\n",
       "      <td>6.000000</td>\n",
       "    </tr>\n",
       "    <tr>\n",
       "      <th>21519</th>\n",
       "      <td>1</td>\n",
       "      <td>2351.0</td>\n",
       "      <td>37</td>\n",
       "      <td>ученая степень</td>\n",
       "      <td>4</td>\n",
       "      <td>в разводе</td>\n",
       "      <td>3</td>\n",
       "      <td>M</td>\n",
       "      <td>сотрудник</td>\n",
       "      <td>0</td>\n",
       "      <td>115949.039788</td>\n",
       "      <td>покупка коммерческой недвижимости</td>\n",
       "      <td>6.441096</td>\n",
       "    </tr>\n",
       "    <tr>\n",
       "      <th>21520</th>\n",
       "      <td>1</td>\n",
       "      <td>4529.0</td>\n",
       "      <td>43</td>\n",
       "      <td>среднее</td>\n",
       "      <td>1</td>\n",
       "      <td>гражданский брак</td>\n",
       "      <td>1</td>\n",
       "      <td>F</td>\n",
       "      <td>компаньон</td>\n",
       "      <td>0</td>\n",
       "      <td>224791.862382</td>\n",
       "      <td>операции с жильем</td>\n",
       "      <td>12.408219</td>\n",
       "    </tr>\n",
       "    <tr>\n",
       "      <th>21521</th>\n",
       "      <td>0</td>\n",
       "      <td>343937.0</td>\n",
       "      <td>67</td>\n",
       "      <td>среднее</td>\n",
       "      <td>1</td>\n",
       "      <td>женат / замужем</td>\n",
       "      <td>0</td>\n",
       "      <td>F</td>\n",
       "      <td>пенсионер</td>\n",
       "      <td>0</td>\n",
       "      <td>155999.806512</td>\n",
       "      <td>сделка с автомобилем</td>\n",
       "      <td>6.000000</td>\n",
       "    </tr>\n",
       "    <tr>\n",
       "      <th>21522</th>\n",
       "      <td>1</td>\n",
       "      <td>2113.0</td>\n",
       "      <td>38</td>\n",
       "      <td>среднее</td>\n",
       "      <td>1</td>\n",
       "      <td>гражданский брак</td>\n",
       "      <td>1</td>\n",
       "      <td>M</td>\n",
       "      <td>сотрудник</td>\n",
       "      <td>1</td>\n",
       "      <td>89672.561153</td>\n",
       "      <td>недвижимость</td>\n",
       "      <td>5.789041</td>\n",
       "    </tr>\n",
       "    <tr>\n",
       "      <th>21523</th>\n",
       "      <td>3</td>\n",
       "      <td>3112.0</td>\n",
       "      <td>38</td>\n",
       "      <td>среднее</td>\n",
       "      <td>1</td>\n",
       "      <td>женат / замужем</td>\n",
       "      <td>0</td>\n",
       "      <td>M</td>\n",
       "      <td>сотрудник</td>\n",
       "      <td>1</td>\n",
       "      <td>244093.050500</td>\n",
       "      <td>на покупку своего автомобиля</td>\n",
       "      <td>8.526027</td>\n",
       "    </tr>\n",
       "    <tr>\n",
       "      <th>21524</th>\n",
       "      <td>2</td>\n",
       "      <td>1985.0</td>\n",
       "      <td>40</td>\n",
       "      <td>среднее</td>\n",
       "      <td>1</td>\n",
       "      <td>женат / замужем</td>\n",
       "      <td>0</td>\n",
       "      <td>F</td>\n",
       "      <td>сотрудник</td>\n",
       "      <td>0</td>\n",
       "      <td>82047.418899</td>\n",
       "      <td>на покупку автомобиля</td>\n",
       "      <td>5.438356</td>\n",
       "    </tr>\n",
       "  </tbody>\n",
       "</table>\n",
       "</div>"
      ],
      "text/plain": [
       "       children  days_employed  dob_years       education  education_id  \\\n",
       "21515         1          468.0         28         среднее             1   \n",
       "21516         0          914.0         42          высшее             0   \n",
       "21517         0          405.0         42          высшее             0   \n",
       "21518         0       373996.0         59         СРЕДНЕЕ             1   \n",
       "21519         1         2351.0         37  ученая степень             4   \n",
       "21520         1         4529.0         43         среднее             1   \n",
       "21521         0       343937.0         67         среднее             1   \n",
       "21522         1         2113.0         38         среднее             1   \n",
       "21523         3         3112.0         38         среднее             1   \n",
       "21524         2         1985.0         40         среднее             1   \n",
       "\n",
       "          family_status  family_status_id gender income_type  debt  \\\n",
       "21515   женат / замужем                 0      F   сотрудник     1   \n",
       "21516   женат / замужем                 0      F   компаньон     0   \n",
       "21517  гражданский брак                 1      F   компаньон     0   \n",
       "21518   женат / замужем                 0      F   пенсионер     0   \n",
       "21519         в разводе                 3      M   сотрудник     0   \n",
       "21520  гражданский брак                 1      F   компаньон     0   \n",
       "21521   женат / замужем                 0      F   пенсионер     0   \n",
       "21522  гражданский брак                 1      M   сотрудник     1   \n",
       "21523   женат / замужем                 0      M   сотрудник     1   \n",
       "21524   женат / замужем                 0      F   сотрудник     0   \n",
       "\n",
       "        total_income                            purpose  years_employed  \n",
       "21515  109486.327999              заняться образованием        1.282192  \n",
       "21516  322807.776603               покупка своего жилья        2.504110  \n",
       "21517  178059.553491       на покупку своего автомобиля        1.109589  \n",
       "21518  153864.650328               сделка с автомобилем        6.000000  \n",
       "21519  115949.039788  покупка коммерческой недвижимости        6.441096  \n",
       "21520  224791.862382                  операции с жильем       12.408219  \n",
       "21521  155999.806512               сделка с автомобилем        6.000000  \n",
       "21522   89672.561153                       недвижимость        5.789041  \n",
       "21523  244093.050500       на покупку своего автомобиля        8.526027  \n",
       "21524   82047.418899              на покупку автомобиля        5.438356  "
      ]
     },
     "execution_count": 26,
     "metadata": {},
     "output_type": "execute_result"
    }
   ],
   "source": [
    "df.tail(10)"
   ]
  },
  {
   "cell_type": "markdown",
   "id": "fcee425a",
   "metadata": {},
   "source": [
    "Все пропуски в df в столбце total_income заполнены медианным значением. Следующим шагом изменим тип значений столбцов total_income и years_employed на целочисленные.\n"
   ]
  },
  {
   "cell_type": "markdown",
   "id": "c74ba5f6",
   "metadata": {},
   "source": [
    "### Шаг 2. Изменение типа столбцов 'years_employed' и 'total_income'."
   ]
  },
  {
   "cell_type": "code",
   "execution_count": 27,
   "id": "8bde570a",
   "metadata": {},
   "outputs": [],
   "source": [
    "# применение метода astype() к столбцам total_income и years_employed\n",
    "df = df.astype({'total_income': int})\n",
    "df = df.astype({'years_employed': int})"
   ]
  },
  {
   "cell_type": "code",
   "execution_count": 28,
   "id": "42d251bc",
   "metadata": {},
   "outputs": [
    {
     "name": "stdout",
     "output_type": "stream",
     "text": [
      "<class 'pandas.core.frame.DataFrame'>\n",
      "RangeIndex: 21525 entries, 0 to 21524\n",
      "Data columns (total 13 columns):\n",
      " #   Column            Non-Null Count  Dtype  \n",
      "---  ------            --------------  -----  \n",
      " 0   children          21525 non-null  int64  \n",
      " 1   days_employed     19351 non-null  float64\n",
      " 2   dob_years         21525 non-null  int64  \n",
      " 3   education         21525 non-null  object \n",
      " 4   education_id      21525 non-null  int64  \n",
      " 5   family_status     21525 non-null  object \n",
      " 6   family_status_id  21525 non-null  int64  \n",
      " 7   gender            21525 non-null  object \n",
      " 8   income_type       21525 non-null  object \n",
      " 9   debt              21525 non-null  int64  \n",
      " 10  total_income      21525 non-null  int64  \n",
      " 11  purpose           21525 non-null  object \n",
      " 12  years_employed    21525 non-null  int64  \n",
      "dtypes: float64(1), int64(7), object(5)\n",
      "memory usage: 2.1+ MB\n"
     ]
    }
   ],
   "source": [
    "df.info()"
   ]
  },
  {
   "cell_type": "markdown",
   "id": "30108ddd",
   "metadata": {},
   "source": [
    "После просмотра информации по таблицы видно, что значения в столбцах total_income и years_employed изменились на целочисленные. Проверим первые 10 и последние 10 строк df."
   ]
  },
  {
   "cell_type": "code",
   "execution_count": 29,
   "id": "0ebcac84",
   "metadata": {},
   "outputs": [
    {
     "data": {
      "text/html": [
       "<div>\n",
       "<style scoped>\n",
       "    .dataframe tbody tr th:only-of-type {\n",
       "        vertical-align: middle;\n",
       "    }\n",
       "\n",
       "    .dataframe tbody tr th {\n",
       "        vertical-align: top;\n",
       "    }\n",
       "\n",
       "    .dataframe thead th {\n",
       "        text-align: right;\n",
       "    }\n",
       "</style>\n",
       "<table border=\"1\" class=\"dataframe\">\n",
       "  <thead>\n",
       "    <tr style=\"text-align: right;\">\n",
       "      <th></th>\n",
       "      <th>children</th>\n",
       "      <th>days_employed</th>\n",
       "      <th>dob_years</th>\n",
       "      <th>education</th>\n",
       "      <th>education_id</th>\n",
       "      <th>family_status</th>\n",
       "      <th>family_status_id</th>\n",
       "      <th>gender</th>\n",
       "      <th>income_type</th>\n",
       "      <th>debt</th>\n",
       "      <th>total_income</th>\n",
       "      <th>purpose</th>\n",
       "      <th>years_employed</th>\n",
       "    </tr>\n",
       "  </thead>\n",
       "  <tbody>\n",
       "    <tr>\n",
       "      <th>0</th>\n",
       "      <td>1</td>\n",
       "      <td>8438.0</td>\n",
       "      <td>42</td>\n",
       "      <td>высшее</td>\n",
       "      <td>0</td>\n",
       "      <td>женат / замужем</td>\n",
       "      <td>0</td>\n",
       "      <td>F</td>\n",
       "      <td>сотрудник</td>\n",
       "      <td>0</td>\n",
       "      <td>253875</td>\n",
       "      <td>покупка жилья</td>\n",
       "      <td>23</td>\n",
       "    </tr>\n",
       "    <tr>\n",
       "      <th>1</th>\n",
       "      <td>1</td>\n",
       "      <td>4025.0</td>\n",
       "      <td>36</td>\n",
       "      <td>среднее</td>\n",
       "      <td>1</td>\n",
       "      <td>женат / замужем</td>\n",
       "      <td>0</td>\n",
       "      <td>F</td>\n",
       "      <td>сотрудник</td>\n",
       "      <td>0</td>\n",
       "      <td>112080</td>\n",
       "      <td>приобретение автомобиля</td>\n",
       "      <td>11</td>\n",
       "    </tr>\n",
       "    <tr>\n",
       "      <th>2</th>\n",
       "      <td>0</td>\n",
       "      <td>5623.0</td>\n",
       "      <td>33</td>\n",
       "      <td>Среднее</td>\n",
       "      <td>1</td>\n",
       "      <td>женат / замужем</td>\n",
       "      <td>0</td>\n",
       "      <td>M</td>\n",
       "      <td>сотрудник</td>\n",
       "      <td>0</td>\n",
       "      <td>145885</td>\n",
       "      <td>покупка жилья</td>\n",
       "      <td>15</td>\n",
       "    </tr>\n",
       "    <tr>\n",
       "      <th>3</th>\n",
       "      <td>3</td>\n",
       "      <td>4125.0</td>\n",
       "      <td>32</td>\n",
       "      <td>среднее</td>\n",
       "      <td>1</td>\n",
       "      <td>женат / замужем</td>\n",
       "      <td>0</td>\n",
       "      <td>M</td>\n",
       "      <td>сотрудник</td>\n",
       "      <td>0</td>\n",
       "      <td>267628</td>\n",
       "      <td>дополнительное образование</td>\n",
       "      <td>11</td>\n",
       "    </tr>\n",
       "    <tr>\n",
       "      <th>4</th>\n",
       "      <td>0</td>\n",
       "      <td>340266.0</td>\n",
       "      <td>53</td>\n",
       "      <td>среднее</td>\n",
       "      <td>1</td>\n",
       "      <td>гражданский брак</td>\n",
       "      <td>1</td>\n",
       "      <td>F</td>\n",
       "      <td>пенсионер</td>\n",
       "      <td>0</td>\n",
       "      <td>158616</td>\n",
       "      <td>сыграть свадьбу</td>\n",
       "      <td>6</td>\n",
       "    </tr>\n",
       "    <tr>\n",
       "      <th>5</th>\n",
       "      <td>0</td>\n",
       "      <td>926.0</td>\n",
       "      <td>27</td>\n",
       "      <td>высшее</td>\n",
       "      <td>0</td>\n",
       "      <td>гражданский брак</td>\n",
       "      <td>1</td>\n",
       "      <td>M</td>\n",
       "      <td>компаньон</td>\n",
       "      <td>0</td>\n",
       "      <td>255763</td>\n",
       "      <td>покупка жилья</td>\n",
       "      <td>2</td>\n",
       "    </tr>\n",
       "    <tr>\n",
       "      <th>6</th>\n",
       "      <td>0</td>\n",
       "      <td>2879.0</td>\n",
       "      <td>43</td>\n",
       "      <td>высшее</td>\n",
       "      <td>0</td>\n",
       "      <td>женат / замужем</td>\n",
       "      <td>0</td>\n",
       "      <td>F</td>\n",
       "      <td>компаньон</td>\n",
       "      <td>0</td>\n",
       "      <td>240525</td>\n",
       "      <td>операции с жильем</td>\n",
       "      <td>7</td>\n",
       "    </tr>\n",
       "    <tr>\n",
       "      <th>7</th>\n",
       "      <td>0</td>\n",
       "      <td>153.0</td>\n",
       "      <td>50</td>\n",
       "      <td>СРЕДНЕЕ</td>\n",
       "      <td>1</td>\n",
       "      <td>женат / замужем</td>\n",
       "      <td>0</td>\n",
       "      <td>M</td>\n",
       "      <td>сотрудник</td>\n",
       "      <td>0</td>\n",
       "      <td>135823</td>\n",
       "      <td>образование</td>\n",
       "      <td>0</td>\n",
       "    </tr>\n",
       "    <tr>\n",
       "      <th>8</th>\n",
       "      <td>2</td>\n",
       "      <td>6930.0</td>\n",
       "      <td>35</td>\n",
       "      <td>ВЫСШЕЕ</td>\n",
       "      <td>0</td>\n",
       "      <td>гражданский брак</td>\n",
       "      <td>1</td>\n",
       "      <td>F</td>\n",
       "      <td>сотрудник</td>\n",
       "      <td>0</td>\n",
       "      <td>95856</td>\n",
       "      <td>на проведение свадьбы</td>\n",
       "      <td>18</td>\n",
       "    </tr>\n",
       "    <tr>\n",
       "      <th>9</th>\n",
       "      <td>0</td>\n",
       "      <td>2189.0</td>\n",
       "      <td>41</td>\n",
       "      <td>среднее</td>\n",
       "      <td>1</td>\n",
       "      <td>женат / замужем</td>\n",
       "      <td>0</td>\n",
       "      <td>M</td>\n",
       "      <td>сотрудник</td>\n",
       "      <td>0</td>\n",
       "      <td>144425</td>\n",
       "      <td>покупка жилья для семьи</td>\n",
       "      <td>5</td>\n",
       "    </tr>\n",
       "  </tbody>\n",
       "</table>\n",
       "</div>"
      ],
      "text/plain": [
       "   children  days_employed  dob_years education  education_id  \\\n",
       "0         1         8438.0         42    высшее             0   \n",
       "1         1         4025.0         36   среднее             1   \n",
       "2         0         5623.0         33   Среднее             1   \n",
       "3         3         4125.0         32   среднее             1   \n",
       "4         0       340266.0         53   среднее             1   \n",
       "5         0          926.0         27    высшее             0   \n",
       "6         0         2879.0         43    высшее             0   \n",
       "7         0          153.0         50   СРЕДНЕЕ             1   \n",
       "8         2         6930.0         35    ВЫСШЕЕ             0   \n",
       "9         0         2189.0         41   среднее             1   \n",
       "\n",
       "      family_status  family_status_id gender income_type  debt  total_income  \\\n",
       "0   женат / замужем                 0      F   сотрудник     0        253875   \n",
       "1   женат / замужем                 0      F   сотрудник     0        112080   \n",
       "2   женат / замужем                 0      M   сотрудник     0        145885   \n",
       "3   женат / замужем                 0      M   сотрудник     0        267628   \n",
       "4  гражданский брак                 1      F   пенсионер     0        158616   \n",
       "5  гражданский брак                 1      M   компаньон     0        255763   \n",
       "6   женат / замужем                 0      F   компаньон     0        240525   \n",
       "7   женат / замужем                 0      M   сотрудник     0        135823   \n",
       "8  гражданский брак                 1      F   сотрудник     0         95856   \n",
       "9   женат / замужем                 0      M   сотрудник     0        144425   \n",
       "\n",
       "                      purpose  years_employed  \n",
       "0               покупка жилья              23  \n",
       "1     приобретение автомобиля              11  \n",
       "2               покупка жилья              15  \n",
       "3  дополнительное образование              11  \n",
       "4             сыграть свадьбу               6  \n",
       "5               покупка жилья               2  \n",
       "6           операции с жильем               7  \n",
       "7                 образование               0  \n",
       "8       на проведение свадьбы              18  \n",
       "9     покупка жилья для семьи               5  "
      ]
     },
     "execution_count": 29,
     "metadata": {},
     "output_type": "execute_result"
    }
   ],
   "source": [
    "df.head(10)"
   ]
  },
  {
   "cell_type": "code",
   "execution_count": 30,
   "id": "360f7e4e",
   "metadata": {},
   "outputs": [
    {
     "data": {
      "text/html": [
       "<div>\n",
       "<style scoped>\n",
       "    .dataframe tbody tr th:only-of-type {\n",
       "        vertical-align: middle;\n",
       "    }\n",
       "\n",
       "    .dataframe tbody tr th {\n",
       "        vertical-align: top;\n",
       "    }\n",
       "\n",
       "    .dataframe thead th {\n",
       "        text-align: right;\n",
       "    }\n",
       "</style>\n",
       "<table border=\"1\" class=\"dataframe\">\n",
       "  <thead>\n",
       "    <tr style=\"text-align: right;\">\n",
       "      <th></th>\n",
       "      <th>children</th>\n",
       "      <th>days_employed</th>\n",
       "      <th>dob_years</th>\n",
       "      <th>education</th>\n",
       "      <th>education_id</th>\n",
       "      <th>family_status</th>\n",
       "      <th>family_status_id</th>\n",
       "      <th>gender</th>\n",
       "      <th>income_type</th>\n",
       "      <th>debt</th>\n",
       "      <th>total_income</th>\n",
       "      <th>purpose</th>\n",
       "      <th>years_employed</th>\n",
       "    </tr>\n",
       "  </thead>\n",
       "  <tbody>\n",
       "    <tr>\n",
       "      <th>21515</th>\n",
       "      <td>1</td>\n",
       "      <td>468.0</td>\n",
       "      <td>28</td>\n",
       "      <td>среднее</td>\n",
       "      <td>1</td>\n",
       "      <td>женат / замужем</td>\n",
       "      <td>0</td>\n",
       "      <td>F</td>\n",
       "      <td>сотрудник</td>\n",
       "      <td>1</td>\n",
       "      <td>109486</td>\n",
       "      <td>заняться образованием</td>\n",
       "      <td>1</td>\n",
       "    </tr>\n",
       "    <tr>\n",
       "      <th>21516</th>\n",
       "      <td>0</td>\n",
       "      <td>914.0</td>\n",
       "      <td>42</td>\n",
       "      <td>высшее</td>\n",
       "      <td>0</td>\n",
       "      <td>женат / замужем</td>\n",
       "      <td>0</td>\n",
       "      <td>F</td>\n",
       "      <td>компаньон</td>\n",
       "      <td>0</td>\n",
       "      <td>322807</td>\n",
       "      <td>покупка своего жилья</td>\n",
       "      <td>2</td>\n",
       "    </tr>\n",
       "    <tr>\n",
       "      <th>21517</th>\n",
       "      <td>0</td>\n",
       "      <td>405.0</td>\n",
       "      <td>42</td>\n",
       "      <td>высшее</td>\n",
       "      <td>0</td>\n",
       "      <td>гражданский брак</td>\n",
       "      <td>1</td>\n",
       "      <td>F</td>\n",
       "      <td>компаньон</td>\n",
       "      <td>0</td>\n",
       "      <td>178059</td>\n",
       "      <td>на покупку своего автомобиля</td>\n",
       "      <td>1</td>\n",
       "    </tr>\n",
       "    <tr>\n",
       "      <th>21518</th>\n",
       "      <td>0</td>\n",
       "      <td>373996.0</td>\n",
       "      <td>59</td>\n",
       "      <td>СРЕДНЕЕ</td>\n",
       "      <td>1</td>\n",
       "      <td>женат / замужем</td>\n",
       "      <td>0</td>\n",
       "      <td>F</td>\n",
       "      <td>пенсионер</td>\n",
       "      <td>0</td>\n",
       "      <td>153864</td>\n",
       "      <td>сделка с автомобилем</td>\n",
       "      <td>6</td>\n",
       "    </tr>\n",
       "    <tr>\n",
       "      <th>21519</th>\n",
       "      <td>1</td>\n",
       "      <td>2351.0</td>\n",
       "      <td>37</td>\n",
       "      <td>ученая степень</td>\n",
       "      <td>4</td>\n",
       "      <td>в разводе</td>\n",
       "      <td>3</td>\n",
       "      <td>M</td>\n",
       "      <td>сотрудник</td>\n",
       "      <td>0</td>\n",
       "      <td>115949</td>\n",
       "      <td>покупка коммерческой недвижимости</td>\n",
       "      <td>6</td>\n",
       "    </tr>\n",
       "    <tr>\n",
       "      <th>21520</th>\n",
       "      <td>1</td>\n",
       "      <td>4529.0</td>\n",
       "      <td>43</td>\n",
       "      <td>среднее</td>\n",
       "      <td>1</td>\n",
       "      <td>гражданский брак</td>\n",
       "      <td>1</td>\n",
       "      <td>F</td>\n",
       "      <td>компаньон</td>\n",
       "      <td>0</td>\n",
       "      <td>224791</td>\n",
       "      <td>операции с жильем</td>\n",
       "      <td>12</td>\n",
       "    </tr>\n",
       "    <tr>\n",
       "      <th>21521</th>\n",
       "      <td>0</td>\n",
       "      <td>343937.0</td>\n",
       "      <td>67</td>\n",
       "      <td>среднее</td>\n",
       "      <td>1</td>\n",
       "      <td>женат / замужем</td>\n",
       "      <td>0</td>\n",
       "      <td>F</td>\n",
       "      <td>пенсионер</td>\n",
       "      <td>0</td>\n",
       "      <td>155999</td>\n",
       "      <td>сделка с автомобилем</td>\n",
       "      <td>6</td>\n",
       "    </tr>\n",
       "    <tr>\n",
       "      <th>21522</th>\n",
       "      <td>1</td>\n",
       "      <td>2113.0</td>\n",
       "      <td>38</td>\n",
       "      <td>среднее</td>\n",
       "      <td>1</td>\n",
       "      <td>гражданский брак</td>\n",
       "      <td>1</td>\n",
       "      <td>M</td>\n",
       "      <td>сотрудник</td>\n",
       "      <td>1</td>\n",
       "      <td>89672</td>\n",
       "      <td>недвижимость</td>\n",
       "      <td>5</td>\n",
       "    </tr>\n",
       "    <tr>\n",
       "      <th>21523</th>\n",
       "      <td>3</td>\n",
       "      <td>3112.0</td>\n",
       "      <td>38</td>\n",
       "      <td>среднее</td>\n",
       "      <td>1</td>\n",
       "      <td>женат / замужем</td>\n",
       "      <td>0</td>\n",
       "      <td>M</td>\n",
       "      <td>сотрудник</td>\n",
       "      <td>1</td>\n",
       "      <td>244093</td>\n",
       "      <td>на покупку своего автомобиля</td>\n",
       "      <td>8</td>\n",
       "    </tr>\n",
       "    <tr>\n",
       "      <th>21524</th>\n",
       "      <td>2</td>\n",
       "      <td>1985.0</td>\n",
       "      <td>40</td>\n",
       "      <td>среднее</td>\n",
       "      <td>1</td>\n",
       "      <td>женат / замужем</td>\n",
       "      <td>0</td>\n",
       "      <td>F</td>\n",
       "      <td>сотрудник</td>\n",
       "      <td>0</td>\n",
       "      <td>82047</td>\n",
       "      <td>на покупку автомобиля</td>\n",
       "      <td>5</td>\n",
       "    </tr>\n",
       "  </tbody>\n",
       "</table>\n",
       "</div>"
      ],
      "text/plain": [
       "       children  days_employed  dob_years       education  education_id  \\\n",
       "21515         1          468.0         28         среднее             1   \n",
       "21516         0          914.0         42          высшее             0   \n",
       "21517         0          405.0         42          высшее             0   \n",
       "21518         0       373996.0         59         СРЕДНЕЕ             1   \n",
       "21519         1         2351.0         37  ученая степень             4   \n",
       "21520         1         4529.0         43         среднее             1   \n",
       "21521         0       343937.0         67         среднее             1   \n",
       "21522         1         2113.0         38         среднее             1   \n",
       "21523         3         3112.0         38         среднее             1   \n",
       "21524         2         1985.0         40         среднее             1   \n",
       "\n",
       "          family_status  family_status_id gender income_type  debt  \\\n",
       "21515   женат / замужем                 0      F   сотрудник     1   \n",
       "21516   женат / замужем                 0      F   компаньон     0   \n",
       "21517  гражданский брак                 1      F   компаньон     0   \n",
       "21518   женат / замужем                 0      F   пенсионер     0   \n",
       "21519         в разводе                 3      M   сотрудник     0   \n",
       "21520  гражданский брак                 1      F   компаньон     0   \n",
       "21521   женат / замужем                 0      F   пенсионер     0   \n",
       "21522  гражданский брак                 1      M   сотрудник     1   \n",
       "21523   женат / замужем                 0      M   сотрудник     1   \n",
       "21524   женат / замужем                 0      F   сотрудник     0   \n",
       "\n",
       "       total_income                            purpose  years_employed  \n",
       "21515        109486              заняться образованием               1  \n",
       "21516        322807               покупка своего жилья               2  \n",
       "21517        178059       на покупку своего автомобиля               1  \n",
       "21518        153864               сделка с автомобилем               6  \n",
       "21519        115949  покупка коммерческой недвижимости               6  \n",
       "21520        224791                  операции с жильем              12  \n",
       "21521        155999               сделка с автомобилем               6  \n",
       "21522         89672                       недвижимость               5  \n",
       "21523        244093       на покупку своего автомобиля               8  \n",
       "21524         82047              на покупку автомобиля               5  "
      ]
     },
     "execution_count": 30,
     "metadata": {},
     "output_type": "execute_result"
    }
   ],
   "source": [
    "df.tail(10)"
   ]
  },
  {
   "cell_type": "markdown",
   "id": "c8c6b62d",
   "metadata": {},
   "source": [
    " Следующим шагом выявим и обработаем неявные дубликаты в столбцах education, family_status, income_type, purpose."
   ]
  },
  {
   "cell_type": "markdown",
   "id": "0f5387eb",
   "metadata": {},
   "source": [
    "### Шаг 3. Выявление и обработка неявных дубликатов в данных."
   ]
  },
  {
   "cell_type": "markdown",
   "id": "baa5feb6",
   "metadata": {},
   "source": [
    "#### Выявление столбцов с дубликатами в данных."
   ]
  },
  {
   "cell_type": "code",
   "execution_count": 31,
   "id": "7d17074e",
   "metadata": {},
   "outputs": [
    {
     "data": {
      "text/plain": [
       "среднее                13750\n",
       "высшее                  4718\n",
       "СРЕДНЕЕ                  772\n",
       "Среднее                  711\n",
       "неоконченное высшее      668\n",
       "ВЫСШЕЕ                   274\n",
       "Высшее                   268\n",
       "начальное                250\n",
       "Неоконченное высшее       47\n",
       "НЕОКОНЧЕННОЕ ВЫСШЕЕ       29\n",
       "НАЧАЛЬНОЕ                 17\n",
       "Начальное                 15\n",
       "ученая степень             4\n",
       "УЧЕНАЯ СТЕПЕНЬ             1\n",
       "Ученая степень             1\n",
       "Name: education, dtype: int64"
      ]
     },
     "execution_count": 31,
     "metadata": {},
     "output_type": "execute_result"
    }
   ],
   "source": [
    "# число уникальных значений столбца education\n",
    "df['education'].value_counts()"
   ]
  },
  {
   "cell_type": "markdown",
   "id": "a8ae35d1",
   "metadata": {},
   "source": [
    " Приведем все неявные дубликаты к единому виду и заменим значения в столбце education с помощью перевода всего столбца в нижний регистр.\n",
    " "
   ]
  },
  {
   "cell_type": "code",
   "execution_count": 32,
   "id": "9e217f06",
   "metadata": {},
   "outputs": [],
   "source": [
    "# последовательное применение метода lower() в столбце education\n",
    "df['education'] = df['education'].str.lower()\n"
   ]
  },
  {
   "cell_type": "code",
   "execution_count": 33,
   "id": "ebd94786",
   "metadata": {},
   "outputs": [
    {
     "data": {
      "text/plain": [
       "среднее                15233\n",
       "высшее                  5260\n",
       "неоконченное высшее      744\n",
       "начальное                282\n",
       "ученая степень             6\n",
       "Name: education, dtype: int64"
      ]
     },
     "execution_count": 33,
     "metadata": {},
     "output_type": "execute_result"
    }
   ],
   "source": [
    "df['education'].value_counts()"
   ]
  },
  {
   "cell_type": "code",
   "execution_count": 34,
   "id": "5ede8386",
   "metadata": {},
   "outputs": [
    {
     "data": {
      "text/plain": [
       "женат / замужем          12380\n",
       "гражданский брак          4177\n",
       "Не женат / не замужем     2813\n",
       "в разводе                 1195\n",
       "вдовец / вдова             960\n",
       "Name: family_status, dtype: int64"
      ]
     },
     "execution_count": 34,
     "metadata": {},
     "output_type": "execute_result"
    }
   ],
   "source": [
    "# число уникальных значений в столбце family_status\n",
    "df['family_status'].value_counts()"
   ]
  },
  {
   "cell_type": "code",
   "execution_count": 35,
   "id": "c87ef5e5",
   "metadata": {},
   "outputs": [
    {
     "data": {
      "text/plain": [
       "сотрудник          11119\n",
       "компаньон           5085\n",
       "пенсионер           3856\n",
       "госслужащий         1459\n",
       "предприниматель        2\n",
       "безработный            2\n",
       "в декрете              1\n",
       "студент                1\n",
       "Name: income_type, dtype: int64"
      ]
     },
     "execution_count": 35,
     "metadata": {},
     "output_type": "execute_result"
    }
   ],
   "source": [
    "# число уникальных значений в столбце income_type\n",
    "df['income_type'].value_counts()"
   ]
  },
  {
   "cell_type": "markdown",
   "id": "5f3995d2",
   "metadata": {},
   "source": [
    "Создадим DF словари для столбцов education_id и education и family_status_id и family_status — во втором и удалим дубликаты."
   ]
  },
  {
   "cell_type": "markdown",
   "id": "32c4c973",
   "metadata": {},
   "source": [
    "#### Создание id словарей для категоризации данных в столбцах education и family_status."
   ]
  },
  {
   "cell_type": "code",
   "execution_count": 36,
   "id": "8ecb9b37",
   "metadata": {},
   "outputs": [],
   "source": [
    "# создадим DF df_education и удалим дублирующиеся значения\n",
    "df_education = df[['education_id', 'education']]\n",
    "df_education = df_education.drop_duplicates().reset_index(drop=True)"
   ]
  },
  {
   "cell_type": "code",
   "execution_count": 37,
   "id": "711c1f88",
   "metadata": {},
   "outputs": [
    {
     "name": "stdout",
     "output_type": "stream",
     "text": [
      "<class 'pandas.core.frame.DataFrame'>\n",
      "RangeIndex: 5 entries, 0 to 4\n",
      "Data columns (total 2 columns):\n",
      " #   Column        Non-Null Count  Dtype \n",
      "---  ------        --------------  ----- \n",
      " 0   education_id  5 non-null      int64 \n",
      " 1   education     5 non-null      object\n",
      "dtypes: int64(1), object(1)\n",
      "memory usage: 208.0+ bytes\n"
     ]
    }
   ],
   "source": [
    "df_education.info()"
   ]
  },
  {
   "cell_type": "code",
   "execution_count": 38,
   "id": "5fce11a9",
   "metadata": {},
   "outputs": [
    {
     "data": {
      "text/html": [
       "<div>\n",
       "<style scoped>\n",
       "    .dataframe tbody tr th:only-of-type {\n",
       "        vertical-align: middle;\n",
       "    }\n",
       "\n",
       "    .dataframe tbody tr th {\n",
       "        vertical-align: top;\n",
       "    }\n",
       "\n",
       "    .dataframe thead th {\n",
       "        text-align: right;\n",
       "    }\n",
       "</style>\n",
       "<table border=\"1\" class=\"dataframe\">\n",
       "  <thead>\n",
       "    <tr style=\"text-align: right;\">\n",
       "      <th></th>\n",
       "      <th>education_id</th>\n",
       "      <th>education</th>\n",
       "    </tr>\n",
       "  </thead>\n",
       "  <tbody>\n",
       "    <tr>\n",
       "      <th>0</th>\n",
       "      <td>0</td>\n",
       "      <td>высшее</td>\n",
       "    </tr>\n",
       "    <tr>\n",
       "      <th>1</th>\n",
       "      <td>1</td>\n",
       "      <td>среднее</td>\n",
       "    </tr>\n",
       "    <tr>\n",
       "      <th>2</th>\n",
       "      <td>2</td>\n",
       "      <td>неоконченное высшее</td>\n",
       "    </tr>\n",
       "    <tr>\n",
       "      <th>3</th>\n",
       "      <td>3</td>\n",
       "      <td>начальное</td>\n",
       "    </tr>\n",
       "    <tr>\n",
       "      <th>4</th>\n",
       "      <td>4</td>\n",
       "      <td>ученая степень</td>\n",
       "    </tr>\n",
       "  </tbody>\n",
       "</table>\n",
       "</div>"
      ],
      "text/plain": [
       "   education_id            education\n",
       "0             0               высшее\n",
       "1             1              среднее\n",
       "2             2  неоконченное высшее\n",
       "3             3            начальное\n",
       "4             4       ученая степень"
      ]
     },
     "execution_count": 38,
     "metadata": {},
     "output_type": "execute_result"
    }
   ],
   "source": [
    "df_education"
   ]
  },
  {
   "cell_type": "code",
   "execution_count": 39,
   "id": "bcf53cea",
   "metadata": {},
   "outputs": [],
   "source": [
    "# создадим DF df_family_status и удалим дублирующиеся значения\n",
    "df_family_status = df[['family_status_id', 'family_status']]\n",
    "df_family_status = df_family_status.drop_duplicates().reset_index(drop=True)"
   ]
  },
  {
   "cell_type": "code",
   "execution_count": 40,
   "id": "ccce70aa",
   "metadata": {},
   "outputs": [
    {
     "name": "stdout",
     "output_type": "stream",
     "text": [
      "<class 'pandas.core.frame.DataFrame'>\n",
      "RangeIndex: 5 entries, 0 to 4\n",
      "Data columns (total 2 columns):\n",
      " #   Column            Non-Null Count  Dtype \n",
      "---  ------            --------------  ----- \n",
      " 0   family_status_id  5 non-null      int64 \n",
      " 1   family_status     5 non-null      object\n",
      "dtypes: int64(1), object(1)\n",
      "memory usage: 208.0+ bytes\n"
     ]
    }
   ],
   "source": [
    "df_family_status.info()"
   ]
  },
  {
   "cell_type": "code",
   "execution_count": 41,
   "id": "66819211",
   "metadata": {},
   "outputs": [
    {
     "data": {
      "text/html": [
       "<div>\n",
       "<style scoped>\n",
       "    .dataframe tbody tr th:only-of-type {\n",
       "        vertical-align: middle;\n",
       "    }\n",
       "\n",
       "    .dataframe tbody tr th {\n",
       "        vertical-align: top;\n",
       "    }\n",
       "\n",
       "    .dataframe thead th {\n",
       "        text-align: right;\n",
       "    }\n",
       "</style>\n",
       "<table border=\"1\" class=\"dataframe\">\n",
       "  <thead>\n",
       "    <tr style=\"text-align: right;\">\n",
       "      <th></th>\n",
       "      <th>family_status_id</th>\n",
       "      <th>family_status</th>\n",
       "    </tr>\n",
       "  </thead>\n",
       "  <tbody>\n",
       "    <tr>\n",
       "      <th>0</th>\n",
       "      <td>0</td>\n",
       "      <td>женат / замужем</td>\n",
       "    </tr>\n",
       "    <tr>\n",
       "      <th>1</th>\n",
       "      <td>1</td>\n",
       "      <td>гражданский брак</td>\n",
       "    </tr>\n",
       "    <tr>\n",
       "      <th>2</th>\n",
       "      <td>2</td>\n",
       "      <td>вдовец / вдова</td>\n",
       "    </tr>\n",
       "    <tr>\n",
       "      <th>3</th>\n",
       "      <td>3</td>\n",
       "      <td>в разводе</td>\n",
       "    </tr>\n",
       "    <tr>\n",
       "      <th>4</th>\n",
       "      <td>4</td>\n",
       "      <td>Не женат / не замужем</td>\n",
       "    </tr>\n",
       "  </tbody>\n",
       "</table>\n",
       "</div>"
      ],
      "text/plain": [
       "   family_status_id          family_status\n",
       "0                 0        женат / замужем\n",
       "1                 1       гражданский брак\n",
       "2                 2         вдовец / вдова\n",
       "3                 3              в разводе\n",
       "4                 4  Не женат / не замужем"
      ]
     },
     "execution_count": 41,
     "metadata": {},
     "output_type": "execute_result"
    }
   ],
   "source": [
    "df_family_status"
   ]
  },
  {
   "cell_type": "markdown",
   "id": "828befaf",
   "metadata": {},
   "source": [
    "Мы создали таблицы - идентификаторы категорий. Удалим из общего DF столбцы family_status и education и days_employed."
   ]
  },
  {
   "cell_type": "code",
   "execution_count": 42,
   "id": "a55d9a2d",
   "metadata": {},
   "outputs": [],
   "source": [
    "# удалим столбцы family_status и education\n",
    "df = df.drop('family_status', 1)\n",
    "df = df.drop('education', 1)\n",
    "df = df.drop('days_employed', 1)"
   ]
  },
  {
   "cell_type": "code",
   "execution_count": 43,
   "id": "98be9598",
   "metadata": {},
   "outputs": [
    {
     "name": "stdout",
     "output_type": "stream",
     "text": [
      "<class 'pandas.core.frame.DataFrame'>\n",
      "RangeIndex: 21525 entries, 0 to 21524\n",
      "Data columns (total 10 columns):\n",
      " #   Column            Non-Null Count  Dtype \n",
      "---  ------            --------------  ----- \n",
      " 0   children          21525 non-null  int64 \n",
      " 1   dob_years         21525 non-null  int64 \n",
      " 2   education_id      21525 non-null  int64 \n",
      " 3   family_status_id  21525 non-null  int64 \n",
      " 4   gender            21525 non-null  object\n",
      " 5   income_type       21525 non-null  object\n",
      " 6   debt              21525 non-null  int64 \n",
      " 7   total_income      21525 non-null  int64 \n",
      " 8   purpose           21525 non-null  object\n",
      " 9   years_employed    21525 non-null  int64 \n",
      "dtypes: int64(7), object(3)\n",
      "memory usage: 1.6+ MB\n"
     ]
    }
   ],
   "source": [
    "df.info()"
   ]
  },
  {
   "cell_type": "markdown",
   "id": "0ad177b3",
   "metadata": {},
   "source": [
    "### Шаг 4. Категоризация  данных."
   ]
  },
  {
   "cell_type": "markdown",
   "id": "13e3c099",
   "metadata": {},
   "source": [
    "#### Категоризация количественных данных по столбцу уровень доходов (total_income_category)."
   ]
  },
  {
   "cell_type": "markdown",
   "id": "d703259a",
   "metadata": {},
   "source": [
    "Категоризация данных.\n",
    "Создадим функцию, которая позволит разделить данные столбца по уровню доходов.\n",
    "0–30000 — 'E';\n",
    "30001–50000 — 'D';\n",
    "50001–200000 — 'C';\n",
    "200001–1000000 — 'B';\n",
    "1000001 и выше — 'A'."
   ]
  },
  {
   "cell_type": "code",
   "execution_count": 44,
   "id": "33e13409",
   "metadata": {},
   "outputs": [],
   "source": [
    "# функция total_income для разделения значений столбца по категориям\n",
    "def total_income(row):\n",
    "    if row <= 30000:\n",
    "        return 'E'\n",
    "    if 30001 <= row <= 50000:\n",
    "        return 'D'\n",
    "    if 50001 <= row <= 200000:\n",
    "        return 'C'\n",
    "    if 200001 <= row <= 1000000:\n",
    "        return 'B'\n",
    "    if 1000001 <= row:\n",
    "        return 'A'\n",
    "    "
   ]
  },
  {
   "cell_type": "code",
   "execution_count": 45,
   "id": "cbe26ee3",
   "metadata": {},
   "outputs": [
    {
     "name": "stdout",
     "output_type": "stream",
     "text": [
      "<class 'pandas.core.frame.DataFrame'>\n",
      "RangeIndex: 21525 entries, 0 to 21524\n",
      "Data columns (total 11 columns):\n",
      " #   Column                 Non-Null Count  Dtype \n",
      "---  ------                 --------------  ----- \n",
      " 0   children               21525 non-null  int64 \n",
      " 1   dob_years              21525 non-null  int64 \n",
      " 2   education_id           21525 non-null  int64 \n",
      " 3   family_status_id       21525 non-null  int64 \n",
      " 4   gender                 21525 non-null  object\n",
      " 5   income_type            21525 non-null  object\n",
      " 6   debt                   21525 non-null  int64 \n",
      " 7   total_income           21525 non-null  int64 \n",
      " 8   purpose                21525 non-null  object\n",
      " 9   years_employed         21525 non-null  int64 \n",
      " 10  total_income_category  21525 non-null  object\n",
      "dtypes: int64(7), object(4)\n",
      "memory usage: 1.8+ MB\n"
     ]
    }
   ],
   "source": [
    "# применение функции total_income к столбцу df total_income\n",
    "df['total_income_category'] = df['total_income'].apply(total_income)\n",
    "df.info()"
   ]
  },
  {
   "cell_type": "code",
   "execution_count": 46,
   "id": "6ccb0fbe",
   "metadata": {},
   "outputs": [
    {
     "data": {
      "text/html": [
       "<div>\n",
       "<style scoped>\n",
       "    .dataframe tbody tr th:only-of-type {\n",
       "        vertical-align: middle;\n",
       "    }\n",
       "\n",
       "    .dataframe tbody tr th {\n",
       "        vertical-align: top;\n",
       "    }\n",
       "\n",
       "    .dataframe thead th {\n",
       "        text-align: right;\n",
       "    }\n",
       "</style>\n",
       "<table border=\"1\" class=\"dataframe\">\n",
       "  <thead>\n",
       "    <tr style=\"text-align: right;\">\n",
       "      <th></th>\n",
       "      <th>children</th>\n",
       "      <th>dob_years</th>\n",
       "      <th>education_id</th>\n",
       "      <th>family_status_id</th>\n",
       "      <th>gender</th>\n",
       "      <th>income_type</th>\n",
       "      <th>debt</th>\n",
       "      <th>total_income</th>\n",
       "      <th>purpose</th>\n",
       "      <th>years_employed</th>\n",
       "      <th>total_income_category</th>\n",
       "    </tr>\n",
       "  </thead>\n",
       "  <tbody>\n",
       "    <tr>\n",
       "      <th>0</th>\n",
       "      <td>1</td>\n",
       "      <td>42</td>\n",
       "      <td>0</td>\n",
       "      <td>0</td>\n",
       "      <td>F</td>\n",
       "      <td>сотрудник</td>\n",
       "      <td>0</td>\n",
       "      <td>253875</td>\n",
       "      <td>покупка жилья</td>\n",
       "      <td>23</td>\n",
       "      <td>B</td>\n",
       "    </tr>\n",
       "    <tr>\n",
       "      <th>1</th>\n",
       "      <td>1</td>\n",
       "      <td>36</td>\n",
       "      <td>1</td>\n",
       "      <td>0</td>\n",
       "      <td>F</td>\n",
       "      <td>сотрудник</td>\n",
       "      <td>0</td>\n",
       "      <td>112080</td>\n",
       "      <td>приобретение автомобиля</td>\n",
       "      <td>11</td>\n",
       "      <td>C</td>\n",
       "    </tr>\n",
       "    <tr>\n",
       "      <th>2</th>\n",
       "      <td>0</td>\n",
       "      <td>33</td>\n",
       "      <td>1</td>\n",
       "      <td>0</td>\n",
       "      <td>M</td>\n",
       "      <td>сотрудник</td>\n",
       "      <td>0</td>\n",
       "      <td>145885</td>\n",
       "      <td>покупка жилья</td>\n",
       "      <td>15</td>\n",
       "      <td>C</td>\n",
       "    </tr>\n",
       "    <tr>\n",
       "      <th>3</th>\n",
       "      <td>3</td>\n",
       "      <td>32</td>\n",
       "      <td>1</td>\n",
       "      <td>0</td>\n",
       "      <td>M</td>\n",
       "      <td>сотрудник</td>\n",
       "      <td>0</td>\n",
       "      <td>267628</td>\n",
       "      <td>дополнительное образование</td>\n",
       "      <td>11</td>\n",
       "      <td>B</td>\n",
       "    </tr>\n",
       "    <tr>\n",
       "      <th>4</th>\n",
       "      <td>0</td>\n",
       "      <td>53</td>\n",
       "      <td>1</td>\n",
       "      <td>1</td>\n",
       "      <td>F</td>\n",
       "      <td>пенсионер</td>\n",
       "      <td>0</td>\n",
       "      <td>158616</td>\n",
       "      <td>сыграть свадьбу</td>\n",
       "      <td>6</td>\n",
       "      <td>C</td>\n",
       "    </tr>\n",
       "  </tbody>\n",
       "</table>\n",
       "</div>"
      ],
      "text/plain": [
       "   children  dob_years  education_id  family_status_id gender income_type  \\\n",
       "0         1         42             0                 0      F   сотрудник   \n",
       "1         1         36             1                 0      F   сотрудник   \n",
       "2         0         33             1                 0      M   сотрудник   \n",
       "3         3         32             1                 0      M   сотрудник   \n",
       "4         0         53             1                 1      F   пенсионер   \n",
       "\n",
       "   debt  total_income                     purpose  years_employed  \\\n",
       "0     0        253875               покупка жилья              23   \n",
       "1     0        112080     приобретение автомобиля              11   \n",
       "2     0        145885               покупка жилья              15   \n",
       "3     0        267628  дополнительное образование              11   \n",
       "4     0        158616             сыграть свадьбу               6   \n",
       "\n",
       "  total_income_category  \n",
       "0                     B  \n",
       "1                     C  \n",
       "2                     C  \n",
       "3                     B  \n",
       "4                     C  "
      ]
     },
     "execution_count": 46,
     "metadata": {},
     "output_type": "execute_result"
    }
   ],
   "source": [
    "df.head()"
   ]
  },
  {
   "cell_type": "code",
   "execution_count": 47,
   "id": "5fc83420",
   "metadata": {},
   "outputs": [
    {
     "data": {
      "text/plain": [
       "C    16086\n",
       "B     5042\n",
       "D      350\n",
       "A       25\n",
       "E       22\n",
       "Name: total_income_category, dtype: int64"
      ]
     },
     "execution_count": 47,
     "metadata": {},
     "output_type": "execute_result"
    }
   ],
   "source": [
    "df['total_income_category'].value_counts()"
   ]
  },
  {
   "cell_type": "markdown",
   "id": "e84f136b",
   "metadata": {},
   "source": [
    "#### Категоризация качественных данных столбца purpose."
   ]
  },
  {
   "cell_type": "markdown",
   "id": "f1b1cd6b",
   "metadata": {},
   "source": [
    "Создадим функцию, которая распределит значения столбца purpose по категориям: 'операции с автомобилем', 'операции с недвижимостью', 'проведение свадьбы', 'получение образования'."
   ]
  },
  {
   "cell_type": "code",
   "execution_count": 48,
   "id": "13fcb5ed",
   "metadata": {},
   "outputs": [
    {
     "data": {
      "text/plain": [
       "свадьба                                   797\n",
       "на проведение свадьбы                     777\n",
       "сыграть свадьбу                           774\n",
       "операции с недвижимостью                  676\n",
       "покупка коммерческой недвижимости         664\n",
       "операции с жильем                         653\n",
       "покупка жилья для сдачи                   653\n",
       "операции с коммерческой недвижимостью     651\n",
       "покупка жилья                             647\n",
       "жилье                                     647\n",
       "покупка жилья для семьи                   641\n",
       "строительство собственной недвижимости    635\n",
       "недвижимость                              634\n",
       "операции со своей недвижимостью           630\n",
       "строительство жилой недвижимости          626\n",
       "покупка недвижимости                      624\n",
       "покупка своего жилья                      620\n",
       "строительство недвижимости                620\n",
       "ремонт жилью                              612\n",
       "покупка жилой недвижимости                607\n",
       "на покупку своего автомобиля              505\n",
       "заняться высшим образованием              496\n",
       "автомобиль                                495\n",
       "сделка с подержанным автомобилем          489\n",
       "свой автомобиль                           480\n",
       "на покупку подержанного автомобиля        479\n",
       "автомобили                                478\n",
       "на покупку автомобиля                     472\n",
       "приобретение автомобиля                   462\n",
       "дополнительное образование                462\n",
       "сделка с автомобилем                      455\n",
       "высшее образование                        453\n",
       "получение дополнительного образования     447\n",
       "образование                               447\n",
       "получение образования                     443\n",
       "профильное образование                    436\n",
       "получение высшего образования             426\n",
       "заняться образованием                     412\n",
       "Name: purpose, dtype: int64"
      ]
     },
     "execution_count": 48,
     "metadata": {},
     "output_type": "execute_result"
    }
   ],
   "source": [
    "# число уникальных значений в столбце purpose\n",
    "df['purpose'].value_counts()"
   ]
  },
  {
   "cell_type": "code",
   "execution_count": 49,
   "id": "fa03fe28",
   "metadata": {},
   "outputs": [],
   "source": [
    "# создание функции purpose_function для распределения значений столбца purpose по категориям\n",
    "def purpose_function(row):\n",
    "    if 'свад' in row:\n",
    "        return 'проведение свадьбы'\n",
    "    if 'обр' in row:\n",
    "        return 'получение образования'\n",
    "    if 'авт' in row:\n",
    "        return 'операции с автомобилем'\n",
    "    if 'жи' in row:\n",
    "        return 'операции с недвижимостью'\n",
    "    else:\n",
    "        return 'дополнительная категория'"
   ]
  },
  {
   "cell_type": "code",
   "execution_count": 50,
   "id": "44349711",
   "metadata": {},
   "outputs": [
    {
     "name": "stdout",
     "output_type": "stream",
     "text": [
      "<class 'pandas.core.frame.DataFrame'>\n",
      "RangeIndex: 21525 entries, 0 to 21524\n",
      "Data columns (total 12 columns):\n",
      " #   Column                 Non-Null Count  Dtype \n",
      "---  ------                 --------------  ----- \n",
      " 0   children               21525 non-null  int64 \n",
      " 1   dob_years              21525 non-null  int64 \n",
      " 2   education_id           21525 non-null  int64 \n",
      " 3   family_status_id       21525 non-null  int64 \n",
      " 4   gender                 21525 non-null  object\n",
      " 5   income_type            21525 non-null  object\n",
      " 6   debt                   21525 non-null  int64 \n",
      " 7   total_income           21525 non-null  int64 \n",
      " 8   purpose                21525 non-null  object\n",
      " 9   years_employed         21525 non-null  int64 \n",
      " 10  total_income_category  21525 non-null  object\n",
      " 11  purpose_category       21525 non-null  object\n",
      "dtypes: int64(7), object(5)\n",
      "memory usage: 2.0+ MB\n"
     ]
    }
   ],
   "source": [
    "df['purpose_category'] = df['purpose'].apply(purpose_function)\n",
    "df.info()"
   ]
  },
  {
   "cell_type": "code",
   "execution_count": 51,
   "id": "2f4a0508",
   "metadata": {},
   "outputs": [
    {
     "data": {
      "text/plain": [
       "операции с недвижимостью    10840\n",
       "получение образования        4484\n",
       "операции с автомобилем       3853\n",
       "проведение свадьбы           2348\n",
       "Name: purpose_category, dtype: int64"
      ]
     },
     "execution_count": 51,
     "metadata": {},
     "output_type": "execute_result"
    }
   ],
   "source": [
    "df['purpose_category'].value_counts()"
   ]
  },
  {
   "cell_type": "markdown",
   "id": "04e9c1e7",
   "metadata": {},
   "source": [
    "Проведена категоризация качественных данных столбца 'purpose', сведения распределены. Большая часть займов приходится на различные операции с недвижимостью, меньше всего - проведение свадьбы. Операции с автомобилем и получение образования занимают среднюю позицию, однако разница между ними и количеством  операций с недвижимостью более, чем в два раза. \n",
    "\n",
    "\n",
    "\n",
    "\n"
   ]
  },
  {
   "cell_type": "markdown",
   "id": "fe577e3b",
   "metadata": {},
   "source": [
    "#### Проверка прочих столбцов data на наличие скрытых аномалий."
   ]
  },
  {
   "cell_type": "markdown",
   "id": "714c92fa",
   "metadata": {},
   "source": [
    "Рассмотрим значения children на наличие аномалий."
   ]
  },
  {
   "cell_type": "code",
   "execution_count": 52,
   "id": "66d22e33",
   "metadata": {},
   "outputs": [
    {
     "data": {
      "text/plain": [
       " 0     14149\n",
       " 1      4818\n",
       " 2      2055\n",
       " 3       330\n",
       " 20       76\n",
       "-1        47\n",
       " 4        41\n",
       " 5         9\n",
       "Name: children, dtype: int64"
      ]
     },
     "execution_count": 52,
     "metadata": {},
     "output_type": "execute_result"
    }
   ],
   "source": [
    "df['children'].value_counts()"
   ]
  },
  {
   "cell_type": "markdown",
   "id": "ef7ee551",
   "metadata": {},
   "source": [
    "Очевидно, что в значения закралась аномалия. -1 ребенок скорее всего ошибка при записи и означает 1 ребенка, а 20 детей преобразуем в 2 ребенка. "
   ]
  },
  {
   "cell_type": "code",
   "execution_count": 53,
   "id": "12f89f6f",
   "metadata": {},
   "outputs": [],
   "source": [
    "# преобразование столбца children, при котором -1 будет означать 1 ребенка, а 20 является 2 детьми.\n",
    "df.loc[df['children'] == -1, 'children'] = 1\n",
    "df.loc[df['children'] == 20, 'children'] = 2"
   ]
  },
  {
   "cell_type": "code",
   "execution_count": 54,
   "id": "498ad704",
   "metadata": {},
   "outputs": [
    {
     "data": {
      "text/plain": [
       "0    14149\n",
       "1     4865\n",
       "2     2131\n",
       "3      330\n",
       "4       41\n",
       "5        9\n",
       "Name: children, dtype: int64"
      ]
     },
     "execution_count": 54,
     "metadata": {},
     "output_type": "execute_result"
    }
   ],
   "source": [
    "df['children'].value_counts()"
   ]
  },
  {
   "cell_type": "markdown",
   "id": "69e64f20",
   "metadata": {},
   "source": [
    "Проверим столбец debt на наличие аномалий."
   ]
  },
  {
   "cell_type": "code",
   "execution_count": 55,
   "id": "1dd8c7ba",
   "metadata": {},
   "outputs": [
    {
     "data": {
      "text/plain": [
       "0    19784\n",
       "1     1741\n",
       "Name: debt, dtype: int64"
      ]
     },
     "execution_count": 55,
     "metadata": {},
     "output_type": "execute_result"
    }
   ],
   "source": [
    "df['debt'].value_counts()"
   ]
  },
  {
   "cell_type": "markdown",
   "id": "0a809bb3",
   "metadata": {},
   "source": [
    "Провели категоризацию как количественных, так и качественных данных, проверили все столбцы DF на наличие аномалий, внесли требуемые корректировки."
   ]
  },
  {
   "cell_type": "markdown",
   "id": "47d0521d",
   "metadata": {},
   "source": [
    "На основании проведенного анализа ответим на следующие вопросы:\n",
    "Есть ли зависимость между количеством детей и возвратом кредита в срок?\n",
    "Есть ли зависимость между семейным положением и возвратом кредита в срок?\n",
    "Есть ли зависимость между уровнем дохода и возвратом кредита в срок?\n",
    "Как разные цели кредита влияют на его возврат в срок?"
   ]
  },
  {
   "cell_type": "markdown",
   "id": "91f4ca65",
   "metadata": {},
   "source": [
    "## Ответы на вопросы"
   ]
  },
  {
   "cell_type": "markdown",
   "id": "0f5efddb",
   "metadata": {},
   "source": [
    "###  Есть ли зависимость между количеством детей и возвратом кредита в срок?"
   ]
  },
  {
   "cell_type": "code",
   "execution_count": 56,
   "id": "dbefb35c",
   "metadata": {},
   "outputs": [
    {
     "data": {
      "text/plain": [
       "0    14149\n",
       "1     4865\n",
       "2     2131\n",
       "3      330\n",
       "4       41\n",
       "5        9\n",
       "Name: children, dtype: int64"
      ]
     },
     "execution_count": 56,
     "metadata": {},
     "output_type": "execute_result"
    }
   ],
   "source": [
    "# определим, какое распределение меду заемщиками по количеству детей\n",
    "df['children'].value_counts()"
   ]
  },
  {
   "cell_type": "code",
   "execution_count": 57,
   "id": "bc780ff8",
   "metadata": {},
   "outputs": [
    {
     "data": {
      "text/html": [
       "<div>\n",
       "<style scoped>\n",
       "    .dataframe tbody tr th:only-of-type {\n",
       "        vertical-align: middle;\n",
       "    }\n",
       "\n",
       "    .dataframe tbody tr th {\n",
       "        vertical-align: top;\n",
       "    }\n",
       "\n",
       "    .dataframe thead th {\n",
       "        text-align: right;\n",
       "    }\n",
       "</style>\n",
       "<table border=\"1\" class=\"dataframe\">\n",
       "  <thead>\n",
       "    <tr style=\"text-align: right;\">\n",
       "      <th></th>\n",
       "      <th>debt</th>\n",
       "    </tr>\n",
       "    <tr>\n",
       "      <th>children</th>\n",
       "      <th></th>\n",
       "    </tr>\n",
       "  </thead>\n",
       "  <tbody>\n",
       "    <tr>\n",
       "      <th>0</th>\n",
       "      <td>0.075129</td>\n",
       "    </tr>\n",
       "    <tr>\n",
       "      <th>1</th>\n",
       "      <td>0.091470</td>\n",
       "    </tr>\n",
       "    <tr>\n",
       "      <th>2</th>\n",
       "      <td>0.094791</td>\n",
       "    </tr>\n",
       "    <tr>\n",
       "      <th>3</th>\n",
       "      <td>0.081818</td>\n",
       "    </tr>\n",
       "    <tr>\n",
       "      <th>4</th>\n",
       "      <td>0.097561</td>\n",
       "    </tr>\n",
       "    <tr>\n",
       "      <th>5</th>\n",
       "      <td>0.000000</td>\n",
       "    </tr>\n",
       "  </tbody>\n",
       "</table>\n",
       "</div>"
      ],
      "text/plain": [
       "              debt\n",
       "children          \n",
       "0         0.075129\n",
       "1         0.091470\n",
       "2         0.094791\n",
       "3         0.081818\n",
       "4         0.097561\n",
       "5         0.000000"
      ]
     },
     "execution_count": 57,
     "metadata": {},
     "output_type": "execute_result"
    }
   ],
   "source": [
    "# рассчитаем среднее значение по столбцу debt при группировке по количеству детей и сортировке по убыванию\n",
    "children_pivot_table = df.pivot_table(index=['children'], values='debt', aggfunc = 'mean')\n",
    "children_pivot_table"
   ]
  },
  {
   "cell_type": "markdown",
   "id": "ae3e1a14",
   "metadata": {},
   "source": [
    "Вывод: на основании полученных данных заемщики с 5 детьми не имеют задолженности, однако их количество в общем объеме заемщиков слишком мало, поэтому в рамках анализа их исключим. На основании полученных данных, можно сделать вывод, что заемщики без детей имеют меньше задолженностей по платежам, и наблюдается небольшой рост по задолженности при увеличении количества детей.\n",
    "\n"
   ]
  },
  {
   "cell_type": "markdown",
   "id": "72ef8a1e",
   "metadata": {},
   "source": [
    "### Есть ли зависимость между семейным положением и возвратом кредита в срок?"
   ]
  },
  {
   "cell_type": "code",
   "execution_count": 58,
   "id": "c600e787",
   "metadata": {},
   "outputs": [
    {
     "data": {
      "text/plain": [
       "0    12380\n",
       "1     4177\n",
       "4     2813\n",
       "3     1195\n",
       "2      960\n",
       "Name: family_status_id, dtype: int64"
      ]
     },
     "execution_count": 58,
     "metadata": {},
     "output_type": "execute_result"
    }
   ],
   "source": [
    "# определим, какое распределение по семейному положению\n",
    "df['family_status_id'].value_counts()"
   ]
  },
  {
   "cell_type": "code",
   "execution_count": 59,
   "id": "f9b859b3",
   "metadata": {},
   "outputs": [
    {
     "data": {
      "text/html": [
       "<div>\n",
       "<style scoped>\n",
       "    .dataframe tbody tr th:only-of-type {\n",
       "        vertical-align: middle;\n",
       "    }\n",
       "\n",
       "    .dataframe tbody tr th {\n",
       "        vertical-align: top;\n",
       "    }\n",
       "\n",
       "    .dataframe thead th {\n",
       "        text-align: right;\n",
       "    }\n",
       "</style>\n",
       "<table border=\"1\" class=\"dataframe\">\n",
       "  <thead>\n",
       "    <tr style=\"text-align: right;\">\n",
       "      <th></th>\n",
       "      <th>debt</th>\n",
       "    </tr>\n",
       "    <tr>\n",
       "      <th>family_status_id</th>\n",
       "      <th></th>\n",
       "    </tr>\n",
       "  </thead>\n",
       "  <tbody>\n",
       "    <tr>\n",
       "      <th>0</th>\n",
       "      <td>0.075202</td>\n",
       "    </tr>\n",
       "    <tr>\n",
       "      <th>1</th>\n",
       "      <td>0.092890</td>\n",
       "    </tr>\n",
       "    <tr>\n",
       "      <th>2</th>\n",
       "      <td>0.065625</td>\n",
       "    </tr>\n",
       "    <tr>\n",
       "      <th>3</th>\n",
       "      <td>0.071130</td>\n",
       "    </tr>\n",
       "    <tr>\n",
       "      <th>4</th>\n",
       "      <td>0.097405</td>\n",
       "    </tr>\n",
       "  </tbody>\n",
       "</table>\n",
       "</div>"
      ],
      "text/plain": [
       "                      debt\n",
       "family_status_id          \n",
       "0                 0.075202\n",
       "1                 0.092890\n",
       "2                 0.065625\n",
       "3                 0.071130\n",
       "4                 0.097405"
      ]
     },
     "execution_count": 59,
     "metadata": {},
     "output_type": "execute_result"
    }
   ],
   "source": [
    "# рассчитаем среднее значение по столбцу family_status_id при группировке по семейному положению и сортировке по убыванию\n",
    "family_status_pivot_table = df.pivot_table(index=['family_status_id'], values='debt', aggfunc = 'mean')\n",
    "family_status_pivot_table"
   ]
  },
  {
   "cell_type": "markdown",
   "id": "25e78dcb",
   "metadata": {},
   "source": [
    "Вывод: исходя из полученных данных, основываясь на численности групп, можно сделать вывод, что семейный статус оказывает влияние на вероятность возврата заемных средств в срок, при этом семейные и в разводе чаще возвращают кредиты вовремя. Заемщики с семейным статусом вдовец/вдова чаще других возвращают кредитные средства в срок, однако по численности они составляют самую небольшую часть из анализируемого массива."
   ]
  },
  {
   "cell_type": "markdown",
   "id": "dd4be833",
   "metadata": {},
   "source": [
    "### Есть ли зависимость между уровнем дохода и возвратом кредита в срок?"
   ]
  },
  {
   "cell_type": "code",
   "execution_count": 60,
   "id": "a17ff134",
   "metadata": {},
   "outputs": [
    {
     "data": {
      "text/html": [
       "<div>\n",
       "<style scoped>\n",
       "    .dataframe tbody tr th:only-of-type {\n",
       "        vertical-align: middle;\n",
       "    }\n",
       "\n",
       "    .dataframe tbody tr th {\n",
       "        vertical-align: top;\n",
       "    }\n",
       "\n",
       "    .dataframe thead th {\n",
       "        text-align: right;\n",
       "    }\n",
       "</style>\n",
       "<table border=\"1\" class=\"dataframe\">\n",
       "  <thead>\n",
       "    <tr style=\"text-align: right;\">\n",
       "      <th></th>\n",
       "      <th>debt</th>\n",
       "    </tr>\n",
       "    <tr>\n",
       "      <th>total_income_category</th>\n",
       "      <th></th>\n",
       "    </tr>\n",
       "  </thead>\n",
       "  <tbody>\n",
       "    <tr>\n",
       "      <th>A</th>\n",
       "      <td>0.080000</td>\n",
       "    </tr>\n",
       "    <tr>\n",
       "      <th>B</th>\n",
       "      <td>0.070607</td>\n",
       "    </tr>\n",
       "    <tr>\n",
       "      <th>C</th>\n",
       "      <td>0.084546</td>\n",
       "    </tr>\n",
       "    <tr>\n",
       "      <th>D</th>\n",
       "      <td>0.060000</td>\n",
       "    </tr>\n",
       "    <tr>\n",
       "      <th>E</th>\n",
       "      <td>0.090909</td>\n",
       "    </tr>\n",
       "  </tbody>\n",
       "</table>\n",
       "</div>"
      ],
      "text/plain": [
       "                           debt\n",
       "total_income_category          \n",
       "A                      0.080000\n",
       "B                      0.070607\n",
       "C                      0.084546\n",
       "D                      0.060000\n",
       "E                      0.090909"
      ]
     },
     "execution_count": 60,
     "metadata": {},
     "output_type": "execute_result"
    }
   ],
   "source": [
    "# рассчитаем среднее значение возврата кредита и его зависимость от уровня дохода (столбец 'total_income_category')\n",
    "total_income_category_pivot_table = df.pivot_table(index=['total_income_category'], values='debt', aggfunc='mean')\n",
    "total_income_category_pivot_table"
   ]
  },
  {
   "cell_type": "code",
   "execution_count": 61,
   "id": "f00f8290",
   "metadata": {},
   "outputs": [
    {
     "data": {
      "text/html": [
       "<div>\n",
       "<style scoped>\n",
       "    .dataframe tbody tr th:only-of-type {\n",
       "        vertical-align: middle;\n",
       "    }\n",
       "\n",
       "    .dataframe tbody tr th {\n",
       "        vertical-align: top;\n",
       "    }\n",
       "\n",
       "    .dataframe thead th {\n",
       "        text-align: right;\n",
       "    }\n",
       "</style>\n",
       "<table border=\"1\" class=\"dataframe\">\n",
       "  <thead>\n",
       "    <tr style=\"text-align: right;\">\n",
       "      <th></th>\n",
       "      <th>debt</th>\n",
       "    </tr>\n",
       "    <tr>\n",
       "      <th>total_income_category</th>\n",
       "      <th></th>\n",
       "    </tr>\n",
       "  </thead>\n",
       "  <tbody>\n",
       "    <tr>\n",
       "      <th>A</th>\n",
       "      <td>25</td>\n",
       "    </tr>\n",
       "    <tr>\n",
       "      <th>B</th>\n",
       "      <td>5042</td>\n",
       "    </tr>\n",
       "    <tr>\n",
       "      <th>C</th>\n",
       "      <td>16086</td>\n",
       "    </tr>\n",
       "    <tr>\n",
       "      <th>D</th>\n",
       "      <td>350</td>\n",
       "    </tr>\n",
       "    <tr>\n",
       "      <th>E</th>\n",
       "      <td>22</td>\n",
       "    </tr>\n",
       "  </tbody>\n",
       "</table>\n",
       "</div>"
      ],
      "text/plain": [
       "                        debt\n",
       "total_income_category       \n",
       "A                         25\n",
       "B                       5042\n",
       "C                      16086\n",
       "D                        350\n",
       "E                         22"
      ]
     },
     "execution_count": 61,
     "metadata": {},
     "output_type": "execute_result"
    }
   ],
   "source": [
    "# сводная таблица распределения значений категорий по количеству заемщиков\n",
    "category_pivot_table = df.pivot_table(index=['total_income_category'], values='debt', aggfunc='count')\n",
    "category_pivot_table"
   ]
  },
  {
   "cell_type": "markdown",
   "id": "cbe215c1",
   "metadata": {},
   "source": [
    "Вывод: уровень дохода влияет на выплаты по кредитам, однако существенной зависимости между уровнем дохода и возмжной задолженнойстью не выявлено. Наименьшую задолженность имеют заемщики из категории D(с доходом 30-50 тыс.рублей) а самую высокую - из категории Е(с доходом до 30 тыс.рублей). Однако, необходимо обратить внимание на численное распределение заемщиков по категориям: наибольшее количество заемщиков представлено по уровню дохода С (от 50 до 200 тыс.руб.), следующая по числености категория В (с доходом от 200 тыс. до 1 млн.руб.). И данное распределение может дать нам основание для подтверждения гипотезы о том, что уровень дохода оказывает лишь незначительное влияние на возврат заема, исключением составляют заемщики с уровнем дохода менее 30 тыс.руб. (однако, их численность в общем объеме выборки незначительна)."
   ]
  },
  {
   "cell_type": "markdown",
   "id": "a9d44af6",
   "metadata": {},
   "source": [
    "### Как разные цели кредита влияют на его возврат в срок?"
   ]
  },
  {
   "cell_type": "markdown",
   "id": "c530cd45",
   "metadata": {},
   "source": [
    "Проверим зависимость между столбцами purpose_category и debt."
   ]
  },
  {
   "cell_type": "code",
   "execution_count": 62,
   "id": "d3ed9a1d",
   "metadata": {},
   "outputs": [
    {
     "data": {
      "text/html": [
       "<div>\n",
       "<style scoped>\n",
       "    .dataframe tbody tr th:only-of-type {\n",
       "        vertical-align: middle;\n",
       "    }\n",
       "\n",
       "    .dataframe tbody tr th {\n",
       "        vertical-align: top;\n",
       "    }\n",
       "\n",
       "    .dataframe thead th {\n",
       "        text-align: right;\n",
       "    }\n",
       "</style>\n",
       "<table border=\"1\" class=\"dataframe\">\n",
       "  <thead>\n",
       "    <tr style=\"text-align: right;\">\n",
       "      <th></th>\n",
       "      <th>debt</th>\n",
       "    </tr>\n",
       "    <tr>\n",
       "      <th>purpose_category</th>\n",
       "      <th></th>\n",
       "    </tr>\n",
       "  </thead>\n",
       "  <tbody>\n",
       "    <tr>\n",
       "      <th>операции с автомобилем</th>\n",
       "      <td>0.093693</td>\n",
       "    </tr>\n",
       "    <tr>\n",
       "      <th>операции с недвижимостью</th>\n",
       "      <td>0.072140</td>\n",
       "    </tr>\n",
       "    <tr>\n",
       "      <th>получение образования</th>\n",
       "      <td>0.091882</td>\n",
       "    </tr>\n",
       "    <tr>\n",
       "      <th>проведение свадьбы</th>\n",
       "      <td>0.079216</td>\n",
       "    </tr>\n",
       "  </tbody>\n",
       "</table>\n",
       "</div>"
      ],
      "text/plain": [
       "                              debt\n",
       "purpose_category                  \n",
       "операции с автомобилем    0.093693\n",
       "операции с недвижимостью  0.072140\n",
       "получение образования     0.091882\n",
       "проведение свадьбы        0.079216"
      ]
     },
     "execution_count": 62,
     "metadata": {},
     "output_type": "execute_result"
    }
   ],
   "source": [
    "# определим степень влияния целей кредита на возврат кредита в срок\n",
    "purpose_category_pivot_table = df.pivot_table(index=['purpose_category'], values='debt', aggfunc='mean')\n",
    "purpose_category_pivot_table"
   ]
  },
  {
   "cell_type": "markdown",
   "id": "fb3c53f0",
   "metadata": {},
   "source": [
    "Вывод: чаще всего вовремя возвращают средства при операциях  с недвижимостью и при проведении свадеб; операции с автомобилем и получение образования являются более рисковыми и задолженности по ним встречаются чаще. "
   ]
  },
  {
   "cell_type": "markdown",
   "id": "d1701ef5",
   "metadata": {},
   "source": [
    "## Общий вывод"
   ]
  },
  {
   "cell_type": "markdown",
   "id": "f85f0a46",
   "metadata": {},
   "source": [
    "В рамках представленного исследования проводилась оценка некоторых факторов со стороны заемщика, которые оказывают влияние на его надежность, как клиента банка.\n",
    "\n",
    "**Основные этапы исследования:**\n",
    "\n",
    " 1. Обзор данных. \n",
    " 2. Предобработка данных.\n",
    " 3. Ответы на вопросы.\n"
   ]
  },
  {
   "cell_type": "markdown",
   "id": "a0619781",
   "metadata": {},
   "source": [
    "### Обзор данных."
   ]
  },
  {
   "cell_type": "markdown",
   "id": "d32def6a",
   "metadata": {},
   "source": [
    " Общая информация о данных: в представленной таблице data 12 столбцов, и 21525 строк с данными. \n",
    " Типы данных: в 2-х столбцах - float, в пяти столбцах - int, еще в пяти слобцах - obj.\n",
    "\n",
    "Основываясь на документации, приложенной к данным, столбцы data имеют следующее описание:\n",
    "\n",
    "children — количество детей в семье;  \n",
    "days_employed — общий трудовой стаж в днях;  \n",
    "dob_years — возраст клиента в годах;  \n",
    "education — уровень образования клиента;  \n",
    "education_id — идентификатор уровня образования;  \n",
    "family_status — семейное положение;  \n",
    "family_status_id — идентификатор семейного положения;  \n",
    "gender — пол клиента;  \n",
    "income_type — тип занятости;  \n",
    "debt — имел ли задолженность по возврату кредитов;  \n",
    "total_income — ежемесячный доход;  \n",
    "purpose — цель получения кредита.\n",
    "\n",
    "Нарушений стиля в названиях колонок нет.\n",
    "\n",
    "Количество значений в столбцах различается, что позволяет сделать предварительный вывод о наличии пропущенных данных.\n",
    "\n",
    "Результаты исследования будут учтены при построении модели кредитного скоринга — специальной системы, которая оценивает способность потенциального заёмщика вернуть кредит банку."
   ]
  },
  {
   "cell_type": "markdown",
   "id": "cd8a46a9",
   "metadata": {},
   "source": [
    " ### Предобработка данных.\n"
   ]
  },
  {
   "cell_type": "markdown",
   "id": "5e6f25b9",
   "metadata": {},
   "source": [
    "В данном разделе проводилась очистка данных, удаление дубликатов и заполнение пропущенных значений в столбцах days_employed и total_income. В столбцах датасета представлены количественные данные, поэтому необходимо заполнить пропуски характерными значениями.\n",
    "\n",
    "В столбце days_employed встречались отрицательные значения, которые были преобразованы в положительные (и считались ошибкой при вводе). Значения данного столбца были переведены в года (столбец years_employer), были выявлены следующие аномалии в значениях, которые подтверждают наличие ошибок в данных: максимальное значение в 1101 год и среднее значение составляет около 183 лет. \n",
    "Следующим шагом была оценена частота встречания аномалий и рассчитано среднее значение без учета данных значений, которое составило 6 лет и совпало с медианным значением столбца. Пропущенные значения столбца years_employer были заполнены медианным значением.\n",
    "\n",
    "Значения в столбце total_income также были проверены на наличие аномалий, однако, явных аномалий выявлено не было. Пропущенные значения были заполнены медианным значением, в зависимости от типа занятости. \n",
    "\n",
    "Значения данных столбцов были округлены и перевыедены в целочисленные.\n",
    "\n",
    "Следующим шагом были выявлены и обработаны дубликаты в столбце education, проверены на наличие дубликатов прочие столбцы data.\n",
    "\n",
    "Были созданы id-словари для категоризации данных в столбцах education и family_status.\n",
    "\n",
    "Следующими шагами с помощью функций была произведена категоризация количественных данных по уровню дохода в рублях (0–30000 — 'E'; 30001–50000 — 'D'; 50001–200000 — 'C'; 200001–1000000 — 'B'; 1000001 и выше — 'A') и распределены цели заема на 4 основным качественным категориям:  'операции с автомобилем', 'операции с недвижимостью', 'проведение свадьбы', 'получение образования'. \n",
    "\n",
    "Так же в данном разделе анализа проверялись  все оставшиеся столбцы data на наличие аномалий и были внесены корректировки в столбец children : -1 ребенок  был принят за ошибку и преобразован в 1 ребенка, а знчения в 20 детей преобразованы в 2 ребенка. \n",
    "\n",
    "В прочих столбцах и строках явных и неявных дубликатов, аномалий, ошибок в формате, пропусков выявлено не было.\n",
    " "
   ]
  },
  {
   "cell_type": "markdown",
   "id": "e21a607c",
   "metadata": {},
   "source": [
    "### Проверка гипотезы, ответы на вопросы по проекту и формирование общего вывода.\n",
    " "
   ]
  },
  {
   "cell_type": "markdown",
   "id": "0e3159a9",
   "metadata": {},
   "source": [
    "В данном разделе были определены ответы на ключевые вопросы по проекту, полученные с применением сводных таблиц.\n",
    "\n",
    "   Количество детей имеет влияние на задолженность, увеличение количества детей снижает платежеспосбность заемщика. Так, бездетные имеют показатель 0,075, с 1 ребенком - уже 0,091, с 2-мя детьми - 0,094. С 3-мя детьми показатель снижается до 0,02, с 4-мя резкий рост до 0,097. на основании полученных данных заемщики с 5 детьми не имеют задолженности, однако их количество в общем объеме заемщиков слишком мало, поэтому в рамках анализа данные были исключены.\n",
    "\n",
    "   Основываясь на численности групп при категоризации по семейному статусу, можно сделать вывод, что данный показатель оказывает влияние на вероятность возврата заемных средств в срок, при этом семейные заемщики (значение 0,075) и в разводе (значение 0,071) чаще возвращают кредиты вовремя. Заемщики с семейным статусом вдовец/вдова (значение 0,065) чаще других возвращают кредитные средства в срок, однако по численности они составляют самую небольшую часть из анализируемого массива. Заемщики с семейным статусом гражданский брак (значение 0,093) и холостые (значение 0,097) являются самыми высокорисковыми заемщиками.\n",
    "\n",
    "  Уровень дохода влияет на выплаты по кредитам, однако существенной зависимости между уровнем дохода и возмжной задолженностью не выявлено. Наименьшую задолженность имеют заемщики из категории D(с доходом 30-50 тыс.рублей) со значением в 0,06, а самую высокую - из категории Е(с доходом до 30 тыс.рублей) со значением в 0,091. Однако, необходимо обратить внимание на численное распределение заемщиков по категориям: наибольшее количество заемщиков представлено по уровню дохода С (от 50 до 200 тыс.руб.), следующая по числености категория В (с доходом от 200 тыс. до 1 млн.руб.). И данное распределение может дать нам основание для подтверждения гипотезы о том, что уровень дохода оказывает лишь незначительное влияние на возврат заема, исключением составляют заемщики с уровнем дохода менее 30 тыс.руб. (однако, их численность в общем объеме выборки незначительна) показатель 0,08. \n",
    "\n",
    "   При рассмотрении показазателей по наличию задолженности в зависимости от целей займа выявлена следующая тенденция: чаще всего вовремя возвращают средства при операциях с недвижимостью (значение 0,072) и при проведении свадеб (показатель 0,079); операции с автомобилем (показатель 0,094) и получение образования (показатель 0,092) являются более рисковыми и задолженности по ним встречаются чаще.\n",
    "\n",
    "   Таким образом, складывается следующий портет наиболее благонадежного заемщика: бездетный семейный заемщик с уровнем дохода не ниже 30 тыс.рублей, который берет займ на операцию с недвижимостью.\n",
    "   \n",
    "   Наименее благонадежным является заемщик с детьми, никогда не состоящий в официальном браке, с целью кредита на операции с автомобилем или получение образования."
   ]
  }
 ],
 "metadata": {
  "ExecuteTimeLog": [
   {
    "duration": 550,
    "start_time": "2022-02-23T09:33:39.190Z"
   },
   {
    "duration": 2,
    "start_time": "2022-02-23T09:34:15.311Z"
   },
   {
    "duration": 3,
    "start_time": "2022-02-23T09:34:25.123Z"
   },
   {
    "duration": 47,
    "start_time": "2022-02-23T09:35:52.527Z"
   },
   {
    "duration": 42,
    "start_time": "2022-02-23T09:36:13.241Z"
   },
   {
    "duration": 18,
    "start_time": "2022-02-23T09:36:58.096Z"
   },
   {
    "duration": 12,
    "start_time": "2022-02-23T09:40:14.826Z"
   },
   {
    "duration": 10,
    "start_time": "2022-02-23T10:22:13.652Z"
   },
   {
    "duration": 9,
    "start_time": "2022-02-23T10:33:14.490Z"
   },
   {
    "duration": 10,
    "start_time": "2022-02-23T10:34:03.834Z"
   },
   {
    "duration": 5,
    "start_time": "2022-02-23T10:54:15.607Z"
   },
   {
    "duration": 6,
    "start_time": "2022-02-23T10:55:57.264Z"
   },
   {
    "duration": 4,
    "start_time": "2022-02-23T10:59:21.141Z"
   },
   {
    "duration": 19,
    "start_time": "2022-02-23T10:59:54.659Z"
   },
   {
    "duration": 206,
    "start_time": "2022-02-26T13:56:32.197Z"
   },
   {
    "duration": 523,
    "start_time": "2022-02-26T13:56:45.801Z"
   },
   {
    "duration": 51,
    "start_time": "2022-02-26T13:56:46.326Z"
   },
   {
    "duration": 17,
    "start_time": "2022-02-26T13:56:46.379Z"
   },
   {
    "duration": 12,
    "start_time": "2022-02-26T13:56:46.398Z"
   },
   {
    "duration": 12,
    "start_time": "2022-02-26T13:56:46.412Z"
   },
   {
    "duration": 20,
    "start_time": "2022-02-26T13:56:46.425Z"
   },
   {
    "duration": 9,
    "start_time": "2022-02-26T13:56:46.447Z"
   },
   {
    "duration": 22,
    "start_time": "2022-02-26T13:56:46.458Z"
   },
   {
    "duration": 13,
    "start_time": "2022-02-26T13:56:58.661Z"
   },
   {
    "duration": 336,
    "start_time": "2022-02-26T13:58:53.684Z"
   },
   {
    "duration": 13,
    "start_time": "2022-02-26T13:59:16.133Z"
   },
   {
    "duration": 21,
    "start_time": "2022-02-26T13:59:40.256Z"
   },
   {
    "duration": 178,
    "start_time": "2022-02-26T14:00:22.512Z"
   },
   {
    "duration": 15,
    "start_time": "2022-02-26T14:00:30.500Z"
   },
   {
    "duration": 13,
    "start_time": "2022-02-26T14:00:50.819Z"
   },
   {
    "duration": 14,
    "start_time": "2022-02-26T14:04:46.458Z"
   },
   {
    "duration": 207,
    "start_time": "2022-02-26T14:55:23.607Z"
   },
   {
    "duration": 60,
    "start_time": "2022-02-26T14:55:53.081Z"
   },
   {
    "duration": 3,
    "start_time": "2022-02-26T14:56:33.457Z"
   },
   {
    "duration": 4,
    "start_time": "2022-02-26T14:56:37.740Z"
   },
   {
    "duration": 5,
    "start_time": "2022-02-26T15:07:21.397Z"
   },
   {
    "duration": 5,
    "start_time": "2022-02-26T16:38:21.544Z"
   },
   {
    "duration": 4,
    "start_time": "2022-02-26T16:38:59.959Z"
   },
   {
    "duration": 5,
    "start_time": "2022-02-26T16:39:50.728Z"
   },
   {
    "duration": 4,
    "start_time": "2022-02-26T16:44:35.453Z"
   },
   {
    "duration": 5,
    "start_time": "2022-02-26T16:44:47.703Z"
   },
   {
    "duration": 659,
    "start_time": "2022-02-27T13:06:37.493Z"
   },
   {
    "duration": 57,
    "start_time": "2022-02-27T13:06:38.154Z"
   },
   {
    "duration": 39,
    "start_time": "2022-02-27T13:06:38.214Z"
   },
   {
    "duration": 18,
    "start_time": "2022-02-27T13:06:38.256Z"
   },
   {
    "duration": 23,
    "start_time": "2022-02-27T13:06:38.278Z"
   },
   {
    "duration": 50,
    "start_time": "2022-02-27T13:06:38.304Z"
   },
   {
    "duration": 6,
    "start_time": "2022-02-27T13:06:38.357Z"
   },
   {
    "duration": 24,
    "start_time": "2022-02-27T13:06:38.366Z"
   },
   {
    "duration": 27,
    "start_time": "2022-02-27T13:06:38.392Z"
   },
   {
    "duration": 34,
    "start_time": "2022-02-27T13:06:38.422Z"
   },
   {
    "duration": 8,
    "start_time": "2022-02-27T13:06:38.459Z"
   },
   {
    "duration": 7,
    "start_time": "2022-02-27T13:06:38.470Z"
   },
   {
    "duration": 12,
    "start_time": "2022-02-27T13:18:02.372Z"
   },
   {
    "duration": 8,
    "start_time": "2022-02-27T13:18:37.389Z"
   },
   {
    "duration": 7,
    "start_time": "2022-02-27T13:21:21.502Z"
   },
   {
    "duration": 8,
    "start_time": "2022-02-27T14:12:41.975Z"
   },
   {
    "duration": 319,
    "start_time": "2022-02-27T14:15:48.150Z"
   },
   {
    "duration": 7,
    "start_time": "2022-02-27T14:16:13.908Z"
   },
   {
    "duration": 8,
    "start_time": "2022-02-27T14:16:30.081Z"
   },
   {
    "duration": 7,
    "start_time": "2022-02-27T14:47:22.986Z"
   },
   {
    "duration": 7,
    "start_time": "2022-02-27T14:47:31.681Z"
   },
   {
    "duration": 7,
    "start_time": "2022-02-27T15:12:53.640Z"
   },
   {
    "duration": 5,
    "start_time": "2022-02-27T15:14:28.966Z"
   },
   {
    "duration": 212,
    "start_time": "2022-02-27T15:15:00.543Z"
   },
   {
    "duration": 3,
    "start_time": "2022-02-27T15:15:41.142Z"
   },
   {
    "duration": 57,
    "start_time": "2022-02-27T15:15:41.152Z"
   },
   {
    "duration": 41,
    "start_time": "2022-02-27T15:15:41.212Z"
   },
   {
    "duration": 19,
    "start_time": "2022-02-27T15:15:41.257Z"
   },
   {
    "duration": 15,
    "start_time": "2022-02-27T15:15:41.280Z"
   },
   {
    "duration": 54,
    "start_time": "2022-02-27T15:15:41.297Z"
   },
   {
    "duration": 4,
    "start_time": "2022-02-27T15:15:41.354Z"
   },
   {
    "duration": 31,
    "start_time": "2022-02-27T15:15:41.360Z"
   },
   {
    "duration": 22,
    "start_time": "2022-02-27T15:15:41.394Z"
   },
   {
    "duration": 5,
    "start_time": "2022-02-27T15:15:41.419Z"
   },
   {
    "duration": 27,
    "start_time": "2022-02-27T15:15:41.426Z"
   },
   {
    "duration": 6,
    "start_time": "2022-02-27T15:15:41.455Z"
   },
   {
    "duration": 8,
    "start_time": "2022-02-27T15:15:41.464Z"
   },
   {
    "duration": 7,
    "start_time": "2022-02-27T15:15:41.475Z"
   },
   {
    "duration": 6,
    "start_time": "2022-02-27T15:15:41.485Z"
   },
   {
    "duration": 58,
    "start_time": "2022-02-27T15:15:41.494Z"
   },
   {
    "duration": 7,
    "start_time": "2022-02-27T15:15:41.555Z"
   },
   {
    "duration": 5,
    "start_time": "2022-02-27T15:15:41.565Z"
   },
   {
    "duration": 15,
    "start_time": "2022-02-27T15:15:45.326Z"
   },
   {
    "duration": 579,
    "start_time": "2022-02-28T17:56:52.837Z"
   },
   {
    "duration": 48,
    "start_time": "2022-02-28T17:56:53.418Z"
   },
   {
    "duration": 19,
    "start_time": "2022-02-28T17:56:53.468Z"
   },
   {
    "duration": 15,
    "start_time": "2022-02-28T17:56:53.488Z"
   },
   {
    "duration": 12,
    "start_time": "2022-02-28T17:56:53.504Z"
   },
   {
    "duration": 25,
    "start_time": "2022-02-28T17:56:53.518Z"
   },
   {
    "duration": 3,
    "start_time": "2022-02-28T17:56:53.545Z"
   },
   {
    "duration": 13,
    "start_time": "2022-02-28T17:56:53.550Z"
   },
   {
    "duration": 13,
    "start_time": "2022-02-28T17:56:53.565Z"
   },
   {
    "duration": 4,
    "start_time": "2022-02-28T17:56:53.580Z"
   },
   {
    "duration": 6,
    "start_time": "2022-02-28T17:56:53.585Z"
   },
   {
    "duration": 5,
    "start_time": "2022-02-28T17:56:53.592Z"
   },
   {
    "duration": 4,
    "start_time": "2022-02-28T17:56:53.599Z"
   },
   {
    "duration": 35,
    "start_time": "2022-02-28T17:56:53.604Z"
   },
   {
    "duration": 7,
    "start_time": "2022-02-28T17:56:53.641Z"
   },
   {
    "duration": 12,
    "start_time": "2022-02-28T17:56:53.649Z"
   },
   {
    "duration": 8,
    "start_time": "2022-02-28T17:56:53.663Z"
   },
   {
    "duration": 5,
    "start_time": "2022-02-28T17:56:53.672Z"
   },
   {
    "duration": 11,
    "start_time": "2022-02-28T17:56:53.679Z"
   },
   {
    "duration": 5,
    "start_time": "2022-02-28T17:57:54.852Z"
   },
   {
    "duration": 5,
    "start_time": "2022-02-28T17:58:05.817Z"
   },
   {
    "duration": 4579,
    "start_time": "2022-02-28T17:59:25.189Z"
   },
   {
    "duration": 5,
    "start_time": "2022-02-28T17:59:35.085Z"
   },
   {
    "duration": 6,
    "start_time": "2022-02-28T17:59:43.271Z"
   },
   {
    "duration": 4,
    "start_time": "2022-02-28T18:06:10.243Z"
   },
   {
    "duration": 5,
    "start_time": "2022-02-28T18:06:21.642Z"
   },
   {
    "duration": 4,
    "start_time": "2022-02-28T18:12:16.478Z"
   },
   {
    "duration": 12,
    "start_time": "2022-02-28T18:12:19.712Z"
   },
   {
    "duration": 4,
    "start_time": "2022-02-28T18:13:07.336Z"
   },
   {
    "duration": 12,
    "start_time": "2022-02-28T18:13:32.179Z"
   },
   {
    "duration": 10,
    "start_time": "2022-02-28T18:13:43.369Z"
   },
   {
    "duration": 14,
    "start_time": "2022-02-28T18:13:55.831Z"
   },
   {
    "duration": 13,
    "start_time": "2022-02-28T18:14:32.515Z"
   },
   {
    "duration": 3,
    "start_time": "2022-02-28T18:24:01.645Z"
   },
   {
    "duration": 14,
    "start_time": "2022-02-28T18:32:03.621Z"
   },
   {
    "duration": 15,
    "start_time": "2022-02-28T18:32:10.153Z"
   },
   {
    "duration": 10,
    "start_time": "2022-02-28T18:32:19.775Z"
   },
   {
    "duration": 12,
    "start_time": "2022-02-28T18:32:35.195Z"
   },
   {
    "duration": 11,
    "start_time": "2022-02-28T18:32:37.730Z"
   },
   {
    "duration": 13,
    "start_time": "2022-02-28T18:34:02.541Z"
   },
   {
    "duration": 13,
    "start_time": "2022-02-28T18:34:34.894Z"
   },
   {
    "duration": 3228,
    "start_time": "2022-03-01T09:35:08.697Z"
   },
   {
    "duration": 1855,
    "start_time": "2022-03-01T09:35:15.468Z"
   },
   {
    "duration": 61,
    "start_time": "2022-03-01T09:35:17.325Z"
   },
   {
    "duration": 19,
    "start_time": "2022-03-01T09:35:17.388Z"
   },
   {
    "duration": 11,
    "start_time": "2022-03-01T09:35:17.409Z"
   },
   {
    "duration": 14,
    "start_time": "2022-03-01T09:35:17.422Z"
   },
   {
    "duration": 12,
    "start_time": "2022-03-01T09:35:17.438Z"
   },
   {
    "duration": 25,
    "start_time": "2022-03-01T09:35:17.452Z"
   },
   {
    "duration": 13,
    "start_time": "2022-03-01T09:35:17.479Z"
   },
   {
    "duration": 20,
    "start_time": "2022-03-01T09:35:17.494Z"
   },
   {
    "duration": 5,
    "start_time": "2022-03-01T09:35:17.515Z"
   },
   {
    "duration": 7,
    "start_time": "2022-03-01T09:35:17.521Z"
   },
   {
    "duration": 5,
    "start_time": "2022-03-01T09:35:17.529Z"
   },
   {
    "duration": 6,
    "start_time": "2022-03-01T09:35:17.536Z"
   },
   {
    "duration": 34,
    "start_time": "2022-03-01T09:35:17.544Z"
   },
   {
    "duration": 5,
    "start_time": "2022-03-01T09:35:17.579Z"
   },
   {
    "duration": 9,
    "start_time": "2022-03-01T09:35:17.586Z"
   },
   {
    "duration": 7,
    "start_time": "2022-03-01T09:35:17.597Z"
   },
   {
    "duration": 6,
    "start_time": "2022-03-01T09:35:17.605Z"
   },
   {
    "duration": 15,
    "start_time": "2022-03-01T09:35:17.612Z"
   },
   {
    "duration": 5,
    "start_time": "2022-03-01T09:35:17.628Z"
   },
   {
    "duration": 6,
    "start_time": "2022-03-01T09:35:17.635Z"
   },
   {
    "duration": 5,
    "start_time": "2022-03-01T09:35:17.642Z"
   },
   {
    "duration": 3,
    "start_time": "2022-03-01T09:35:17.679Z"
   },
   {
    "duration": 15,
    "start_time": "2022-03-01T09:35:17.684Z"
   },
   {
    "duration": 14,
    "start_time": "2022-03-01T09:35:17.700Z"
   },
   {
    "duration": 15,
    "start_time": "2022-03-01T09:35:17.716Z"
   },
   {
    "duration": 18,
    "start_time": "2022-03-01T09:35:17.733Z"
   },
   {
    "duration": 33,
    "start_time": "2022-03-01T09:35:17.753Z"
   },
   {
    "duration": 13,
    "start_time": "2022-03-01T09:35:17.788Z"
   },
   {
    "duration": 16,
    "start_time": "2022-03-01T09:35:17.802Z"
   },
   {
    "duration": 7,
    "start_time": "2022-03-01T09:35:21.596Z"
   },
   {
    "duration": 8,
    "start_time": "2022-03-01T09:35:47.221Z"
   },
   {
    "duration": 9,
    "start_time": "2022-03-01T09:41:38.331Z"
   },
   {
    "duration": 7,
    "start_time": "2022-03-01T09:42:30.925Z"
   },
   {
    "duration": 6,
    "start_time": "2022-03-01T09:42:34.835Z"
   },
   {
    "duration": 8,
    "start_time": "2022-03-01T09:42:52.541Z"
   },
   {
    "duration": 6,
    "start_time": "2022-03-01T09:43:26.008Z"
   },
   {
    "duration": 524,
    "start_time": "2022-03-01T15:34:28.533Z"
   },
   {
    "duration": 45,
    "start_time": "2022-03-01T15:34:29.059Z"
   },
   {
    "duration": 16,
    "start_time": "2022-03-01T15:34:29.106Z"
   },
   {
    "duration": 9,
    "start_time": "2022-03-01T15:34:29.123Z"
   },
   {
    "duration": 11,
    "start_time": "2022-03-01T15:34:29.134Z"
   },
   {
    "duration": 8,
    "start_time": "2022-03-01T15:34:29.146Z"
   },
   {
    "duration": 4,
    "start_time": "2022-03-01T15:34:29.155Z"
   },
   {
    "duration": 15,
    "start_time": "2022-03-01T15:34:29.161Z"
   },
   {
    "duration": 33,
    "start_time": "2022-03-01T15:34:29.178Z"
   },
   {
    "duration": 4,
    "start_time": "2022-03-01T15:34:29.212Z"
   },
   {
    "duration": 6,
    "start_time": "2022-03-01T15:34:29.217Z"
   },
   {
    "duration": 6,
    "start_time": "2022-03-01T15:34:29.224Z"
   },
   {
    "duration": 5,
    "start_time": "2022-03-01T15:34:29.232Z"
   },
   {
    "duration": 8,
    "start_time": "2022-03-01T15:34:29.238Z"
   },
   {
    "duration": 8,
    "start_time": "2022-03-01T15:34:29.247Z"
   },
   {
    "duration": 8,
    "start_time": "2022-03-01T15:34:29.256Z"
   },
   {
    "duration": 7,
    "start_time": "2022-03-01T15:34:29.265Z"
   },
   {
    "duration": 4,
    "start_time": "2022-03-01T15:34:29.273Z"
   },
   {
    "duration": 31,
    "start_time": "2022-03-01T15:34:29.278Z"
   },
   {
    "duration": 6,
    "start_time": "2022-03-01T15:34:29.311Z"
   },
   {
    "duration": 5,
    "start_time": "2022-03-01T15:34:29.318Z"
   },
   {
    "duration": 4,
    "start_time": "2022-03-01T15:34:29.325Z"
   },
   {
    "duration": 4,
    "start_time": "2022-03-01T15:34:29.331Z"
   },
   {
    "duration": 9,
    "start_time": "2022-03-01T15:34:29.337Z"
   },
   {
    "duration": 11,
    "start_time": "2022-03-01T15:34:29.348Z"
   },
   {
    "duration": 45,
    "start_time": "2022-03-01T15:34:29.360Z"
   },
   {
    "duration": 12,
    "start_time": "2022-03-01T15:34:29.407Z"
   },
   {
    "duration": 9,
    "start_time": "2022-03-01T15:34:29.421Z"
   },
   {
    "duration": 10,
    "start_time": "2022-03-01T15:34:29.431Z"
   },
   {
    "duration": 13,
    "start_time": "2022-03-01T15:34:29.443Z"
   },
   {
    "duration": 7,
    "start_time": "2022-03-01T15:34:29.458Z"
   },
   {
    "duration": 6,
    "start_time": "2022-03-01T15:34:33.938Z"
   },
   {
    "duration": 5,
    "start_time": "2022-03-01T15:34:37.474Z"
   },
   {
    "duration": 7,
    "start_time": "2022-03-01T15:34:40.349Z"
   },
   {
    "duration": 10,
    "start_time": "2022-03-01T15:41:19.805Z"
   },
   {
    "duration": 8,
    "start_time": "2022-03-01T15:41:22.905Z"
   },
   {
    "duration": 11,
    "start_time": "2022-03-01T15:44:04.327Z"
   },
   {
    "duration": 11,
    "start_time": "2022-03-01T15:44:13.632Z"
   },
   {
    "duration": 8,
    "start_time": "2022-03-01T15:44:13.745Z"
   },
   {
    "duration": 7,
    "start_time": "2022-03-01T15:45:23.485Z"
   },
   {
    "duration": 6,
    "start_time": "2022-03-01T15:46:31.184Z"
   },
   {
    "duration": 7,
    "start_time": "2022-03-01T15:48:02.711Z"
   },
   {
    "duration": 738,
    "start_time": "2022-03-01T17:07:29.989Z"
   },
   {
    "duration": 758,
    "start_time": "2022-03-01T17:07:50.393Z"
   },
   {
    "duration": 7,
    "start_time": "2022-03-01T17:08:08.233Z"
   },
   {
    "duration": 339,
    "start_time": "2022-03-01T17:08:27.068Z"
   },
   {
    "duration": 710,
    "start_time": "2022-03-01T17:08:47.573Z"
   },
   {
    "duration": 748,
    "start_time": "2022-03-01T17:09:12.905Z"
   },
   {
    "duration": 17,
    "start_time": "2022-03-01T17:09:38.518Z"
   },
   {
    "duration": 7,
    "start_time": "2022-03-01T17:09:49.442Z"
   },
   {
    "duration": 15,
    "start_time": "2022-03-01T17:16:02.242Z"
   },
   {
    "duration": 7,
    "start_time": "2022-03-01T17:16:14.491Z"
   },
   {
    "duration": 7,
    "start_time": "2022-03-01T17:16:43.446Z"
   },
   {
    "duration": 17,
    "start_time": "2022-03-01T17:19:48.802Z"
   },
   {
    "duration": 7,
    "start_time": "2022-03-01T17:19:51.579Z"
   },
   {
    "duration": 27,
    "start_time": "2022-03-01T17:21:31.587Z"
   },
   {
    "duration": 7,
    "start_time": "2022-03-01T17:21:35.493Z"
   },
   {
    "duration": 46,
    "start_time": "2022-03-01T17:25:03.463Z"
   },
   {
    "duration": 6,
    "start_time": "2022-03-01T17:25:05.362Z"
   },
   {
    "duration": 90,
    "start_time": "2022-03-01T17:35:10.073Z"
   },
   {
    "duration": 7,
    "start_time": "2022-03-01T17:35:11.030Z"
   },
   {
    "duration": 95,
    "start_time": "2022-03-01T17:36:10.358Z"
   },
   {
    "duration": 117,
    "start_time": "2022-03-01T17:38:19.019Z"
   },
   {
    "duration": 7,
    "start_time": "2022-03-01T17:38:23.029Z"
   },
   {
    "duration": 6,
    "start_time": "2022-03-01T17:50:20.264Z"
   },
   {
    "duration": 3,
    "start_time": "2022-03-01T18:30:25.343Z"
   },
   {
    "duration": 4,
    "start_time": "2022-03-01T18:30:33.502Z"
   },
   {
    "duration": 6,
    "start_time": "2022-03-01T18:30:52.229Z"
   },
   {
    "duration": 270,
    "start_time": "2022-03-01T18:34:13.211Z"
   },
   {
    "duration": 4,
    "start_time": "2022-03-01T18:34:33.631Z"
   },
   {
    "duration": 3,
    "start_time": "2022-03-01T18:34:37.081Z"
   },
   {
    "duration": 3,
    "start_time": "2022-03-01T18:34:46.706Z"
   },
   {
    "duration": 6,
    "start_time": "2022-03-01T18:34:49.036Z"
   },
   {
    "duration": 7,
    "start_time": "2022-03-01T18:45:11.806Z"
   },
   {
    "duration": 5,
    "start_time": "2022-03-01T18:45:14.056Z"
   },
   {
    "duration": 6,
    "start_time": "2022-03-01T18:45:35.984Z"
   },
   {
    "duration": 4,
    "start_time": "2022-03-01T18:46:47.524Z"
   },
   {
    "duration": 6,
    "start_time": "2022-03-01T18:46:49.301Z"
   },
   {
    "duration": 272,
    "start_time": "2022-03-01T18:47:05.602Z"
   },
   {
    "duration": 284,
    "start_time": "2022-03-01T18:47:44.177Z"
   },
   {
    "duration": 3,
    "start_time": "2022-03-01T18:48:04.611Z"
   },
   {
    "duration": 264,
    "start_time": "2022-03-01T18:48:07.051Z"
   },
   {
    "duration": 7,
    "start_time": "2022-03-01T18:48:47.334Z"
   },
   {
    "duration": 7,
    "start_time": "2022-03-01T18:49:02.405Z"
   },
   {
    "duration": 2,
    "start_time": "2022-03-01T18:49:11.158Z"
   },
   {
    "duration": 59,
    "start_time": "2022-03-01T18:49:11.163Z"
   },
   {
    "duration": 10,
    "start_time": "2022-03-01T18:49:11.224Z"
   },
   {
    "duration": 11,
    "start_time": "2022-03-01T18:49:11.236Z"
   },
   {
    "duration": 11,
    "start_time": "2022-03-01T18:49:11.248Z"
   },
   {
    "duration": 8,
    "start_time": "2022-03-01T18:49:11.261Z"
   },
   {
    "duration": 3,
    "start_time": "2022-03-01T18:49:11.270Z"
   },
   {
    "duration": 32,
    "start_time": "2022-03-01T18:49:11.274Z"
   },
   {
    "duration": 13,
    "start_time": "2022-03-01T18:49:11.308Z"
   },
   {
    "duration": 5,
    "start_time": "2022-03-01T18:49:11.323Z"
   },
   {
    "duration": 8,
    "start_time": "2022-03-01T18:49:11.330Z"
   },
   {
    "duration": 6,
    "start_time": "2022-03-01T18:49:11.339Z"
   },
   {
    "duration": 11,
    "start_time": "2022-03-01T18:49:11.346Z"
   },
   {
    "duration": 8,
    "start_time": "2022-03-01T18:49:11.358Z"
   },
   {
    "duration": 5,
    "start_time": "2022-03-01T18:49:11.368Z"
   },
   {
    "duration": 32,
    "start_time": "2022-03-01T18:49:11.374Z"
   },
   {
    "duration": 5,
    "start_time": "2022-03-01T18:49:11.407Z"
   },
   {
    "duration": 8,
    "start_time": "2022-03-01T18:49:11.414Z"
   },
   {
    "duration": 11,
    "start_time": "2022-03-01T18:49:11.423Z"
   },
   {
    "duration": 4,
    "start_time": "2022-03-01T18:49:11.436Z"
   },
   {
    "duration": 6,
    "start_time": "2022-03-01T18:49:11.441Z"
   },
   {
    "duration": 4,
    "start_time": "2022-03-01T18:49:11.449Z"
   },
   {
    "duration": 4,
    "start_time": "2022-03-01T18:49:11.455Z"
   },
   {
    "duration": 46,
    "start_time": "2022-03-01T18:49:11.462Z"
   },
   {
    "duration": 12,
    "start_time": "2022-03-01T18:49:11.510Z"
   },
   {
    "duration": 14,
    "start_time": "2022-03-01T18:49:11.523Z"
   },
   {
    "duration": 15,
    "start_time": "2022-03-01T18:49:11.538Z"
   },
   {
    "duration": 8,
    "start_time": "2022-03-01T18:49:11.555Z"
   },
   {
    "duration": 10,
    "start_time": "2022-03-01T18:49:11.565Z"
   },
   {
    "duration": 39,
    "start_time": "2022-03-01T18:49:11.576Z"
   },
   {
    "duration": 8,
    "start_time": "2022-03-01T18:49:11.616Z"
   },
   {
    "duration": 10,
    "start_time": "2022-03-01T18:49:20.960Z"
   },
   {
    "duration": 8,
    "start_time": "2022-03-01T18:49:22.981Z"
   },
   {
    "duration": 6,
    "start_time": "2022-03-01T18:49:32.545Z"
   },
   {
    "duration": 6,
    "start_time": "2022-03-01T18:49:35.568Z"
   },
   {
    "duration": 7,
    "start_time": "2022-03-01T18:49:44.068Z"
   },
   {
    "duration": 9,
    "start_time": "2022-03-01T18:50:44.823Z"
   },
   {
    "duration": 6,
    "start_time": "2022-03-01T18:50:48.377Z"
   },
   {
    "duration": 279,
    "start_time": "2022-03-01T18:50:51.269Z"
   },
   {
    "duration": 259,
    "start_time": "2022-03-01T18:50:55.473Z"
   },
   {
    "duration": 6,
    "start_time": "2022-03-01T18:51:09.238Z"
   },
   {
    "duration": 7,
    "start_time": "2022-03-01T18:53:34.331Z"
   },
   {
    "duration": 5,
    "start_time": "2022-03-01T18:53:56.121Z"
   },
   {
    "duration": 6,
    "start_time": "2022-03-01T18:54:18.420Z"
   },
   {
    "duration": 7,
    "start_time": "2022-03-01T19:00:09.481Z"
   },
   {
    "duration": 8,
    "start_time": "2022-03-01T19:00:16.414Z"
   },
   {
    "duration": 281,
    "start_time": "2022-03-01T19:01:19.718Z"
   },
   {
    "duration": 8,
    "start_time": "2022-03-01T19:01:49.423Z"
   },
   {
    "duration": 2,
    "start_time": "2022-03-01T19:02:01.785Z"
   },
   {
    "duration": 64,
    "start_time": "2022-03-01T19:02:01.790Z"
   },
   {
    "duration": 12,
    "start_time": "2022-03-01T19:02:01.856Z"
   },
   {
    "duration": 16,
    "start_time": "2022-03-01T19:02:01.870Z"
   },
   {
    "duration": 27,
    "start_time": "2022-03-01T19:02:01.888Z"
   },
   {
    "duration": 11,
    "start_time": "2022-03-01T19:02:01.917Z"
   },
   {
    "duration": 4,
    "start_time": "2022-03-01T19:02:01.929Z"
   },
   {
    "duration": 17,
    "start_time": "2022-03-01T19:02:01.935Z"
   },
   {
    "duration": 14,
    "start_time": "2022-03-01T19:02:01.955Z"
   },
   {
    "duration": 3,
    "start_time": "2022-03-01T19:02:01.971Z"
   },
   {
    "duration": 34,
    "start_time": "2022-03-01T19:02:01.975Z"
   },
   {
    "duration": 12,
    "start_time": "2022-03-01T19:02:02.010Z"
   },
   {
    "duration": 10,
    "start_time": "2022-03-01T19:02:02.024Z"
   },
   {
    "duration": 10,
    "start_time": "2022-03-01T19:02:02.036Z"
   },
   {
    "duration": 11,
    "start_time": "2022-03-01T19:02:02.048Z"
   },
   {
    "duration": 11,
    "start_time": "2022-03-01T19:02:02.060Z"
   },
   {
    "duration": 10,
    "start_time": "2022-03-01T19:02:02.072Z"
   },
   {
    "duration": 14,
    "start_time": "2022-03-01T19:02:02.083Z"
   },
   {
    "duration": 19,
    "start_time": "2022-03-01T19:02:02.098Z"
   },
   {
    "duration": 12,
    "start_time": "2022-03-01T19:02:02.119Z"
   },
   {
    "duration": 6,
    "start_time": "2022-03-01T19:02:02.132Z"
   },
   {
    "duration": 8,
    "start_time": "2022-03-01T19:02:02.139Z"
   },
   {
    "duration": 12,
    "start_time": "2022-03-01T19:02:02.148Z"
   },
   {
    "duration": 12,
    "start_time": "2022-03-01T19:02:02.163Z"
   },
   {
    "duration": 14,
    "start_time": "2022-03-01T19:02:02.177Z"
   },
   {
    "duration": 19,
    "start_time": "2022-03-01T19:02:02.192Z"
   },
   {
    "duration": 14,
    "start_time": "2022-03-01T19:02:02.212Z"
   },
   {
    "duration": 10,
    "start_time": "2022-03-01T19:02:02.227Z"
   },
   {
    "duration": 13,
    "start_time": "2022-03-01T19:02:02.238Z"
   },
   {
    "duration": 13,
    "start_time": "2022-03-01T19:02:02.252Z"
   },
   {
    "duration": 7,
    "start_time": "2022-03-01T19:02:02.266Z"
   },
   {
    "duration": 10,
    "start_time": "2022-03-01T19:02:02.306Z"
   },
   {
    "duration": 9,
    "start_time": "2022-03-01T19:02:02.318Z"
   },
   {
    "duration": 8,
    "start_time": "2022-03-01T19:02:02.328Z"
   },
   {
    "duration": 7,
    "start_time": "2022-03-01T19:02:02.338Z"
   },
   {
    "duration": 11,
    "start_time": "2022-03-01T19:02:02.346Z"
   },
   {
    "duration": 5,
    "start_time": "2022-03-01T19:02:02.358Z"
   },
   {
    "duration": 11,
    "start_time": "2022-03-01T19:02:02.364Z"
   },
   {
    "duration": 30,
    "start_time": "2022-03-01T19:02:02.377Z"
   },
   {
    "duration": 4,
    "start_time": "2022-03-01T19:02:02.409Z"
   },
   {
    "duration": 10,
    "start_time": "2022-03-01T19:02:02.415Z"
   },
   {
    "duration": 8,
    "start_time": "2022-03-01T19:02:06.188Z"
   },
   {
    "duration": 8,
    "start_time": "2022-03-01T19:02:08.227Z"
   },
   {
    "duration": 2,
    "start_time": "2022-03-01T19:05:40.737Z"
   },
   {
    "duration": 3,
    "start_time": "2022-03-01T19:11:39.763Z"
   },
   {
    "duration": 722,
    "start_time": "2022-03-02T08:29:34.050Z"
   },
   {
    "duration": 76,
    "start_time": "2022-03-02T08:29:34.775Z"
   },
   {
    "duration": 32,
    "start_time": "2022-03-02T08:29:34.854Z"
   },
   {
    "duration": 17,
    "start_time": "2022-03-02T08:29:41.778Z"
   },
   {
    "duration": 16,
    "start_time": "2022-03-02T08:29:41.798Z"
   },
   {
    "duration": 11,
    "start_time": "2022-03-02T08:29:41.817Z"
   },
   {
    "duration": 4,
    "start_time": "2022-03-02T08:29:41.831Z"
   },
   {
    "duration": 20,
    "start_time": "2022-03-02T08:29:41.837Z"
   },
   {
    "duration": 21,
    "start_time": "2022-03-02T08:29:41.859Z"
   },
   {
    "duration": 7,
    "start_time": "2022-03-02T08:29:41.883Z"
   },
   {
    "duration": 6,
    "start_time": "2022-03-02T08:29:41.892Z"
   },
   {
    "duration": 6,
    "start_time": "2022-03-02T08:29:41.931Z"
   },
   {
    "duration": 6,
    "start_time": "2022-03-02T08:29:41.939Z"
   },
   {
    "duration": 8,
    "start_time": "2022-03-02T08:29:42.797Z"
   },
   {
    "duration": 7,
    "start_time": "2022-03-02T08:29:42.807Z"
   },
   {
    "duration": 9,
    "start_time": "2022-03-02T08:29:42.818Z"
   },
   {
    "duration": 9,
    "start_time": "2022-03-02T08:29:42.830Z"
   },
   {
    "duration": 5,
    "start_time": "2022-03-02T08:29:42.841Z"
   },
   {
    "duration": 15,
    "start_time": "2022-03-02T08:29:42.848Z"
   },
   {
    "duration": 6,
    "start_time": "2022-03-02T08:29:42.865Z"
   },
   {
    "duration": 7,
    "start_time": "2022-03-02T08:29:42.873Z"
   },
   {
    "duration": 52,
    "start_time": "2022-03-02T08:29:42.884Z"
   },
   {
    "duration": 6,
    "start_time": "2022-03-02T08:29:42.940Z"
   },
   {
    "duration": 16,
    "start_time": "2022-03-02T08:29:42.949Z"
   },
   {
    "duration": 64,
    "start_time": "2022-03-02T08:29:42.968Z"
   },
   {
    "duration": 21,
    "start_time": "2022-03-02T08:29:43.035Z"
   },
   {
    "duration": 18,
    "start_time": "2022-03-02T08:29:43.059Z"
   },
   {
    "duration": 14,
    "start_time": "2022-03-02T08:29:43.079Z"
   },
   {
    "duration": 20,
    "start_time": "2022-03-02T08:29:45.951Z"
   },
   {
    "duration": 22,
    "start_time": "2022-03-02T08:29:45.973Z"
   },
   {
    "duration": 12,
    "start_time": "2022-03-02T08:29:45.998Z"
   },
   {
    "duration": 31,
    "start_time": "2022-03-02T08:29:46.012Z"
   },
   {
    "duration": 11,
    "start_time": "2022-03-02T08:29:46.046Z"
   },
   {
    "duration": 9,
    "start_time": "2022-03-02T08:29:46.060Z"
   },
   {
    "duration": 10,
    "start_time": "2022-03-02T08:29:46.071Z"
   },
   {
    "duration": 13,
    "start_time": "2022-03-02T08:29:46.083Z"
   },
   {
    "duration": 8,
    "start_time": "2022-03-02T08:29:46.133Z"
   },
   {
    "duration": 10,
    "start_time": "2022-03-02T08:29:46.143Z"
   },
   {
    "duration": 10,
    "start_time": "2022-03-02T08:29:46.155Z"
   },
   {
    "duration": 8,
    "start_time": "2022-03-02T08:29:51.819Z"
   },
   {
    "duration": 11,
    "start_time": "2022-03-02T08:29:51.830Z"
   },
   {
    "duration": 12,
    "start_time": "2022-03-02T08:29:53.296Z"
   },
   {
    "duration": 14,
    "start_time": "2022-03-02T08:29:53.311Z"
   },
   {
    "duration": 5,
    "start_time": "2022-03-02T08:30:00.824Z"
   },
   {
    "duration": 1561,
    "start_time": "2022-03-02T08:38:06.203Z"
   },
   {
    "duration": 1436,
    "start_time": "2022-03-02T08:38:20.238Z"
   },
   {
    "duration": 5,
    "start_time": "2022-03-02T08:38:48.602Z"
   },
   {
    "duration": 1478,
    "start_time": "2022-03-02T08:38:51.411Z"
   },
   {
    "duration": 1530,
    "start_time": "2022-03-02T08:39:06.392Z"
   },
   {
    "duration": 568,
    "start_time": "2022-03-02T17:07:31.085Z"
   },
   {
    "duration": 50,
    "start_time": "2022-03-02T17:07:31.655Z"
   },
   {
    "duration": 19,
    "start_time": "2022-03-02T17:07:31.707Z"
   },
   {
    "duration": 15,
    "start_time": "2022-03-02T17:07:31.728Z"
   },
   {
    "duration": 18,
    "start_time": "2022-03-02T17:07:31.745Z"
   },
   {
    "duration": 9,
    "start_time": "2022-03-02T17:07:31.765Z"
   },
   {
    "duration": 6,
    "start_time": "2022-03-02T17:07:31.776Z"
   },
   {
    "duration": 14,
    "start_time": "2022-03-02T17:07:31.784Z"
   },
   {
    "duration": 17,
    "start_time": "2022-03-02T17:07:31.799Z"
   },
   {
    "duration": 8,
    "start_time": "2022-03-02T17:07:31.817Z"
   },
   {
    "duration": 5,
    "start_time": "2022-03-02T17:07:31.826Z"
   },
   {
    "duration": 30,
    "start_time": "2022-03-02T17:07:31.832Z"
   },
   {
    "duration": 6,
    "start_time": "2022-03-02T17:07:31.864Z"
   },
   {
    "duration": 6,
    "start_time": "2022-03-02T17:07:31.871Z"
   },
   {
    "duration": 5,
    "start_time": "2022-03-02T17:07:31.878Z"
   },
   {
    "duration": 9,
    "start_time": "2022-03-02T17:07:31.885Z"
   },
   {
    "duration": 9,
    "start_time": "2022-03-02T17:07:31.895Z"
   },
   {
    "duration": 7,
    "start_time": "2022-03-02T17:07:31.906Z"
   },
   {
    "duration": 12,
    "start_time": "2022-03-02T17:07:31.914Z"
   },
   {
    "duration": 5,
    "start_time": "2022-03-02T17:07:31.958Z"
   },
   {
    "duration": 5,
    "start_time": "2022-03-02T17:07:31.964Z"
   },
   {
    "duration": 4,
    "start_time": "2022-03-02T17:07:31.971Z"
   },
   {
    "duration": 3,
    "start_time": "2022-03-02T17:07:31.978Z"
   },
   {
    "duration": 15,
    "start_time": "2022-03-02T17:07:31.983Z"
   },
   {
    "duration": 14,
    "start_time": "2022-03-02T17:07:32.000Z"
   },
   {
    "duration": 49,
    "start_time": "2022-03-02T17:07:32.016Z"
   },
   {
    "duration": 13,
    "start_time": "2022-03-02T17:07:32.067Z"
   },
   {
    "duration": 11,
    "start_time": "2022-03-02T17:07:32.081Z"
   },
   {
    "duration": 13,
    "start_time": "2022-03-02T17:07:32.094Z"
   },
   {
    "duration": 19,
    "start_time": "2022-03-02T17:07:32.109Z"
   },
   {
    "duration": 32,
    "start_time": "2022-03-02T17:07:32.130Z"
   },
   {
    "duration": 12,
    "start_time": "2022-03-02T17:07:32.163Z"
   },
   {
    "duration": 13,
    "start_time": "2022-03-02T17:07:32.176Z"
   },
   {
    "duration": 8,
    "start_time": "2022-03-02T17:07:32.191Z"
   },
   {
    "duration": 7,
    "start_time": "2022-03-02T17:07:32.201Z"
   },
   {
    "duration": 9,
    "start_time": "2022-03-02T17:07:32.209Z"
   },
   {
    "duration": 6,
    "start_time": "2022-03-02T17:07:32.220Z"
   },
   {
    "duration": 6,
    "start_time": "2022-03-02T17:07:32.259Z"
   },
   {
    "duration": 8,
    "start_time": "2022-03-02T17:07:32.267Z"
   },
   {
    "duration": 5,
    "start_time": "2022-03-02T17:07:32.277Z"
   },
   {
    "duration": 7,
    "start_time": "2022-03-02T17:07:32.284Z"
   },
   {
    "duration": 9,
    "start_time": "2022-03-02T17:07:32.293Z"
   },
   {
    "duration": 11,
    "start_time": "2022-03-02T17:07:32.303Z"
   },
   {
    "duration": 3,
    "start_time": "2022-03-02T17:07:32.316Z"
   },
   {
    "duration": 974,
    "start_time": "2022-03-02T17:07:37.870Z"
   },
   {
    "duration": 3,
    "start_time": "2022-03-02T17:09:24.504Z"
   },
   {
    "duration": 186,
    "start_time": "2022-03-02T17:09:27.455Z"
   },
   {
    "duration": 4,
    "start_time": "2022-03-02T17:10:12.845Z"
   },
   {
    "duration": 212,
    "start_time": "2022-03-02T17:10:14.987Z"
   },
   {
    "duration": 18,
    "start_time": "2022-03-02T17:10:38.969Z"
   },
   {
    "duration": 10,
    "start_time": "2022-03-02T17:10:56.149Z"
   },
   {
    "duration": 10,
    "start_time": "2022-03-02T17:12:14.204Z"
   },
   {
    "duration": 8,
    "start_time": "2022-03-02T19:07:52.684Z"
   },
   {
    "duration": 3,
    "start_time": "2022-03-02T19:11:08.215Z"
   },
   {
    "duration": 5230,
    "start_time": "2022-03-02T19:12:16.830Z"
   },
   {
    "duration": 208,
    "start_time": "2022-03-02T19:12:51.723Z"
   },
   {
    "duration": 3,
    "start_time": "2022-03-02T19:13:16.551Z"
   },
   {
    "duration": 18,
    "start_time": "2022-03-02T19:13:18.950Z"
   },
   {
    "duration": 7,
    "start_time": "2022-03-02T19:14:28.652Z"
   },
   {
    "duration": 223,
    "start_time": "2022-03-02T19:24:13.006Z"
   },
   {
    "duration": 9,
    "start_time": "2022-03-02T19:24:37.232Z"
   },
   {
    "duration": 6,
    "start_time": "2022-03-02T19:28:04.419Z"
   },
   {
    "duration": 3,
    "start_time": "2022-03-02T19:33:51.204Z"
   },
   {
    "duration": 11,
    "start_time": "2022-03-02T19:35:41.479Z"
   },
   {
    "duration": 6,
    "start_time": "2022-03-02T19:35:58.422Z"
   },
   {
    "duration": 8,
    "start_time": "2022-03-02T19:36:03.480Z"
   },
   {
    "duration": 5,
    "start_time": "2022-03-02T19:41:37.340Z"
   },
   {
    "duration": 6,
    "start_time": "2022-03-02T19:41:47.657Z"
   },
   {
    "duration": 6,
    "start_time": "2022-03-02T19:45:11.545Z"
   },
   {
    "duration": 6,
    "start_time": "2022-03-02T19:47:27.745Z"
   },
   {
    "duration": 7,
    "start_time": "2022-03-02T19:49:11.756Z"
   },
   {
    "duration": 605,
    "start_time": "2022-03-03T18:03:27.927Z"
   },
   {
    "duration": 53,
    "start_time": "2022-03-03T18:03:28.534Z"
   },
   {
    "duration": 20,
    "start_time": "2022-03-03T18:03:28.589Z"
   },
   {
    "duration": 15,
    "start_time": "2022-03-03T18:03:28.611Z"
   },
   {
    "duration": 11,
    "start_time": "2022-03-03T18:03:28.628Z"
   },
   {
    "duration": 22,
    "start_time": "2022-03-03T18:03:28.640Z"
   },
   {
    "duration": 3,
    "start_time": "2022-03-03T18:03:28.664Z"
   },
   {
    "duration": 14,
    "start_time": "2022-03-03T18:03:28.670Z"
   },
   {
    "duration": 16,
    "start_time": "2022-03-03T18:03:28.686Z"
   },
   {
    "duration": 4,
    "start_time": "2022-03-03T18:03:28.704Z"
   },
   {
    "duration": 4,
    "start_time": "2022-03-03T18:03:28.710Z"
   },
   {
    "duration": 44,
    "start_time": "2022-03-03T18:03:28.716Z"
   },
   {
    "duration": 7,
    "start_time": "2022-03-03T18:03:28.762Z"
   },
   {
    "duration": 6,
    "start_time": "2022-03-03T18:03:28.771Z"
   },
   {
    "duration": 4,
    "start_time": "2022-03-03T18:03:28.779Z"
   },
   {
    "duration": 9,
    "start_time": "2022-03-03T18:03:28.785Z"
   },
   {
    "duration": 5,
    "start_time": "2022-03-03T18:03:28.796Z"
   },
   {
    "duration": 4,
    "start_time": "2022-03-03T18:03:28.803Z"
   },
   {
    "duration": 13,
    "start_time": "2022-03-03T18:03:28.808Z"
   },
   {
    "duration": 4,
    "start_time": "2022-03-03T18:03:28.860Z"
   },
   {
    "duration": 5,
    "start_time": "2022-03-03T18:03:28.866Z"
   },
   {
    "duration": 4,
    "start_time": "2022-03-03T18:03:28.873Z"
   },
   {
    "duration": 3,
    "start_time": "2022-03-03T18:03:28.880Z"
   },
   {
    "duration": 12,
    "start_time": "2022-03-03T18:03:28.885Z"
   },
   {
    "duration": 13,
    "start_time": "2022-03-03T18:03:28.898Z"
   },
   {
    "duration": 52,
    "start_time": "2022-03-03T18:03:28.913Z"
   },
   {
    "duration": 14,
    "start_time": "2022-03-03T18:03:28.966Z"
   },
   {
    "duration": 11,
    "start_time": "2022-03-03T18:03:28.981Z"
   },
   {
    "duration": 12,
    "start_time": "2022-03-03T18:03:28.993Z"
   },
   {
    "duration": 14,
    "start_time": "2022-03-03T18:03:29.007Z"
   },
   {
    "duration": 38,
    "start_time": "2022-03-03T18:03:29.022Z"
   },
   {
    "duration": 12,
    "start_time": "2022-03-03T18:03:29.062Z"
   },
   {
    "duration": 12,
    "start_time": "2022-03-03T18:03:29.075Z"
   },
   {
    "duration": 8,
    "start_time": "2022-03-03T18:03:29.089Z"
   },
   {
    "duration": 10,
    "start_time": "2022-03-03T18:03:29.098Z"
   },
   {
    "duration": 10,
    "start_time": "2022-03-03T18:03:29.110Z"
   },
   {
    "duration": 5,
    "start_time": "2022-03-03T18:03:29.122Z"
   },
   {
    "duration": 35,
    "start_time": "2022-03-03T18:03:29.129Z"
   },
   {
    "duration": 15,
    "start_time": "2022-03-03T18:03:29.165Z"
   },
   {
    "duration": 5,
    "start_time": "2022-03-03T18:03:29.182Z"
   },
   {
    "duration": 15,
    "start_time": "2022-03-03T18:03:29.189Z"
   },
   {
    "duration": 11,
    "start_time": "2022-03-03T18:03:29.206Z"
   },
   {
    "duration": 9,
    "start_time": "2022-03-03T18:03:29.219Z"
   },
   {
    "duration": 3,
    "start_time": "2022-03-03T18:03:29.230Z"
   },
   {
    "duration": 18,
    "start_time": "2022-03-03T18:03:29.259Z"
   },
   {
    "duration": 10,
    "start_time": "2022-03-03T18:03:29.279Z"
   },
   {
    "duration": 10,
    "start_time": "2022-03-03T18:03:29.291Z"
   },
   {
    "duration": 9,
    "start_time": "2022-03-03T18:03:29.302Z"
   },
   {
    "duration": 13,
    "start_time": "2022-03-03T18:03:29.313Z"
   },
   {
    "duration": 39,
    "start_time": "2022-03-03T18:03:29.328Z"
   },
   {
    "duration": 7,
    "start_time": "2022-03-03T18:03:29.369Z"
   },
   {
    "duration": 8,
    "start_time": "2022-03-03T18:03:29.378Z"
   },
   {
    "duration": 8,
    "start_time": "2022-03-03T18:03:29.387Z"
   },
   {
    "duration": 5,
    "start_time": "2022-03-03T18:03:29.397Z"
   },
   {
    "duration": 5,
    "start_time": "2022-03-03T18:03:29.404Z"
   },
   {
    "duration": 5,
    "start_time": "2022-03-03T18:03:29.411Z"
   },
   {
    "duration": 47,
    "start_time": "2022-03-03T18:03:29.418Z"
   },
   {
    "duration": 6,
    "start_time": "2022-03-03T18:06:03.017Z"
   },
   {
    "duration": 6,
    "start_time": "2022-03-03T18:07:26.267Z"
   },
   {
    "duration": 253,
    "start_time": "2022-03-03T19:23:55.744Z"
   },
   {
    "duration": 8,
    "start_time": "2022-03-03T19:24:31.303Z"
   },
   {
    "duration": 8,
    "start_time": "2022-03-03T19:25:14.280Z"
   },
   {
    "duration": 8,
    "start_time": "2022-03-03T19:26:19.203Z"
   },
   {
    "duration": 215,
    "start_time": "2022-03-04T18:18:56.610Z"
   },
   {
    "duration": 160,
    "start_time": "2022-03-04T18:20:45.750Z"
   },
   {
    "duration": 525,
    "start_time": "2022-03-04T18:20:58.186Z"
   },
   {
    "duration": 48,
    "start_time": "2022-03-04T18:20:58.713Z"
   },
   {
    "duration": 19,
    "start_time": "2022-03-04T18:20:58.763Z"
   },
   {
    "duration": 10,
    "start_time": "2022-03-04T18:20:58.784Z"
   },
   {
    "duration": 10,
    "start_time": "2022-03-04T18:20:58.796Z"
   },
   {
    "duration": 29,
    "start_time": "2022-03-04T18:20:58.808Z"
   },
   {
    "duration": 5,
    "start_time": "2022-03-04T18:20:58.839Z"
   },
   {
    "duration": 15,
    "start_time": "2022-03-04T18:20:58.846Z"
   },
   {
    "duration": 15,
    "start_time": "2022-03-04T18:20:58.863Z"
   },
   {
    "duration": 7,
    "start_time": "2022-03-04T18:20:58.880Z"
   },
   {
    "duration": 7,
    "start_time": "2022-03-04T18:20:58.888Z"
   },
   {
    "duration": 8,
    "start_time": "2022-03-04T18:20:58.897Z"
   },
   {
    "duration": 28,
    "start_time": "2022-03-04T18:20:58.906Z"
   },
   {
    "duration": 5,
    "start_time": "2022-03-04T18:20:58.936Z"
   },
   {
    "duration": 8,
    "start_time": "2022-03-04T18:20:58.942Z"
   },
   {
    "duration": 12,
    "start_time": "2022-03-04T18:20:58.951Z"
   },
   {
    "duration": 9,
    "start_time": "2022-03-04T18:20:58.964Z"
   },
   {
    "duration": 12,
    "start_time": "2022-03-04T18:20:58.975Z"
   },
   {
    "duration": 13,
    "start_time": "2022-03-04T18:20:58.989Z"
   },
   {
    "duration": 4,
    "start_time": "2022-03-04T18:20:59.004Z"
   },
   {
    "duration": 24,
    "start_time": "2022-03-04T18:20:59.009Z"
   },
   {
    "duration": 5,
    "start_time": "2022-03-04T18:20:59.034Z"
   },
   {
    "duration": 5,
    "start_time": "2022-03-04T18:20:59.042Z"
   },
   {
    "duration": 12,
    "start_time": "2022-03-04T18:20:59.048Z"
   },
   {
    "duration": 12,
    "start_time": "2022-03-04T18:20:59.062Z"
   },
   {
    "duration": 14,
    "start_time": "2022-03-04T18:20:59.075Z"
   },
   {
    "duration": 42,
    "start_time": "2022-03-04T18:20:59.091Z"
   },
   {
    "duration": 10,
    "start_time": "2022-03-04T18:20:59.135Z"
   },
   {
    "duration": 14,
    "start_time": "2022-03-04T18:20:59.146Z"
   },
   {
    "duration": 14,
    "start_time": "2022-03-04T18:20:59.162Z"
   },
   {
    "duration": 8,
    "start_time": "2022-03-04T18:20:59.178Z"
   },
   {
    "duration": 12,
    "start_time": "2022-03-04T18:20:59.188Z"
   },
   {
    "duration": 32,
    "start_time": "2022-03-04T18:20:59.201Z"
   },
   {
    "duration": 7,
    "start_time": "2022-03-04T18:20:59.235Z"
   },
   {
    "duration": 11,
    "start_time": "2022-03-04T18:20:59.243Z"
   },
   {
    "duration": 10,
    "start_time": "2022-03-04T18:20:59.256Z"
   },
   {
    "duration": 6,
    "start_time": "2022-03-04T18:20:59.268Z"
   },
   {
    "duration": 8,
    "start_time": "2022-03-04T18:20:59.275Z"
   },
   {
    "duration": 9,
    "start_time": "2022-03-04T18:20:59.285Z"
   },
   {
    "duration": 41,
    "start_time": "2022-03-04T18:20:59.295Z"
   },
   {
    "duration": 7,
    "start_time": "2022-03-04T18:20:59.338Z"
   },
   {
    "duration": 12,
    "start_time": "2022-03-04T18:20:59.347Z"
   },
   {
    "duration": 9,
    "start_time": "2022-03-04T18:20:59.361Z"
   },
   {
    "duration": 5,
    "start_time": "2022-03-04T18:20:59.372Z"
   },
   {
    "duration": 18,
    "start_time": "2022-03-04T18:20:59.378Z"
   },
   {
    "duration": 8,
    "start_time": "2022-03-04T18:20:59.398Z"
   },
   {
    "duration": 29,
    "start_time": "2022-03-04T18:20:59.408Z"
   },
   {
    "duration": 10,
    "start_time": "2022-03-04T18:20:59.439Z"
   },
   {
    "duration": 3,
    "start_time": "2022-03-04T18:20:59.451Z"
   },
   {
    "duration": 23,
    "start_time": "2022-03-04T18:20:59.455Z"
   },
   {
    "duration": 6,
    "start_time": "2022-03-04T18:20:59.480Z"
   },
   {
    "duration": 10,
    "start_time": "2022-03-04T18:20:59.487Z"
   },
   {
    "duration": 7,
    "start_time": "2022-03-04T18:20:59.499Z"
   },
   {
    "duration": 30,
    "start_time": "2022-03-04T18:20:59.507Z"
   },
   {
    "duration": 6,
    "start_time": "2022-03-04T18:20:59.539Z"
   },
   {
    "duration": 5,
    "start_time": "2022-03-04T18:20:59.546Z"
   },
   {
    "duration": 9,
    "start_time": "2022-03-04T18:20:59.553Z"
   },
   {
    "duration": 5,
    "start_time": "2022-03-04T18:20:59.563Z"
   },
   {
    "duration": 7,
    "start_time": "2022-03-04T18:20:59.570Z"
   },
   {
    "duration": 8,
    "start_time": "2022-03-04T18:20:59.578Z"
   },
   {
    "duration": 8,
    "start_time": "2022-03-04T18:21:04.894Z"
   },
   {
    "duration": 2,
    "start_time": "2022-03-04T19:26:03.030Z"
   },
   {
    "duration": 55,
    "start_time": "2022-03-04T19:26:03.034Z"
   },
   {
    "duration": 12,
    "start_time": "2022-03-04T19:26:03.091Z"
   },
   {
    "duration": 12,
    "start_time": "2022-03-04T19:26:03.105Z"
   },
   {
    "duration": 15,
    "start_time": "2022-03-04T19:26:03.119Z"
   },
   {
    "duration": 8,
    "start_time": "2022-03-04T19:26:03.136Z"
   },
   {
    "duration": 5,
    "start_time": "2022-03-04T19:26:03.147Z"
   },
   {
    "duration": 20,
    "start_time": "2022-03-04T19:26:03.154Z"
   },
   {
    "duration": 15,
    "start_time": "2022-03-04T19:26:03.175Z"
   },
   {
    "duration": 4,
    "start_time": "2022-03-04T19:26:03.191Z"
   },
   {
    "duration": 7,
    "start_time": "2022-03-04T19:26:03.196Z"
   },
   {
    "duration": 31,
    "start_time": "2022-03-04T19:26:03.204Z"
   },
   {
    "duration": 5,
    "start_time": "2022-03-04T19:26:03.237Z"
   },
   {
    "duration": 6,
    "start_time": "2022-03-04T19:26:03.244Z"
   },
   {
    "duration": 5,
    "start_time": "2022-03-04T19:26:03.252Z"
   },
   {
    "duration": 9,
    "start_time": "2022-03-04T19:26:03.258Z"
   },
   {
    "duration": 6,
    "start_time": "2022-03-04T19:26:03.268Z"
   },
   {
    "duration": 5,
    "start_time": "2022-03-04T19:26:03.276Z"
   },
   {
    "duration": 14,
    "start_time": "2022-03-04T19:26:03.283Z"
   },
   {
    "duration": 5,
    "start_time": "2022-03-04T19:26:03.332Z"
   },
   {
    "duration": 5,
    "start_time": "2022-03-04T19:26:03.339Z"
   },
   {
    "duration": 5,
    "start_time": "2022-03-04T19:26:03.346Z"
   },
   {
    "duration": 4,
    "start_time": "2022-03-04T19:26:03.352Z"
   },
   {
    "duration": 13,
    "start_time": "2022-03-04T19:26:03.358Z"
   },
   {
    "duration": 13,
    "start_time": "2022-03-04T19:26:03.373Z"
   },
   {
    "duration": 54,
    "start_time": "2022-03-04T19:26:03.388Z"
   },
   {
    "duration": 21,
    "start_time": "2022-03-04T19:26:03.444Z"
   },
   {
    "duration": 11,
    "start_time": "2022-03-04T19:26:03.467Z"
   },
   {
    "duration": 13,
    "start_time": "2022-03-04T19:26:03.479Z"
   },
   {
    "duration": 42,
    "start_time": "2022-03-04T19:26:03.493Z"
   },
   {
    "duration": 8,
    "start_time": "2022-03-04T19:26:03.537Z"
   },
   {
    "duration": 12,
    "start_time": "2022-03-04T19:26:03.547Z"
   },
   {
    "duration": 12,
    "start_time": "2022-03-04T19:26:03.561Z"
   },
   {
    "duration": 11,
    "start_time": "2022-03-04T19:26:03.574Z"
   },
   {
    "duration": 10,
    "start_time": "2022-03-04T19:26:03.588Z"
   },
   {
    "duration": 11,
    "start_time": "2022-03-04T19:26:03.600Z"
   },
   {
    "duration": 23,
    "start_time": "2022-03-04T19:26:03.613Z"
   },
   {
    "duration": 8,
    "start_time": "2022-03-04T19:26:03.637Z"
   },
   {
    "duration": 8,
    "start_time": "2022-03-04T19:26:03.646Z"
   },
   {
    "duration": 5,
    "start_time": "2022-03-04T19:26:03.656Z"
   },
   {
    "duration": 8,
    "start_time": "2022-03-04T19:26:03.662Z"
   },
   {
    "duration": 10,
    "start_time": "2022-03-04T19:26:03.671Z"
   },
   {
    "duration": 9,
    "start_time": "2022-03-04T19:26:03.682Z"
   },
   {
    "duration": 40,
    "start_time": "2022-03-04T19:26:03.693Z"
   },
   {
    "duration": 21,
    "start_time": "2022-03-04T19:26:03.735Z"
   },
   {
    "duration": 11,
    "start_time": "2022-03-04T19:26:03.758Z"
   },
   {
    "duration": 9,
    "start_time": "2022-03-04T19:26:03.771Z"
   },
   {
    "duration": 9,
    "start_time": "2022-03-04T19:26:03.782Z"
   },
   {
    "duration": 5,
    "start_time": "2022-03-04T19:26:03.792Z"
   },
   {
    "duration": 53,
    "start_time": "2022-03-04T19:26:03.799Z"
   },
   {
    "duration": 8,
    "start_time": "2022-03-04T19:26:03.854Z"
   },
   {
    "duration": 7,
    "start_time": "2022-03-04T19:26:03.864Z"
   },
   {
    "duration": 8,
    "start_time": "2022-03-04T19:26:03.873Z"
   },
   {
    "duration": 7,
    "start_time": "2022-03-04T19:26:03.883Z"
   },
   {
    "duration": 7,
    "start_time": "2022-03-04T19:26:03.933Z"
   },
   {
    "duration": 7,
    "start_time": "2022-03-04T19:26:03.942Z"
   },
   {
    "duration": 8,
    "start_time": "2022-03-04T19:26:03.951Z"
   },
   {
    "duration": 5,
    "start_time": "2022-03-04T19:26:03.961Z"
   },
   {
    "duration": 7,
    "start_time": "2022-03-04T19:26:03.968Z"
   },
   {
    "duration": 8,
    "start_time": "2022-03-04T19:26:03.977Z"
   },
   {
    "duration": 49,
    "start_time": "2022-03-04T19:26:03.986Z"
   },
   {
    "duration": 3,
    "start_time": "2022-03-04T19:26:27.271Z"
   },
   {
    "duration": 45,
    "start_time": "2022-03-04T19:26:27.276Z"
   },
   {
    "duration": 12,
    "start_time": "2022-03-04T19:26:27.323Z"
   },
   {
    "duration": 12,
    "start_time": "2022-03-04T19:26:27.336Z"
   },
   {
    "duration": 13,
    "start_time": "2022-03-04T19:26:27.349Z"
   },
   {
    "duration": 10,
    "start_time": "2022-03-04T19:26:27.364Z"
   },
   {
    "duration": 3,
    "start_time": "2022-03-04T19:26:27.377Z"
   },
   {
    "duration": 13,
    "start_time": "2022-03-04T19:26:27.382Z"
   },
   {
    "duration": 46,
    "start_time": "2022-03-04T19:26:27.397Z"
   },
   {
    "duration": 6,
    "start_time": "2022-03-04T19:26:27.445Z"
   },
   {
    "duration": 9,
    "start_time": "2022-03-04T19:26:27.453Z"
   },
   {
    "duration": 5,
    "start_time": "2022-03-04T19:26:27.463Z"
   },
   {
    "duration": 6,
    "start_time": "2022-03-04T19:26:27.470Z"
   },
   {
    "duration": 6,
    "start_time": "2022-03-04T19:26:27.477Z"
   },
   {
    "duration": 6,
    "start_time": "2022-03-04T19:26:27.484Z"
   },
   {
    "duration": 46,
    "start_time": "2022-03-04T19:26:27.491Z"
   },
   {
    "duration": 6,
    "start_time": "2022-03-04T19:26:27.539Z"
   },
   {
    "duration": 5,
    "start_time": "2022-03-04T19:26:27.547Z"
   },
   {
    "duration": 11,
    "start_time": "2022-03-04T19:26:27.555Z"
   },
   {
    "duration": 4,
    "start_time": "2022-03-04T19:26:27.568Z"
   },
   {
    "duration": 6,
    "start_time": "2022-03-04T19:26:27.573Z"
   },
   {
    "duration": 6,
    "start_time": "2022-03-04T19:26:27.580Z"
   },
   {
    "duration": 46,
    "start_time": "2022-03-04T19:26:27.587Z"
   },
   {
    "duration": 12,
    "start_time": "2022-03-04T19:26:27.635Z"
   },
   {
    "duration": 12,
    "start_time": "2022-03-04T19:26:27.649Z"
   },
   {
    "duration": 20,
    "start_time": "2022-03-04T19:26:27.663Z"
   },
   {
    "duration": 19,
    "start_time": "2022-03-04T19:26:27.685Z"
   },
   {
    "duration": 15,
    "start_time": "2022-03-04T19:26:27.734Z"
   },
   {
    "duration": 28,
    "start_time": "2022-03-04T19:26:27.751Z"
   },
   {
    "duration": 21,
    "start_time": "2022-03-04T19:26:27.781Z"
   },
   {
    "duration": 11,
    "start_time": "2022-03-04T19:26:27.804Z"
   },
   {
    "duration": 30,
    "start_time": "2022-03-04T19:26:27.817Z"
   },
   {
    "duration": 13,
    "start_time": "2022-03-04T19:26:27.849Z"
   },
   {
    "duration": 9,
    "start_time": "2022-03-04T19:26:27.864Z"
   },
   {
    "duration": 10,
    "start_time": "2022-03-04T19:26:27.874Z"
   },
   {
    "duration": 12,
    "start_time": "2022-03-04T19:26:27.886Z"
   },
   {
    "duration": 36,
    "start_time": "2022-03-04T19:26:27.900Z"
   },
   {
    "duration": 8,
    "start_time": "2022-03-04T19:26:27.938Z"
   },
   {
    "duration": 9,
    "start_time": "2022-03-04T19:26:27.947Z"
   },
   {
    "duration": 5,
    "start_time": "2022-03-04T19:26:27.958Z"
   },
   {
    "duration": 8,
    "start_time": "2022-03-04T19:26:27.965Z"
   },
   {
    "duration": 12,
    "start_time": "2022-03-04T19:26:27.974Z"
   },
   {
    "duration": 8,
    "start_time": "2022-03-04T19:26:27.988Z"
   },
   {
    "duration": 3,
    "start_time": "2022-03-04T19:26:28.033Z"
   },
   {
    "duration": 19,
    "start_time": "2022-03-04T19:26:28.038Z"
   },
   {
    "duration": 9,
    "start_time": "2022-03-04T19:26:28.058Z"
   },
   {
    "duration": 10,
    "start_time": "2022-03-04T19:26:28.069Z"
   },
   {
    "duration": 9,
    "start_time": "2022-03-04T19:26:28.081Z"
   },
   {
    "duration": 3,
    "start_time": "2022-03-04T19:26:28.095Z"
   },
   {
    "duration": 52,
    "start_time": "2022-03-04T19:26:28.100Z"
   },
   {
    "duration": 10,
    "start_time": "2022-03-04T19:26:28.154Z"
   },
   {
    "duration": 7,
    "start_time": "2022-03-04T19:26:28.166Z"
   },
   {
    "duration": 9,
    "start_time": "2022-03-04T19:26:28.175Z"
   },
   {
    "duration": 6,
    "start_time": "2022-03-04T19:26:28.185Z"
   },
   {
    "duration": 7,
    "start_time": "2022-03-04T19:26:28.193Z"
   },
   {
    "duration": 5,
    "start_time": "2022-03-04T19:26:28.233Z"
   },
   {
    "duration": 7,
    "start_time": "2022-03-04T19:26:28.240Z"
   },
   {
    "duration": 7,
    "start_time": "2022-03-04T19:26:28.248Z"
   },
   {
    "duration": 7,
    "start_time": "2022-03-04T19:26:28.256Z"
   },
   {
    "duration": 7,
    "start_time": "2022-03-04T19:26:28.266Z"
   },
   {
    "duration": 9,
    "start_time": "2022-03-04T19:26:28.275Z"
   },
   {
    "duration": 589,
    "start_time": "2022-03-12T20:27:46.925Z"
   },
   {
    "duration": 44,
    "start_time": "2022-03-12T20:27:47.516Z"
   },
   {
    "duration": 18,
    "start_time": "2022-03-12T20:27:47.562Z"
   },
   {
    "duration": 14,
    "start_time": "2022-03-12T20:27:47.582Z"
   },
   {
    "duration": 13,
    "start_time": "2022-03-12T20:27:47.597Z"
   },
   {
    "duration": 29,
    "start_time": "2022-03-12T20:27:47.612Z"
   },
   {
    "duration": 3,
    "start_time": "2022-03-12T20:27:47.643Z"
   },
   {
    "duration": 16,
    "start_time": "2022-03-12T20:27:47.648Z"
   },
   {
    "duration": 14,
    "start_time": "2022-03-12T20:27:47.666Z"
   },
   {
    "duration": 5,
    "start_time": "2022-03-12T20:27:47.682Z"
   },
   {
    "duration": 5,
    "start_time": "2022-03-12T20:27:47.688Z"
   },
   {
    "duration": 9,
    "start_time": "2022-03-12T20:27:47.695Z"
   },
   {
    "duration": 35,
    "start_time": "2022-03-12T20:27:47.706Z"
   },
   {
    "duration": 6,
    "start_time": "2022-03-12T20:27:47.743Z"
   },
   {
    "duration": 6,
    "start_time": "2022-03-12T20:27:47.751Z"
   },
   {
    "duration": 6,
    "start_time": "2022-03-12T20:27:47.758Z"
   },
   {
    "duration": 7,
    "start_time": "2022-03-12T20:27:47.766Z"
   },
   {
    "duration": 3,
    "start_time": "2022-03-12T20:27:47.775Z"
   },
   {
    "duration": 11,
    "start_time": "2022-03-12T20:27:47.780Z"
   },
   {
    "duration": 47,
    "start_time": "2022-03-12T20:27:47.793Z"
   },
   {
    "duration": 6,
    "start_time": "2022-03-12T20:27:47.842Z"
   },
   {
    "duration": 5,
    "start_time": "2022-03-12T20:27:47.850Z"
   },
   {
    "duration": 3,
    "start_time": "2022-03-12T20:27:47.859Z"
   },
   {
    "duration": 11,
    "start_time": "2022-03-12T20:27:47.865Z"
   },
   {
    "duration": 14,
    "start_time": "2022-03-12T20:27:47.877Z"
   },
   {
    "duration": 57,
    "start_time": "2022-03-12T20:27:47.893Z"
   },
   {
    "duration": 14,
    "start_time": "2022-03-12T20:27:47.952Z"
   },
   {
    "duration": 12,
    "start_time": "2022-03-12T20:27:47.967Z"
   },
   {
    "duration": 13,
    "start_time": "2022-03-12T20:27:47.980Z"
   },
   {
    "duration": 44,
    "start_time": "2022-03-12T20:27:47.995Z"
   },
   {
    "duration": 8,
    "start_time": "2022-03-12T20:27:48.041Z"
   },
   {
    "duration": 12,
    "start_time": "2022-03-12T20:27:48.050Z"
   },
   {
    "duration": 10,
    "start_time": "2022-03-12T20:27:48.064Z"
   },
   {
    "duration": 9,
    "start_time": "2022-03-12T20:27:48.075Z"
   },
   {
    "duration": 10,
    "start_time": "2022-03-12T20:27:48.086Z"
   },
   {
    "duration": 41,
    "start_time": "2022-03-12T20:27:48.097Z"
   },
   {
    "duration": 7,
    "start_time": "2022-03-12T20:27:48.139Z"
   },
   {
    "duration": 7,
    "start_time": "2022-03-12T20:27:48.148Z"
   },
   {
    "duration": 8,
    "start_time": "2022-03-12T20:27:48.157Z"
   },
   {
    "duration": 4,
    "start_time": "2022-03-12T20:27:48.167Z"
   },
   {
    "duration": 8,
    "start_time": "2022-03-12T20:27:48.173Z"
   },
   {
    "duration": 9,
    "start_time": "2022-03-12T20:27:48.183Z"
   },
   {
    "duration": 44,
    "start_time": "2022-03-12T20:27:48.194Z"
   },
   {
    "duration": 5,
    "start_time": "2022-03-12T20:27:48.239Z"
   },
   {
    "duration": 28,
    "start_time": "2022-03-12T20:27:48.245Z"
   },
   {
    "duration": 10,
    "start_time": "2022-03-12T20:27:48.275Z"
   },
   {
    "duration": 9,
    "start_time": "2022-03-12T20:27:48.286Z"
   },
   {
    "duration": 11,
    "start_time": "2022-03-12T20:27:48.296Z"
   },
   {
    "duration": 5,
    "start_time": "2022-03-12T20:27:48.308Z"
   },
   {
    "duration": 34,
    "start_time": "2022-03-12T20:27:48.314Z"
   },
   {
    "duration": 6,
    "start_time": "2022-03-12T20:27:48.349Z"
   },
   {
    "duration": 8,
    "start_time": "2022-03-12T20:27:48.357Z"
   },
   {
    "duration": 8,
    "start_time": "2022-03-12T20:27:48.366Z"
   },
   {
    "duration": 5,
    "start_time": "2022-03-12T20:27:48.375Z"
   },
   {
    "duration": 6,
    "start_time": "2022-03-12T20:27:48.381Z"
   },
   {
    "duration": 6,
    "start_time": "2022-03-12T20:27:48.389Z"
   },
   {
    "duration": 7,
    "start_time": "2022-03-12T20:27:48.397Z"
   },
   {
    "duration": 33,
    "start_time": "2022-03-12T20:27:48.406Z"
   },
   {
    "duration": 6,
    "start_time": "2022-03-12T20:27:48.441Z"
   },
   {
    "duration": 7,
    "start_time": "2022-03-12T20:27:48.449Z"
   },
   {
    "duration": 7,
    "start_time": "2022-03-12T20:27:48.457Z"
   },
   {
    "duration": 5,
    "start_time": "2022-03-12T20:27:48.465Z"
   },
   {
    "duration": 67,
    "start_time": "2022-03-12T20:38:33.623Z"
   },
   {
    "duration": 609,
    "start_time": "2022-03-12T20:54:06.784Z"
   },
   {
    "duration": 47,
    "start_time": "2022-03-12T20:54:07.395Z"
   },
   {
    "duration": 19,
    "start_time": "2022-03-12T20:54:07.444Z"
   },
   {
    "duration": 22,
    "start_time": "2022-03-12T20:54:07.465Z"
   },
   {
    "duration": 37,
    "start_time": "2022-03-12T20:54:07.489Z"
   },
   {
    "duration": 20,
    "start_time": "2022-03-12T20:54:07.528Z"
   },
   {
    "duration": 25,
    "start_time": "2022-03-12T20:54:07.549Z"
   },
   {
    "duration": 28,
    "start_time": "2022-03-12T20:54:07.577Z"
   },
   {
    "duration": 34,
    "start_time": "2022-03-12T20:54:07.607Z"
   },
   {
    "duration": 5,
    "start_time": "2022-03-12T20:54:07.643Z"
   },
   {
    "duration": 26,
    "start_time": "2022-03-12T20:54:07.649Z"
   },
   {
    "duration": 22,
    "start_time": "2022-03-12T20:54:07.677Z"
   },
   {
    "duration": 27,
    "start_time": "2022-03-12T20:54:07.701Z"
   },
   {
    "duration": 20,
    "start_time": "2022-03-12T20:54:07.730Z"
   },
   {
    "duration": 15,
    "start_time": "2022-03-12T20:54:07.752Z"
   },
   {
    "duration": 19,
    "start_time": "2022-03-12T20:54:07.769Z"
   },
   {
    "duration": 13,
    "start_time": "2022-03-12T20:54:07.790Z"
   },
   {
    "duration": 13,
    "start_time": "2022-03-12T20:54:07.805Z"
   },
   {
    "duration": 13,
    "start_time": "2022-03-12T20:54:07.819Z"
   },
   {
    "duration": 6,
    "start_time": "2022-03-12T20:54:07.834Z"
   },
   {
    "duration": 11,
    "start_time": "2022-03-12T20:54:07.842Z"
   },
   {
    "duration": 9,
    "start_time": "2022-03-12T20:54:07.855Z"
   },
   {
    "duration": 15,
    "start_time": "2022-03-12T20:54:07.868Z"
   },
   {
    "duration": 25,
    "start_time": "2022-03-12T20:54:07.885Z"
   },
   {
    "duration": 30,
    "start_time": "2022-03-12T20:54:07.912Z"
   },
   {
    "duration": 24,
    "start_time": "2022-03-12T20:54:07.944Z"
   },
   {
    "duration": 24,
    "start_time": "2022-03-12T20:54:07.970Z"
   },
   {
    "duration": 13,
    "start_time": "2022-03-12T20:54:07.995Z"
   },
   {
    "duration": 18,
    "start_time": "2022-03-12T20:54:08.009Z"
   },
   {
    "duration": 18,
    "start_time": "2022-03-12T20:54:08.029Z"
   },
   {
    "duration": 11,
    "start_time": "2022-03-12T20:54:08.049Z"
   },
   {
    "duration": 18,
    "start_time": "2022-03-12T20:54:08.062Z"
   },
   {
    "duration": 19,
    "start_time": "2022-03-12T20:54:08.082Z"
   },
   {
    "duration": 12,
    "start_time": "2022-03-12T20:54:08.103Z"
   },
   {
    "duration": 18,
    "start_time": "2022-03-12T20:54:08.117Z"
   },
   {
    "duration": 9,
    "start_time": "2022-03-12T20:54:08.137Z"
   },
   {
    "duration": 15,
    "start_time": "2022-03-12T20:54:08.148Z"
   },
   {
    "duration": 20,
    "start_time": "2022-03-12T20:54:08.164Z"
   },
   {
    "duration": 9,
    "start_time": "2022-03-12T20:54:08.186Z"
   },
   {
    "duration": 19,
    "start_time": "2022-03-12T20:54:08.197Z"
   },
   {
    "duration": 34,
    "start_time": "2022-03-12T20:54:08.218Z"
   },
   {
    "duration": 20,
    "start_time": "2022-03-12T20:54:08.254Z"
   },
   {
    "duration": 23,
    "start_time": "2022-03-12T20:54:08.276Z"
   },
   {
    "duration": 3,
    "start_time": "2022-03-12T20:54:08.301Z"
   },
   {
    "duration": 42,
    "start_time": "2022-03-12T20:54:08.306Z"
   },
   {
    "duration": 18,
    "start_time": "2022-03-12T20:54:08.350Z"
   },
   {
    "duration": 21,
    "start_time": "2022-03-12T20:54:08.370Z"
   },
   {
    "duration": 24,
    "start_time": "2022-03-12T20:54:08.393Z"
   },
   {
    "duration": 30,
    "start_time": "2022-03-12T20:54:08.418Z"
   },
   {
    "duration": 41,
    "start_time": "2022-03-12T20:54:08.450Z"
   },
   {
    "duration": 7,
    "start_time": "2022-03-12T20:54:08.493Z"
   },
   {
    "duration": 20,
    "start_time": "2022-03-12T20:54:08.502Z"
   },
   {
    "duration": 25,
    "start_time": "2022-03-12T20:54:08.524Z"
   },
   {
    "duration": 7,
    "start_time": "2022-03-12T20:54:08.551Z"
   },
   {
    "duration": 11,
    "start_time": "2022-03-12T20:54:08.560Z"
   },
   {
    "duration": 15,
    "start_time": "2022-03-12T20:54:08.573Z"
   },
   {
    "duration": 13,
    "start_time": "2022-03-12T20:54:08.590Z"
   },
   {
    "duration": 23,
    "start_time": "2022-03-12T20:54:08.605Z"
   },
   {
    "duration": 20,
    "start_time": "2022-03-12T20:54:08.630Z"
   },
   {
    "duration": 10,
    "start_time": "2022-03-12T20:54:08.652Z"
   },
   {
    "duration": 10,
    "start_time": "2022-03-12T20:54:08.664Z"
   },
   {
    "duration": 19,
    "start_time": "2022-03-12T20:54:08.676Z"
   },
   {
    "duration": 73,
    "start_time": "2022-03-18T18:20:56.795Z"
   },
   {
    "duration": 543,
    "start_time": "2022-03-18T18:21:01.556Z"
   },
   {
    "duration": 157,
    "start_time": "2022-03-18T18:21:02.101Z"
   },
   {
    "duration": 0,
    "start_time": "2022-03-18T18:21:02.264Z"
   },
   {
    "duration": 0,
    "start_time": "2022-03-18T18:21:02.266Z"
   },
   {
    "duration": 0,
    "start_time": "2022-03-18T18:21:02.268Z"
   },
   {
    "duration": 0,
    "start_time": "2022-03-18T18:21:02.269Z"
   },
   {
    "duration": 0,
    "start_time": "2022-03-18T18:21:02.271Z"
   },
   {
    "duration": 0,
    "start_time": "2022-03-18T18:21:02.273Z"
   },
   {
    "duration": 0,
    "start_time": "2022-03-18T18:21:02.275Z"
   },
   {
    "duration": 0,
    "start_time": "2022-03-18T18:21:02.277Z"
   },
   {
    "duration": 0,
    "start_time": "2022-03-18T18:21:02.278Z"
   },
   {
    "duration": 0,
    "start_time": "2022-03-18T18:21:02.280Z"
   },
   {
    "duration": 0,
    "start_time": "2022-03-18T18:21:02.282Z"
   },
   {
    "duration": 0,
    "start_time": "2022-03-18T18:21:02.284Z"
   },
   {
    "duration": 0,
    "start_time": "2022-03-18T18:21:02.285Z"
   },
   {
    "duration": 0,
    "start_time": "2022-03-18T18:21:02.287Z"
   },
   {
    "duration": 0,
    "start_time": "2022-03-18T18:21:02.288Z"
   },
   {
    "duration": 0,
    "start_time": "2022-03-18T18:21:02.290Z"
   },
   {
    "duration": 0,
    "start_time": "2022-03-18T18:21:02.291Z"
   },
   {
    "duration": 0,
    "start_time": "2022-03-18T18:21:02.293Z"
   },
   {
    "duration": 0,
    "start_time": "2022-03-18T18:21:02.295Z"
   },
   {
    "duration": 0,
    "start_time": "2022-03-18T18:21:02.296Z"
   },
   {
    "duration": 0,
    "start_time": "2022-03-18T18:21:02.298Z"
   },
   {
    "duration": 0,
    "start_time": "2022-03-18T18:21:02.299Z"
   },
   {
    "duration": 0,
    "start_time": "2022-03-18T18:21:02.301Z"
   },
   {
    "duration": 0,
    "start_time": "2022-03-18T18:21:02.302Z"
   },
   {
    "duration": 0,
    "start_time": "2022-03-18T18:21:02.304Z"
   },
   {
    "duration": 0,
    "start_time": "2022-03-18T18:21:02.305Z"
   },
   {
    "duration": 0,
    "start_time": "2022-03-18T18:21:02.307Z"
   },
   {
    "duration": 0,
    "start_time": "2022-03-18T18:21:02.308Z"
   },
   {
    "duration": 0,
    "start_time": "2022-03-18T18:21:02.309Z"
   },
   {
    "duration": 0,
    "start_time": "2022-03-18T18:21:02.311Z"
   },
   {
    "duration": 0,
    "start_time": "2022-03-18T18:21:02.312Z"
   },
   {
    "duration": 0,
    "start_time": "2022-03-18T18:21:02.314Z"
   },
   {
    "duration": 0,
    "start_time": "2022-03-18T18:21:02.316Z"
   },
   {
    "duration": 1,
    "start_time": "2022-03-18T18:21:02.317Z"
   },
   {
    "duration": 0,
    "start_time": "2022-03-18T18:21:02.374Z"
   },
   {
    "duration": 0,
    "start_time": "2022-03-18T18:21:02.375Z"
   },
   {
    "duration": 0,
    "start_time": "2022-03-18T18:21:02.377Z"
   },
   {
    "duration": 0,
    "start_time": "2022-03-18T18:21:02.378Z"
   },
   {
    "duration": 0,
    "start_time": "2022-03-18T18:21:02.380Z"
   },
   {
    "duration": 0,
    "start_time": "2022-03-18T18:21:02.381Z"
   },
   {
    "duration": 0,
    "start_time": "2022-03-18T18:21:02.383Z"
   },
   {
    "duration": 0,
    "start_time": "2022-03-18T18:21:02.384Z"
   },
   {
    "duration": 0,
    "start_time": "2022-03-18T18:21:02.386Z"
   },
   {
    "duration": 0,
    "start_time": "2022-03-18T18:21:02.387Z"
   },
   {
    "duration": 0,
    "start_time": "2022-03-18T18:21:02.389Z"
   },
   {
    "duration": 0,
    "start_time": "2022-03-18T18:21:02.392Z"
   },
   {
    "duration": 0,
    "start_time": "2022-03-18T18:21:02.393Z"
   },
   {
    "duration": 0,
    "start_time": "2022-03-18T18:21:02.395Z"
   },
   {
    "duration": 0,
    "start_time": "2022-03-18T18:21:02.397Z"
   },
   {
    "duration": 0,
    "start_time": "2022-03-18T18:21:02.400Z"
   },
   {
    "duration": 0,
    "start_time": "2022-03-18T18:21:02.407Z"
   },
   {
    "duration": 0,
    "start_time": "2022-03-18T18:21:02.409Z"
   },
   {
    "duration": 0,
    "start_time": "2022-03-18T18:21:02.473Z"
   },
   {
    "duration": 0,
    "start_time": "2022-03-18T18:21:02.476Z"
   },
   {
    "duration": 0,
    "start_time": "2022-03-18T18:21:02.477Z"
   },
   {
    "duration": 0,
    "start_time": "2022-03-18T18:21:02.479Z"
   },
   {
    "duration": 0,
    "start_time": "2022-03-18T18:21:02.481Z"
   },
   {
    "duration": 0,
    "start_time": "2022-03-18T18:21:02.483Z"
   },
   {
    "duration": 0,
    "start_time": "2022-03-18T18:21:02.484Z"
   },
   {
    "duration": 0,
    "start_time": "2022-03-18T18:21:02.485Z"
   },
   {
    "duration": 3,
    "start_time": "2022-03-18T18:21:26.519Z"
   },
   {
    "duration": 102,
    "start_time": "2022-03-18T18:21:26.527Z"
   },
   {
    "duration": 0,
    "start_time": "2022-03-18T18:21:26.635Z"
   },
   {
    "duration": 0,
    "start_time": "2022-03-18T18:21:26.637Z"
   },
   {
    "duration": 0,
    "start_time": "2022-03-18T18:21:26.640Z"
   },
   {
    "duration": 0,
    "start_time": "2022-03-18T18:21:26.641Z"
   },
   {
    "duration": 0,
    "start_time": "2022-03-18T18:21:26.643Z"
   },
   {
    "duration": 0,
    "start_time": "2022-03-18T18:21:26.646Z"
   },
   {
    "duration": 0,
    "start_time": "2022-03-18T18:21:26.647Z"
   },
   {
    "duration": 0,
    "start_time": "2022-03-18T18:21:26.649Z"
   },
   {
    "duration": 0,
    "start_time": "2022-03-18T18:21:26.674Z"
   },
   {
    "duration": 0,
    "start_time": "2022-03-18T18:21:26.676Z"
   },
   {
    "duration": 0,
    "start_time": "2022-03-18T18:21:26.678Z"
   },
   {
    "duration": 0,
    "start_time": "2022-03-18T18:21:26.679Z"
   },
   {
    "duration": 0,
    "start_time": "2022-03-18T18:21:26.681Z"
   },
   {
    "duration": 0,
    "start_time": "2022-03-18T18:21:26.682Z"
   },
   {
    "duration": 0,
    "start_time": "2022-03-18T18:21:26.684Z"
   },
   {
    "duration": 0,
    "start_time": "2022-03-18T18:21:26.686Z"
   },
   {
    "duration": 0,
    "start_time": "2022-03-18T18:21:26.687Z"
   },
   {
    "duration": 0,
    "start_time": "2022-03-18T18:21:26.690Z"
   },
   {
    "duration": 0,
    "start_time": "2022-03-18T18:21:26.692Z"
   },
   {
    "duration": 0,
    "start_time": "2022-03-18T18:21:26.693Z"
   },
   {
    "duration": 0,
    "start_time": "2022-03-18T18:21:26.695Z"
   },
   {
    "duration": 0,
    "start_time": "2022-03-18T18:21:26.696Z"
   },
   {
    "duration": 0,
    "start_time": "2022-03-18T18:21:26.698Z"
   },
   {
    "duration": 0,
    "start_time": "2022-03-18T18:21:26.699Z"
   },
   {
    "duration": 0,
    "start_time": "2022-03-18T18:21:26.701Z"
   },
   {
    "duration": 0,
    "start_time": "2022-03-18T18:21:26.703Z"
   },
   {
    "duration": 0,
    "start_time": "2022-03-18T18:21:26.704Z"
   },
   {
    "duration": 0,
    "start_time": "2022-03-18T18:21:26.706Z"
   },
   {
    "duration": 0,
    "start_time": "2022-03-18T18:21:26.707Z"
   },
   {
    "duration": 0,
    "start_time": "2022-03-18T18:21:26.709Z"
   },
   {
    "duration": 0,
    "start_time": "2022-03-18T18:21:26.710Z"
   },
   {
    "duration": 0,
    "start_time": "2022-03-18T18:21:26.774Z"
   },
   {
    "duration": 1,
    "start_time": "2022-03-18T18:21:26.775Z"
   },
   {
    "duration": 0,
    "start_time": "2022-03-18T18:21:26.778Z"
   },
   {
    "duration": 0,
    "start_time": "2022-03-18T18:21:26.780Z"
   },
   {
    "duration": 0,
    "start_time": "2022-03-18T18:21:26.782Z"
   },
   {
    "duration": 0,
    "start_time": "2022-03-18T18:21:26.783Z"
   },
   {
    "duration": 0,
    "start_time": "2022-03-18T18:21:26.786Z"
   },
   {
    "duration": 0,
    "start_time": "2022-03-18T18:21:26.788Z"
   },
   {
    "duration": 0,
    "start_time": "2022-03-18T18:21:26.790Z"
   },
   {
    "duration": 0,
    "start_time": "2022-03-18T18:21:26.791Z"
   },
   {
    "duration": 0,
    "start_time": "2022-03-18T18:21:26.793Z"
   },
   {
    "duration": 0,
    "start_time": "2022-03-18T18:21:26.794Z"
   },
   {
    "duration": 0,
    "start_time": "2022-03-18T18:21:26.796Z"
   },
   {
    "duration": 0,
    "start_time": "2022-03-18T18:21:26.797Z"
   },
   {
    "duration": 0,
    "start_time": "2022-03-18T18:21:26.799Z"
   },
   {
    "duration": 0,
    "start_time": "2022-03-18T18:21:26.800Z"
   },
   {
    "duration": 0,
    "start_time": "2022-03-18T18:21:26.801Z"
   },
   {
    "duration": 0,
    "start_time": "2022-03-18T18:21:26.803Z"
   },
   {
    "duration": 0,
    "start_time": "2022-03-18T18:21:26.805Z"
   },
   {
    "duration": 0,
    "start_time": "2022-03-18T18:21:26.806Z"
   },
   {
    "duration": 0,
    "start_time": "2022-03-18T18:21:26.808Z"
   },
   {
    "duration": 0,
    "start_time": "2022-03-18T18:21:26.809Z"
   },
   {
    "duration": 0,
    "start_time": "2022-03-18T18:21:26.811Z"
   },
   {
    "duration": 0,
    "start_time": "2022-03-18T18:21:26.875Z"
   },
   {
    "duration": 0,
    "start_time": "2022-03-18T18:21:26.876Z"
   },
   {
    "duration": 0,
    "start_time": "2022-03-18T18:21:26.878Z"
   },
   {
    "duration": 0,
    "start_time": "2022-03-18T18:21:26.880Z"
   },
   {
    "duration": 0,
    "start_time": "2022-03-18T18:21:26.881Z"
   },
   {
    "duration": 0,
    "start_time": "2022-03-18T18:21:26.883Z"
   },
   {
    "duration": 4,
    "start_time": "2022-03-18T18:22:19.813Z"
   },
   {
    "duration": 225,
    "start_time": "2022-03-18T18:22:22.916Z"
   },
   {
    "duration": 26,
    "start_time": "2022-03-18T18:22:30.036Z"
   },
   {
    "duration": 77,
    "start_time": "2022-03-18T18:22:48.573Z"
   },
   {
    "duration": 32,
    "start_time": "2022-03-18T18:22:52.584Z"
   },
   {
    "duration": 109,
    "start_time": "2022-03-18T18:23:51.683Z"
   },
   {
    "duration": 19,
    "start_time": "2022-03-18T18:23:57.545Z"
   },
   {
    "duration": 115,
    "start_time": "2022-03-18T18:24:02.748Z"
   },
   {
    "duration": 121,
    "start_time": "2022-03-18T18:24:18.148Z"
   },
   {
    "duration": 19,
    "start_time": "2022-03-18T18:31:58.121Z"
   },
   {
    "duration": 4,
    "start_time": "2022-03-18T19:16:45.689Z"
   },
   {
    "duration": 116,
    "start_time": "2022-03-18T19:16:45.696Z"
   },
   {
    "duration": 20,
    "start_time": "2022-03-18T19:16:45.814Z"
   },
   {
    "duration": 47,
    "start_time": "2022-03-18T19:16:45.836Z"
   },
   {
    "duration": 26,
    "start_time": "2022-03-18T19:16:45.887Z"
   },
   {
    "duration": 70,
    "start_time": "2022-03-18T19:16:45.916Z"
   },
   {
    "duration": 6,
    "start_time": "2022-03-18T19:16:45.989Z"
   },
   {
    "duration": 24,
    "start_time": "2022-03-18T19:16:45.997Z"
   },
   {
    "duration": 56,
    "start_time": "2022-03-18T19:16:46.023Z"
   },
   {
    "duration": 9,
    "start_time": "2022-03-18T19:16:46.082Z"
   },
   {
    "duration": 6,
    "start_time": "2022-03-18T19:16:46.095Z"
   },
   {
    "duration": 19,
    "start_time": "2022-03-18T19:16:46.104Z"
   },
   {
    "duration": 19,
    "start_time": "2022-03-18T19:16:46.125Z"
   },
   {
    "duration": 10,
    "start_time": "2022-03-18T19:16:46.175Z"
   },
   {
    "duration": 7,
    "start_time": "2022-03-18T19:16:46.187Z"
   },
   {
    "duration": 12,
    "start_time": "2022-03-18T19:16:46.196Z"
   },
   {
    "duration": 5,
    "start_time": "2022-03-18T19:16:46.210Z"
   },
   {
    "duration": 57,
    "start_time": "2022-03-18T19:16:46.217Z"
   },
   {
    "duration": 23,
    "start_time": "2022-03-18T19:16:46.276Z"
   },
   {
    "duration": 6,
    "start_time": "2022-03-18T19:16:46.301Z"
   },
   {
    "duration": 7,
    "start_time": "2022-03-18T19:16:46.309Z"
   },
   {
    "duration": 56,
    "start_time": "2022-03-18T19:16:46.318Z"
   },
   {
    "duration": 5,
    "start_time": "2022-03-18T19:16:46.376Z"
   },
   {
    "duration": 35,
    "start_time": "2022-03-18T19:16:46.383Z"
   },
   {
    "duration": 25,
    "start_time": "2022-03-18T19:16:46.420Z"
   },
   {
    "duration": 46,
    "start_time": "2022-03-18T19:16:46.447Z"
   },
   {
    "duration": 33,
    "start_time": "2022-03-18T19:16:46.494Z"
   },
   {
    "duration": 22,
    "start_time": "2022-03-18T19:16:46.529Z"
   },
   {
    "duration": 28,
    "start_time": "2022-03-18T19:16:46.579Z"
   },
   {
    "duration": 25,
    "start_time": "2022-03-18T19:16:46.610Z"
   },
   {
    "duration": 46,
    "start_time": "2022-03-18T19:16:46.637Z"
   },
   {
    "duration": 27,
    "start_time": "2022-03-18T19:16:46.685Z"
   },
   {
    "duration": 17,
    "start_time": "2022-03-18T19:16:46.715Z"
   },
   {
    "duration": 20,
    "start_time": "2022-03-18T19:16:46.734Z"
   },
   {
    "duration": 27,
    "start_time": "2022-03-18T19:16:46.756Z"
   },
   {
    "duration": 18,
    "start_time": "2022-03-18T19:16:46.785Z"
   },
   {
    "duration": 24,
    "start_time": "2022-03-18T19:16:46.805Z"
   },
   {
    "duration": 43,
    "start_time": "2022-03-18T19:16:46.832Z"
   },
   {
    "duration": 17,
    "start_time": "2022-03-18T19:16:46.877Z"
   },
   {
    "duration": 19,
    "start_time": "2022-03-18T19:16:46.896Z"
   },
   {
    "duration": 60,
    "start_time": "2022-03-18T19:16:46.917Z"
   },
   {
    "duration": 16,
    "start_time": "2022-03-18T19:16:46.980Z"
   },
   {
    "duration": 28,
    "start_time": "2022-03-18T19:16:46.999Z"
   },
   {
    "duration": 5,
    "start_time": "2022-03-18T19:16:47.030Z"
   },
   {
    "duration": 31,
    "start_time": "2022-03-18T19:16:47.073Z"
   },
   {
    "duration": 17,
    "start_time": "2022-03-18T19:16:47.108Z"
   },
   {
    "duration": 52,
    "start_time": "2022-03-18T19:16:47.127Z"
   },
   {
    "duration": 44,
    "start_time": "2022-03-18T19:16:47.182Z"
   },
   {
    "duration": 20,
    "start_time": "2022-03-18T19:16:47.229Z"
   },
   {
    "duration": 49,
    "start_time": "2022-03-18T19:16:47.252Z"
   },
   {
    "duration": 12,
    "start_time": "2022-03-18T19:16:47.303Z"
   },
   {
    "duration": 7,
    "start_time": "2022-03-18T19:16:47.317Z"
   },
   {
    "duration": 12,
    "start_time": "2022-03-18T19:16:47.327Z"
   },
   {
    "duration": 37,
    "start_time": "2022-03-18T19:16:47.341Z"
   },
   {
    "duration": 16,
    "start_time": "2022-03-18T19:16:47.380Z"
   },
   {
    "duration": 14,
    "start_time": "2022-03-18T19:16:47.399Z"
   },
   {
    "duration": 27,
    "start_time": "2022-03-18T19:16:47.415Z"
   },
   {
    "duration": 34,
    "start_time": "2022-03-18T19:16:47.444Z"
   },
   {
    "duration": 19,
    "start_time": "2022-03-18T19:16:47.480Z"
   },
   {
    "duration": 21,
    "start_time": "2022-03-18T19:16:47.501Z"
   },
   {
    "duration": 16,
    "start_time": "2022-03-18T19:16:47.524Z"
   },
   {
    "duration": 33,
    "start_time": "2022-03-18T19:16:47.542Z"
   },
   {
    "duration": 18,
    "start_time": "2022-03-18T19:19:13.708Z"
   },
   {
    "duration": 17,
    "start_time": "2022-03-18T19:29:40.691Z"
   },
   {
    "duration": 21,
    "start_time": "2022-03-18T19:29:45.893Z"
   },
   {
    "duration": 25,
    "start_time": "2022-03-18T19:29:49.220Z"
   },
   {
    "duration": 22,
    "start_time": "2022-03-18T19:33:21.859Z"
   },
   {
    "duration": 22,
    "start_time": "2022-03-18T19:33:24.212Z"
   },
   {
    "duration": 19,
    "start_time": "2022-03-18T19:33:34.020Z"
   },
   {
    "duration": 1643,
    "start_time": "2022-03-18T19:50:50.199Z"
   },
   {
    "duration": 1687,
    "start_time": "2022-03-18T19:50:57.256Z"
   },
   {
    "duration": 44,
    "start_time": "2022-03-20T07:34:15.091Z"
   },
   {
    "duration": 414,
    "start_time": "2022-03-20T07:35:18.061Z"
   },
   {
    "duration": 465,
    "start_time": "2022-03-20T07:35:18.477Z"
   },
   {
    "duration": 19,
    "start_time": "2022-03-20T07:35:18.944Z"
   },
   {
    "duration": 10,
    "start_time": "2022-03-20T07:35:18.965Z"
   },
   {
    "duration": 17,
    "start_time": "2022-03-20T07:35:18.976Z"
   },
   {
    "duration": 9,
    "start_time": "2022-03-20T07:35:18.994Z"
   },
   {
    "duration": 3,
    "start_time": "2022-03-20T07:35:19.005Z"
   },
   {
    "duration": 15,
    "start_time": "2022-03-20T07:35:19.009Z"
   },
   {
    "duration": 15,
    "start_time": "2022-03-20T07:35:19.026Z"
   },
   {
    "duration": 45,
    "start_time": "2022-03-20T07:35:19.043Z"
   },
   {
    "duration": 6,
    "start_time": "2022-03-20T07:35:19.090Z"
   },
   {
    "duration": 8,
    "start_time": "2022-03-20T07:35:19.097Z"
   },
   {
    "duration": 7,
    "start_time": "2022-03-20T07:35:19.106Z"
   },
   {
    "duration": 6,
    "start_time": "2022-03-20T07:35:19.115Z"
   },
   {
    "duration": 10,
    "start_time": "2022-03-20T07:35:19.122Z"
   },
   {
    "duration": 7,
    "start_time": "2022-03-20T07:35:19.133Z"
   },
   {
    "duration": 3,
    "start_time": "2022-03-20T07:35:19.141Z"
   },
   {
    "duration": 35,
    "start_time": "2022-03-20T07:35:19.146Z"
   },
   {
    "duration": 16,
    "start_time": "2022-03-20T07:35:19.183Z"
   },
   {
    "duration": 5,
    "start_time": "2022-03-20T07:35:19.201Z"
   },
   {
    "duration": 8,
    "start_time": "2022-03-20T07:35:19.207Z"
   },
   {
    "duration": 5,
    "start_time": "2022-03-20T07:35:19.216Z"
   },
   {
    "duration": 13,
    "start_time": "2022-03-20T07:35:19.222Z"
   },
   {
    "duration": 51,
    "start_time": "2022-03-20T07:35:19.237Z"
   },
   {
    "duration": 13,
    "start_time": "2022-03-20T07:35:19.290Z"
   },
   {
    "duration": 19,
    "start_time": "2022-03-20T07:35:19.304Z"
   },
   {
    "duration": 15,
    "start_time": "2022-03-20T07:35:19.325Z"
   },
   {
    "duration": 42,
    "start_time": "2022-03-20T07:35:19.343Z"
   },
   {
    "duration": 12,
    "start_time": "2022-03-20T07:35:19.387Z"
   },
   {
    "duration": 13,
    "start_time": "2022-03-20T07:35:19.401Z"
   },
   {
    "duration": 9,
    "start_time": "2022-03-20T07:35:19.415Z"
   },
   {
    "duration": 14,
    "start_time": "2022-03-20T07:35:19.425Z"
   },
   {
    "duration": 9,
    "start_time": "2022-03-20T07:35:19.440Z"
   },
   {
    "duration": 33,
    "start_time": "2022-03-20T07:35:19.451Z"
   },
   {
    "duration": 9,
    "start_time": "2022-03-20T07:35:19.486Z"
   },
   {
    "duration": 9,
    "start_time": "2022-03-20T07:35:19.496Z"
   },
   {
    "duration": 9,
    "start_time": "2022-03-20T07:35:19.507Z"
   },
   {
    "duration": 7,
    "start_time": "2022-03-20T07:35:19.517Z"
   },
   {
    "duration": 8,
    "start_time": "2022-03-20T07:35:19.525Z"
   },
   {
    "duration": 8,
    "start_time": "2022-03-20T07:35:19.534Z"
   },
   {
    "duration": 7,
    "start_time": "2022-03-20T07:35:19.580Z"
   },
   {
    "duration": 10,
    "start_time": "2022-03-20T07:35:19.589Z"
   },
   {
    "duration": 13,
    "start_time": "2022-03-20T07:35:19.600Z"
   },
   {
    "duration": 3,
    "start_time": "2022-03-20T07:35:19.615Z"
   },
   {
    "duration": 19,
    "start_time": "2022-03-20T07:35:19.619Z"
   },
   {
    "duration": 43,
    "start_time": "2022-03-20T07:35:19.639Z"
   },
   {
    "duration": 8,
    "start_time": "2022-03-20T07:35:19.684Z"
   },
   {
    "duration": 8,
    "start_time": "2022-03-20T07:35:19.693Z"
   },
   {
    "duration": 3,
    "start_time": "2022-03-20T07:35:19.703Z"
   },
   {
    "duration": 23,
    "start_time": "2022-03-20T07:35:19.707Z"
   },
   {
    "duration": 6,
    "start_time": "2022-03-20T07:35:19.731Z"
   },
   {
    "duration": 43,
    "start_time": "2022-03-20T07:35:19.739Z"
   },
   {
    "duration": 5,
    "start_time": "2022-03-20T07:35:19.783Z"
   },
   {
    "duration": 6,
    "start_time": "2022-03-20T07:35:19.790Z"
   },
   {
    "duration": 7,
    "start_time": "2022-03-20T07:35:19.797Z"
   },
   {
    "duration": 5,
    "start_time": "2022-03-20T07:35:19.806Z"
   },
   {
    "duration": 8,
    "start_time": "2022-03-20T07:35:19.812Z"
   },
   {
    "duration": 4,
    "start_time": "2022-03-20T07:35:19.822Z"
   },
   {
    "duration": 6,
    "start_time": "2022-03-20T07:35:19.827Z"
   },
   {
    "duration": 7,
    "start_time": "2022-03-20T07:35:19.881Z"
   },
   {
    "duration": 7,
    "start_time": "2022-03-20T07:35:19.890Z"
   },
   {
    "duration": 6,
    "start_time": "2022-03-20T07:35:19.898Z"
   },
   {
    "duration": 3,
    "start_time": "2022-03-20T07:48:01.066Z"
   },
   {
    "duration": 14,
    "start_time": "2022-03-20T10:28:29.840Z"
   },
   {
    "duration": 13,
    "start_time": "2022-03-20T10:36:22.084Z"
   },
   {
    "duration": 14,
    "start_time": "2022-03-20T10:47:14.662Z"
   },
   {
    "duration": 197,
    "start_time": "2022-03-20T10:49:33.628Z"
   },
   {
    "duration": 179,
    "start_time": "2022-03-20T10:49:49.351Z"
   },
   {
    "duration": 14,
    "start_time": "2022-03-20T10:59:33.610Z"
   },
   {
    "duration": 15,
    "start_time": "2022-03-20T11:01:33.487Z"
   },
   {
    "duration": 20,
    "start_time": "2022-03-20T11:01:48.014Z"
   },
   {
    "duration": 12,
    "start_time": "2022-03-20T11:02:11.214Z"
   },
   {
    "duration": 14,
    "start_time": "2022-03-20T12:47:45.818Z"
   },
   {
    "duration": 4,
    "start_time": "2022-03-20T18:23:05.414Z"
   },
   {
    "duration": 455,
    "start_time": "2022-03-20T19:36:12.113Z"
   },
   {
    "duration": 228,
    "start_time": "2022-03-20T19:36:12.570Z"
   },
   {
    "duration": 22,
    "start_time": "2022-03-20T19:36:12.800Z"
   },
   {
    "duration": 18,
    "start_time": "2022-03-20T19:36:12.824Z"
   },
   {
    "duration": 18,
    "start_time": "2022-03-20T19:36:12.844Z"
   },
   {
    "duration": 13,
    "start_time": "2022-03-20T19:36:12.864Z"
   },
   {
    "duration": 4,
    "start_time": "2022-03-20T19:36:12.879Z"
   },
   {
    "duration": 48,
    "start_time": "2022-03-20T19:36:12.885Z"
   },
   {
    "duration": 16,
    "start_time": "2022-03-20T19:36:12.935Z"
   },
   {
    "duration": 5,
    "start_time": "2022-03-20T19:36:12.953Z"
   },
   {
    "duration": 6,
    "start_time": "2022-03-20T19:36:12.960Z"
   },
   {
    "duration": 4,
    "start_time": "2022-03-20T19:36:12.968Z"
   },
   {
    "duration": 6,
    "start_time": "2022-03-20T19:36:12.974Z"
   },
   {
    "duration": 49,
    "start_time": "2022-03-20T19:36:12.982Z"
   },
   {
    "duration": 6,
    "start_time": "2022-03-20T19:36:13.033Z"
   },
   {
    "duration": 9,
    "start_time": "2022-03-20T19:36:13.041Z"
   },
   {
    "duration": 5,
    "start_time": "2022-03-20T19:36:13.052Z"
   },
   {
    "duration": 6,
    "start_time": "2022-03-20T19:36:13.059Z"
   },
   {
    "duration": 17,
    "start_time": "2022-03-20T19:36:13.067Z"
   },
   {
    "duration": 6,
    "start_time": "2022-03-20T19:36:13.086Z"
   },
   {
    "duration": 42,
    "start_time": "2022-03-20T19:36:13.094Z"
   },
   {
    "duration": 5,
    "start_time": "2022-03-20T19:36:13.138Z"
   },
   {
    "duration": 17,
    "start_time": "2022-03-20T19:36:13.145Z"
   },
   {
    "duration": 15,
    "start_time": "2022-03-20T19:36:13.164Z"
   },
   {
    "duration": 18,
    "start_time": "2022-03-20T19:36:13.181Z"
   },
   {
    "duration": 43,
    "start_time": "2022-03-20T19:36:13.201Z"
   },
   {
    "duration": 20,
    "start_time": "2022-03-20T19:36:13.246Z"
   },
   {
    "duration": 16,
    "start_time": "2022-03-20T19:36:13.270Z"
   },
   {
    "duration": 14,
    "start_time": "2022-03-20T19:36:13.288Z"
   },
   {
    "duration": 38,
    "start_time": "2022-03-20T19:36:13.304Z"
   },
   {
    "duration": 7,
    "start_time": "2022-03-20T19:36:13.344Z"
   },
   {
    "duration": 14,
    "start_time": "2022-03-20T19:36:13.353Z"
   },
   {
    "duration": 10,
    "start_time": "2022-03-20T19:36:13.369Z"
   },
   {
    "duration": 9,
    "start_time": "2022-03-20T19:36:13.381Z"
   },
   {
    "duration": 41,
    "start_time": "2022-03-20T19:36:13.392Z"
   },
   {
    "duration": 11,
    "start_time": "2022-03-20T19:36:13.435Z"
   },
   {
    "duration": 11,
    "start_time": "2022-03-20T19:36:13.448Z"
   },
   {
    "duration": 13,
    "start_time": "2022-03-20T19:36:13.461Z"
   },
   {
    "duration": 11,
    "start_time": "2022-03-20T19:36:13.476Z"
   },
   {
    "duration": 10,
    "start_time": "2022-03-20T19:36:13.489Z"
   },
   {
    "duration": 6,
    "start_time": "2022-03-20T19:36:13.532Z"
   },
   {
    "duration": 10,
    "start_time": "2022-03-20T19:36:13.540Z"
   },
   {
    "duration": 19,
    "start_time": "2022-03-20T19:36:13.552Z"
   },
   {
    "duration": 4,
    "start_time": "2022-03-20T19:36:13.573Z"
   },
   {
    "duration": 39,
    "start_time": "2022-03-20T19:36:13.579Z"
   },
   {
    "duration": 11,
    "start_time": "2022-03-20T19:36:13.631Z"
   },
   {
    "duration": 10,
    "start_time": "2022-03-20T19:36:13.643Z"
   },
   {
    "duration": 9,
    "start_time": "2022-03-20T19:36:13.655Z"
   },
   {
    "duration": 6,
    "start_time": "2022-03-20T19:36:13.666Z"
   },
   {
    "duration": 25,
    "start_time": "2022-03-20T19:36:13.674Z"
   },
   {
    "duration": 33,
    "start_time": "2022-03-20T19:36:13.701Z"
   },
   {
    "duration": 7,
    "start_time": "2022-03-20T19:36:13.736Z"
   },
   {
    "duration": 6,
    "start_time": "2022-03-20T19:36:13.745Z"
   },
   {
    "duration": 5,
    "start_time": "2022-03-20T19:36:13.753Z"
   },
   {
    "duration": 11,
    "start_time": "2022-03-20T19:36:13.760Z"
   },
   {
    "duration": 15,
    "start_time": "2022-03-20T19:36:13.773Z"
   },
   {
    "duration": 53,
    "start_time": "2022-03-20T19:36:13.790Z"
   },
   {
    "duration": 5,
    "start_time": "2022-03-20T19:36:13.845Z"
   },
   {
    "duration": 19,
    "start_time": "2022-03-20T19:36:13.851Z"
   },
   {
    "duration": 15,
    "start_time": "2022-03-20T19:36:13.871Z"
   },
   {
    "duration": 13,
    "start_time": "2022-03-20T19:36:13.887Z"
   },
   {
    "duration": 44,
    "start_time": "2022-03-20T19:36:13.902Z"
   },
   {
    "duration": 5,
    "start_time": "2022-03-20T19:36:13.947Z"
   },
   {
    "duration": 420,
    "start_time": "2022-03-20T19:36:47.051Z"
   },
   {
    "duration": 149,
    "start_time": "2022-03-20T19:36:47.472Z"
   },
   {
    "duration": 21,
    "start_time": "2022-03-20T19:36:47.623Z"
   },
   {
    "duration": 11,
    "start_time": "2022-03-20T19:36:47.646Z"
   },
   {
    "duration": 26,
    "start_time": "2022-03-20T19:36:47.659Z"
   },
   {
    "duration": 11,
    "start_time": "2022-03-20T19:36:47.687Z"
   },
   {
    "duration": 3,
    "start_time": "2022-03-20T19:36:47.699Z"
   },
   {
    "duration": 14,
    "start_time": "2022-03-20T19:36:47.732Z"
   },
   {
    "duration": 16,
    "start_time": "2022-03-20T19:36:47.748Z"
   },
   {
    "duration": 5,
    "start_time": "2022-03-20T19:36:47.767Z"
   },
   {
    "duration": 6,
    "start_time": "2022-03-20T19:36:47.774Z"
   },
   {
    "duration": 7,
    "start_time": "2022-03-20T19:36:47.782Z"
   },
   {
    "duration": 11,
    "start_time": "2022-03-20T19:36:47.791Z"
   },
   {
    "duration": 6,
    "start_time": "2022-03-20T19:36:47.832Z"
   },
   {
    "duration": 14,
    "start_time": "2022-03-20T19:36:47.839Z"
   },
   {
    "duration": 8,
    "start_time": "2022-03-20T19:36:47.855Z"
   },
   {
    "duration": 4,
    "start_time": "2022-03-20T19:36:47.865Z"
   },
   {
    "duration": 8,
    "start_time": "2022-03-20T19:36:47.871Z"
   },
   {
    "duration": 20,
    "start_time": "2022-03-20T19:36:47.880Z"
   },
   {
    "duration": 30,
    "start_time": "2022-03-20T19:36:47.902Z"
   },
   {
    "duration": 6,
    "start_time": "2022-03-20T19:36:47.933Z"
   },
   {
    "duration": 5,
    "start_time": "2022-03-20T19:36:47.941Z"
   },
   {
    "duration": 17,
    "start_time": "2022-03-20T19:36:47.947Z"
   },
   {
    "duration": 16,
    "start_time": "2022-03-20T19:36:47.966Z"
   },
   {
    "duration": 48,
    "start_time": "2022-03-20T19:36:47.984Z"
   },
   {
    "duration": 15,
    "start_time": "2022-03-20T19:36:48.034Z"
   },
   {
    "duration": 17,
    "start_time": "2022-03-20T19:36:48.051Z"
   },
   {
    "duration": 15,
    "start_time": "2022-03-20T19:36:48.072Z"
   },
   {
    "duration": 13,
    "start_time": "2022-03-20T19:36:48.089Z"
   },
   {
    "duration": 14,
    "start_time": "2022-03-20T19:36:48.132Z"
   },
   {
    "duration": 9,
    "start_time": "2022-03-20T19:36:48.148Z"
   },
   {
    "duration": 14,
    "start_time": "2022-03-20T19:36:48.158Z"
   },
   {
    "duration": 14,
    "start_time": "2022-03-20T19:36:48.174Z"
   },
   {
    "duration": 10,
    "start_time": "2022-03-20T19:36:48.191Z"
   },
   {
    "duration": 30,
    "start_time": "2022-03-20T19:36:48.203Z"
   },
   {
    "duration": 12,
    "start_time": "2022-03-20T19:36:48.235Z"
   },
   {
    "duration": 11,
    "start_time": "2022-03-20T19:36:48.249Z"
   },
   {
    "duration": 11,
    "start_time": "2022-03-20T19:36:48.262Z"
   },
   {
    "duration": 10,
    "start_time": "2022-03-20T19:36:48.274Z"
   },
   {
    "duration": 11,
    "start_time": "2022-03-20T19:36:48.286Z"
   },
   {
    "duration": 39,
    "start_time": "2022-03-20T19:36:48.298Z"
   },
   {
    "duration": 11,
    "start_time": "2022-03-20T19:36:48.339Z"
   },
   {
    "duration": 14,
    "start_time": "2022-03-20T19:36:48.351Z"
   },
   {
    "duration": 3,
    "start_time": "2022-03-20T19:36:48.367Z"
   },
   {
    "duration": 24,
    "start_time": "2022-03-20T19:36:48.372Z"
   },
   {
    "duration": 43,
    "start_time": "2022-03-20T19:36:48.397Z"
   },
   {
    "duration": 9,
    "start_time": "2022-03-20T19:36:48.441Z"
   },
   {
    "duration": 12,
    "start_time": "2022-03-20T19:36:48.451Z"
   },
   {
    "duration": 8,
    "start_time": "2022-03-20T19:36:48.464Z"
   },
   {
    "duration": 27,
    "start_time": "2022-03-20T19:36:48.474Z"
   },
   {
    "duration": 28,
    "start_time": "2022-03-20T19:36:48.503Z"
   },
   {
    "duration": 7,
    "start_time": "2022-03-20T19:36:48.533Z"
   },
   {
    "duration": 6,
    "start_time": "2022-03-20T19:36:48.542Z"
   },
   {
    "duration": 5,
    "start_time": "2022-03-20T19:36:48.550Z"
   },
   {
    "duration": 7,
    "start_time": "2022-03-20T19:36:48.557Z"
   },
   {
    "duration": 9,
    "start_time": "2022-03-20T19:36:48.566Z"
   },
   {
    "duration": 16,
    "start_time": "2022-03-20T19:36:48.577Z"
   },
   {
    "duration": 42,
    "start_time": "2022-03-20T19:36:48.594Z"
   },
   {
    "duration": 17,
    "start_time": "2022-03-20T19:36:48.637Z"
   },
   {
    "duration": 15,
    "start_time": "2022-03-20T19:36:48.656Z"
   },
   {
    "duration": 13,
    "start_time": "2022-03-20T19:36:48.673Z"
   },
   {
    "duration": 49,
    "start_time": "2022-03-20T19:36:48.687Z"
   },
   {
    "duration": 4,
    "start_time": "2022-03-20T19:36:48.738Z"
   },
   {
    "duration": 167,
    "start_time": "2022-03-20T19:45:42.121Z"
   },
   {
    "duration": 412,
    "start_time": "2022-03-20T19:45:50.867Z"
   },
   {
    "duration": 172,
    "start_time": "2022-03-20T19:45:51.281Z"
   },
   {
    "duration": 21,
    "start_time": "2022-03-20T19:45:51.454Z"
   },
   {
    "duration": 11,
    "start_time": "2022-03-20T19:45:51.477Z"
   },
   {
    "duration": 20,
    "start_time": "2022-03-20T19:45:51.490Z"
   },
   {
    "duration": 29,
    "start_time": "2022-03-20T19:45:51.512Z"
   },
   {
    "duration": 4,
    "start_time": "2022-03-20T19:45:51.542Z"
   },
   {
    "duration": 15,
    "start_time": "2022-03-20T19:45:51.547Z"
   },
   {
    "duration": 16,
    "start_time": "2022-03-20T19:45:51.564Z"
   },
   {
    "duration": 5,
    "start_time": "2022-03-20T19:45:51.583Z"
   },
   {
    "duration": 7,
    "start_time": "2022-03-20T19:45:51.589Z"
   },
   {
    "duration": 37,
    "start_time": "2022-03-20T19:45:51.598Z"
   },
   {
    "duration": 7,
    "start_time": "2022-03-20T19:45:51.637Z"
   },
   {
    "duration": 5,
    "start_time": "2022-03-20T19:45:51.646Z"
   },
   {
    "duration": 5,
    "start_time": "2022-03-20T19:45:51.652Z"
   },
   {
    "duration": 6,
    "start_time": "2022-03-20T19:45:51.658Z"
   },
   {
    "duration": 6,
    "start_time": "2022-03-20T19:45:51.666Z"
   },
   {
    "duration": 4,
    "start_time": "2022-03-20T19:45:51.673Z"
   },
   {
    "duration": 18,
    "start_time": "2022-03-20T19:45:51.678Z"
   },
   {
    "duration": 5,
    "start_time": "2022-03-20T19:45:51.731Z"
   },
   {
    "duration": 7,
    "start_time": "2022-03-20T19:45:51.737Z"
   },
   {
    "duration": 5,
    "start_time": "2022-03-20T19:45:51.746Z"
   },
   {
    "duration": 16,
    "start_time": "2022-03-20T19:45:51.752Z"
   },
   {
    "duration": 16,
    "start_time": "2022-03-20T19:45:51.770Z"
   },
   {
    "duration": 45,
    "start_time": "2022-03-20T19:45:51.788Z"
   },
   {
    "duration": 15,
    "start_time": "2022-03-20T19:45:51.834Z"
   },
   {
    "duration": 16,
    "start_time": "2022-03-20T19:45:51.851Z"
   },
   {
    "duration": 16,
    "start_time": "2022-03-20T19:45:51.871Z"
   },
   {
    "duration": 44,
    "start_time": "2022-03-20T19:45:51.889Z"
   },
   {
    "duration": 16,
    "start_time": "2022-03-20T19:45:51.935Z"
   },
   {
    "duration": 13,
    "start_time": "2022-03-20T19:45:51.953Z"
   },
   {
    "duration": 21,
    "start_time": "2022-03-20T19:45:51.967Z"
   },
   {
    "duration": 13,
    "start_time": "2022-03-20T19:45:51.990Z"
   },
   {
    "duration": 32,
    "start_time": "2022-03-20T19:45:52.005Z"
   },
   {
    "duration": 14,
    "start_time": "2022-03-20T19:45:52.039Z"
   },
   {
    "duration": 11,
    "start_time": "2022-03-20T19:45:52.055Z"
   },
   {
    "duration": 10,
    "start_time": "2022-03-20T19:45:52.068Z"
   },
   {
    "duration": 13,
    "start_time": "2022-03-20T19:45:52.080Z"
   },
   {
    "duration": 10,
    "start_time": "2022-03-20T19:45:52.095Z"
   },
   {
    "duration": 32,
    "start_time": "2022-03-20T19:45:52.106Z"
   },
   {
    "duration": 11,
    "start_time": "2022-03-20T19:45:52.139Z"
   },
   {
    "duration": 12,
    "start_time": "2022-03-20T19:45:52.151Z"
   },
   {
    "duration": 14,
    "start_time": "2022-03-20T19:45:52.165Z"
   },
   {
    "duration": 4,
    "start_time": "2022-03-20T19:45:52.180Z"
   },
   {
    "duration": 26,
    "start_time": "2022-03-20T19:45:52.185Z"
   },
   {
    "duration": 11,
    "start_time": "2022-03-20T19:45:52.232Z"
   },
   {
    "duration": 9,
    "start_time": "2022-03-20T19:45:52.245Z"
   },
   {
    "duration": 11,
    "start_time": "2022-03-20T19:45:52.255Z"
   },
   {
    "duration": 6,
    "start_time": "2022-03-20T19:45:52.267Z"
   },
   {
    "duration": 26,
    "start_time": "2022-03-20T19:45:52.274Z"
   },
   {
    "duration": 32,
    "start_time": "2022-03-20T19:45:52.302Z"
   },
   {
    "duration": 9,
    "start_time": "2022-03-20T19:45:52.336Z"
   },
   {
    "duration": 11,
    "start_time": "2022-03-20T19:45:52.346Z"
   },
   {
    "duration": 12,
    "start_time": "2022-03-20T19:45:52.359Z"
   },
   {
    "duration": 8,
    "start_time": "2022-03-20T19:45:52.373Z"
   },
   {
    "duration": 13,
    "start_time": "2022-03-20T19:45:52.382Z"
   },
   {
    "duration": 17,
    "start_time": "2022-03-20T19:45:52.397Z"
   },
   {
    "duration": 20,
    "start_time": "2022-03-20T19:45:52.416Z"
   },
   {
    "duration": 16,
    "start_time": "2022-03-20T19:45:52.438Z"
   },
   {
    "duration": 15,
    "start_time": "2022-03-20T19:45:52.455Z"
   },
   {
    "duration": 16,
    "start_time": "2022-03-20T19:45:52.472Z"
   },
   {
    "duration": 44,
    "start_time": "2022-03-20T19:45:52.489Z"
   },
   {
    "duration": 4,
    "start_time": "2022-03-20T19:45:52.535Z"
   }
  ],
  "kernelspec": {
   "display_name": "Python 3 (ipykernel)",
   "language": "python",
   "name": "python3"
  },
  "language_info": {
   "codemirror_mode": {
    "name": "ipython",
    "version": 3
   },
   "file_extension": ".py",
   "mimetype": "text/x-python",
   "name": "python",
   "nbconvert_exporter": "python",
   "pygments_lexer": "ipython3",
   "version": "3.9.7"
  },
  "toc": {
   "base_numbering": 1,
   "nav_menu": {
    "height": "248px",
    "width": "304px"
   },
   "number_sections": true,
   "sideBar": true,
   "skip_h1_title": true,
   "title_cell": "Table of Contents",
   "title_sidebar": "Contents",
   "toc_cell": false,
   "toc_position": {
    "height": "calc(100% - 180px)",
    "left": "10px",
    "top": "150px",
    "width": "366.391px"
   },
   "toc_section_display": true,
   "toc_window_display": false
  }
 },
 "nbformat": 4,
 "nbformat_minor": 5
}
